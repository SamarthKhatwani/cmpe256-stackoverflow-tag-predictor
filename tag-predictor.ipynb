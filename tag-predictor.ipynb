{
 "cells": [
  {
   "cell_type": "code",
<<<<<<< HEAD
   "execution_count": 262,
=======
   "execution_count": 98,
>>>>>>> 0d6e1abbff3fa3e26cbda721ef97cc81ff0e7650
   "metadata": {},
   "outputs": [],
   "source": [
    "import pandas as pd\n",
    "import numpy as np\n",
    "import matplotlib.pyplot as plt\n",
    "import matplotlib.lines as mlines\n",
    "import seaborn as sns\n",
    "import warnings\n",
    "import pickle\n",
    "import time\n",
    "import re\n",
    "from bs4 import BeautifulSoup\n",
    "import nltk\n",
    "from nltk.tokenize import ToktokTokenizer\n",
    "from nltk.stem.wordnet import WordNetLemmatizer\n",
    "from nltk.corpus import stopwords\n",
    "from string import punctuation\n",
    "from sklearn.feature_extraction.text import TfidfVectorizer\n",
    "from sklearn.decomposition import LatentDirichletAllocation\n",
    "from sklearn.preprocessing import MultiLabelBinarizer\n",
    "from sklearn.model_selection import train_test_split\n",
    "from sklearn.model_selection import learning_curve\n",
    "from sklearn.model_selection import ShuffleSplit\n",
    "from sklearn.dummy import DummyClassifier\n",
    "from sklearn.naive_bayes import MultinomialNB\n",
    "from sklearn.linear_model import SGDClassifier\n",
    "from sklearn.linear_model import LogisticRegression\n",
    "from sklearn.multiclass import OneVsRestClassifier\n",
    "from sklearn.svm import LinearSVC\n",
    "from sklearn.linear_model import Perceptron\n",
    "from sklearn.linear_model import PassiveAggressiveClassifier\n",
    "from sklearn.neural_network import MLPClassifier\n",
    "from sklearn.ensemble import RandomForestClassifier\n",
    "from sklearn import model_selection\n",
    "from sklearn.metrics import make_scorer\n",
    "from sklearn.metrics import confusion_matrix\n",
    "from sklearn.metrics import hamming_loss\n",
    "from sklearn.cluster import KMeans\n",
    "import logging\n",
    "from scipy.sparse import hstack\n",
    "warnings.filterwarnings(\"ignore\")\n",
    "plt.style.use('bmh')\n",
    "%matplotlib inline"
   ]
  },
  {
   "cell_type": "code",
<<<<<<< HEAD
   "execution_count": 270,
=======
   "execution_count": 99,
>>>>>>> 0d6e1abbff3fa3e26cbda721ef97cc81ff0e7650
   "metadata": {},
   "outputs": [],
   "source": [
    "# Setting a random seed in order to keep the same random results each time I run the notebook\n",
    "np.random.seed(seed=11)"
   ]
  },
  {
   "cell_type": "code",
<<<<<<< HEAD
   "execution_count": 271,
=======
   "execution_count": 100,
>>>>>>> 0d6e1abbff3fa3e26cbda721ef97cc81ff0e7650
   "metadata": {},
   "outputs": [
    {
     "name": "stdout",
     "output_type": "stream",
     "text": [
      "['.DS_Store', 'Answers.csv', 'Tags.csv', 'Questions.csv']\n"
     ]
    }
   ],
   "source": [
    "import os \n",
    "os.curdir\n",
    "data_directory ='./data/stacksample'\n",
    "print(os.listdir(data_directory))"
   ]
  },
  {
   "cell_type": "code",
<<<<<<< HEAD
   "execution_count": 272,
=======
   "execution_count": 101,
>>>>>>> 0d6e1abbff3fa3e26cbda721ef97cc81ff0e7650
   "metadata": {},
   "outputs": [
    {
     "name": "stdout",
     "output_type": "stream",
     "text": [
      "./data/stacksample/Questions.csv\n"
     ]
    }
   ],
   "source": [
    "questions_csv_directory = data_directory+\"/Questions.csv\"\n",
    "print(questions_csv_directory)\n"
   ]
  },
  {
   "cell_type": "code",
<<<<<<< HEAD
   "execution_count": 273,
=======
   "execution_count": 102,
>>>>>>> 0d6e1abbff3fa3e26cbda721ef97cc81ff0e7650
   "metadata": {},
   "outputs": [],
   "source": [
    "questions = pd.read_csv(\"./data/stacksample/Questions.csv\", encoding=\"ISO-8859-1\")"
   ]
  },
  {
   "cell_type": "code",
<<<<<<< HEAD
   "execution_count": 274,
=======
   "execution_count": 103,
>>>>>>> 0d6e1abbff3fa3e26cbda721ef97cc81ff0e7650
   "metadata": {},
   "outputs": [
    {
     "data": {
      "text/html": [
       "<div>\n",
       "<style scoped>\n",
       "    .dataframe tbody tr th:only-of-type {\n",
       "        vertical-align: middle;\n",
       "    }\n",
       "\n",
       "    .dataframe tbody tr th {\n",
       "        vertical-align: top;\n",
       "    }\n",
       "\n",
       "    .dataframe thead th {\n",
       "        text-align: right;\n",
       "    }\n",
       "</style>\n",
       "<table border=\"1\" class=\"dataframe\">\n",
       "  <thead>\n",
       "    <tr style=\"text-align: right;\">\n",
       "      <th></th>\n",
       "      <th>Id</th>\n",
       "      <th>OwnerUserId</th>\n",
       "      <th>CreationDate</th>\n",
       "      <th>ClosedDate</th>\n",
       "      <th>Score</th>\n",
       "      <th>Title</th>\n",
       "      <th>Body</th>\n",
       "    </tr>\n",
       "  </thead>\n",
       "  <tbody>\n",
       "    <tr>\n",
       "      <th>0</th>\n",
       "      <td>80</td>\n",
       "      <td>26.0</td>\n",
       "      <td>2008-08-01T13:57:07Z</td>\n",
       "      <td>NaN</td>\n",
       "      <td>26</td>\n",
       "      <td>SQLStatement.execute() - multiple queries in o...</td>\n",
       "      <td>&lt;p&gt;I've written a database generation script i...</td>\n",
       "    </tr>\n",
       "    <tr>\n",
       "      <th>1</th>\n",
       "      <td>90</td>\n",
       "      <td>58.0</td>\n",
       "      <td>2008-08-01T14:41:24Z</td>\n",
       "      <td>2012-12-26T03:45:49Z</td>\n",
       "      <td>144</td>\n",
       "      <td>Good branching and merging tutorials for Torto...</td>\n",
       "      <td>&lt;p&gt;Are there any really good tutorials explain...</td>\n",
       "    </tr>\n",
       "    <tr>\n",
       "      <th>2</th>\n",
       "      <td>120</td>\n",
       "      <td>83.0</td>\n",
       "      <td>2008-08-01T15:50:08Z</td>\n",
       "      <td>NaN</td>\n",
       "      <td>21</td>\n",
       "      <td>ASP.NET Site Maps</td>\n",
       "      <td>&lt;p&gt;Has anyone got experience creating &lt;strong&gt;...</td>\n",
       "    </tr>\n",
       "    <tr>\n",
       "      <th>3</th>\n",
       "      <td>180</td>\n",
       "      <td>2089740.0</td>\n",
       "      <td>2008-08-01T18:42:19Z</td>\n",
       "      <td>NaN</td>\n",
       "      <td>53</td>\n",
       "      <td>Function for creating color wheels</td>\n",
       "      <td>&lt;p&gt;This is something I've pseudo-solved many t...</td>\n",
       "    </tr>\n",
       "    <tr>\n",
       "      <th>4</th>\n",
       "      <td>260</td>\n",
       "      <td>91.0</td>\n",
       "      <td>2008-08-01T23:22:08Z</td>\n",
       "      <td>NaN</td>\n",
       "      <td>49</td>\n",
       "      <td>Adding scripting functionality to .NET applica...</td>\n",
       "      <td>&lt;p&gt;I have a little game written in C#. It uses...</td>\n",
       "    </tr>\n",
       "  </tbody>\n",
       "</table>\n",
       "</div>"
      ],
      "text/plain": [
       "    Id  OwnerUserId          CreationDate            ClosedDate  Score  \\\n",
       "0   80         26.0  2008-08-01T13:57:07Z                   NaN     26   \n",
       "1   90         58.0  2008-08-01T14:41:24Z  2012-12-26T03:45:49Z    144   \n",
       "2  120         83.0  2008-08-01T15:50:08Z                   NaN     21   \n",
       "3  180    2089740.0  2008-08-01T18:42:19Z                   NaN     53   \n",
       "4  260         91.0  2008-08-01T23:22:08Z                   NaN     49   \n",
       "\n",
       "                                               Title  \\\n",
       "0  SQLStatement.execute() - multiple queries in o...   \n",
       "1  Good branching and merging tutorials for Torto...   \n",
       "2                                  ASP.NET Site Maps   \n",
       "3                 Function for creating color wheels   \n",
       "4  Adding scripting functionality to .NET applica...   \n",
       "\n",
       "                                                Body  \n",
       "0  <p>I've written a database generation script i...  \n",
       "1  <p>Are there any really good tutorials explain...  \n",
       "2  <p>Has anyone got experience creating <strong>...  \n",
       "3  <p>This is something I've pseudo-solved many t...  \n",
       "4  <p>I have a little game written in C#. It uses...  "
      ]
     },
<<<<<<< HEAD
     "execution_count": 274,
=======
     "execution_count": 103,
>>>>>>> 0d6e1abbff3fa3e26cbda721ef97cc81ff0e7650
     "metadata": {},
     "output_type": "execute_result"
    }
   ],
   "source": [
    "questions.head()"
   ]
  },
  {
   "cell_type": "code",
<<<<<<< HEAD
   "execution_count": 275,
=======
   "execution_count": 104,
>>>>>>> 0d6e1abbff3fa3e26cbda721ef97cc81ff0e7650
   "metadata": {},
   "outputs": [],
   "source": [
    "tags = pd.read_csv(\"./data/stacksample/Tags.csv\", encoding=\"ISO-8859-1\", dtype={'Tag': str})\n"
   ]
  },
  {
   "cell_type": "code",
<<<<<<< HEAD
   "execution_count": 276,
=======
   "execution_count": 105,
>>>>>>> 0d6e1abbff3fa3e26cbda721ef97cc81ff0e7650
   "metadata": {},
   "outputs": [
    {
     "data": {
      "text/html": [
       "<div>\n",
       "<style scoped>\n",
       "    .dataframe tbody tr th:only-of-type {\n",
       "        vertical-align: middle;\n",
       "    }\n",
       "\n",
       "    .dataframe tbody tr th {\n",
       "        vertical-align: top;\n",
       "    }\n",
       "\n",
       "    .dataframe thead th {\n",
       "        text-align: right;\n",
       "    }\n",
       "</style>\n",
       "<table border=\"1\" class=\"dataframe\">\n",
       "  <thead>\n",
       "    <tr style=\"text-align: right;\">\n",
       "      <th></th>\n",
       "      <th>Id</th>\n",
       "      <th>Tag</th>\n",
       "    </tr>\n",
       "  </thead>\n",
       "  <tbody>\n",
       "    <tr>\n",
       "      <th>0</th>\n",
       "      <td>80</td>\n",
       "      <td>flex</td>\n",
       "    </tr>\n",
       "    <tr>\n",
       "      <th>1</th>\n",
       "      <td>80</td>\n",
       "      <td>actionscript-3</td>\n",
       "    </tr>\n",
       "    <tr>\n",
       "      <th>2</th>\n",
       "      <td>80</td>\n",
       "      <td>air</td>\n",
       "    </tr>\n",
       "    <tr>\n",
       "      <th>3</th>\n",
       "      <td>90</td>\n",
       "      <td>svn</td>\n",
       "    </tr>\n",
       "    <tr>\n",
       "      <th>4</th>\n",
       "      <td>90</td>\n",
       "      <td>tortoisesvn</td>\n",
       "    </tr>\n",
       "  </tbody>\n",
       "</table>\n",
       "</div>"
      ],
      "text/plain": [
       "   Id             Tag\n",
       "0  80            flex\n",
       "1  80  actionscript-3\n",
       "2  80             air\n",
       "3  90             svn\n",
       "4  90     tortoisesvn"
      ]
     },
<<<<<<< HEAD
     "execution_count": 276,
=======
     "execution_count": 105,
>>>>>>> 0d6e1abbff3fa3e26cbda721ef97cc81ff0e7650
     "metadata": {},
     "output_type": "execute_result"
    }
   ],
   "source": [
    "tags.head(5)"
   ]
  },
  {
   "cell_type": "code",
<<<<<<< HEAD
   "execution_count": 277,
=======
   "execution_count": 106,
>>>>>>> 0d6e1abbff3fa3e26cbda721ef97cc81ff0e7650
   "metadata": {},
   "outputs": [],
   "source": [
    "tags['Tag'] = tags['Tag'].astype(str)"
   ]
  },
  {
   "cell_type": "code",
<<<<<<< HEAD
   "execution_count": 278,
=======
   "execution_count": 107,
>>>>>>> 0d6e1abbff3fa3e26cbda721ef97cc81ff0e7650
   "metadata": {},
   "outputs": [
    {
     "data": {
      "text/plain": [
       "0                            flex\n",
       "1                  actionscript-3\n",
       "2                             air\n",
       "3                             svn\n",
       "4                     tortoisesvn\n",
       "5                          branch\n",
       "6           branching-and-merging\n",
       "7                             sql\n",
       "8                         asp.net\n",
       "9                         sitemap\n",
       "10                      algorithm\n",
       "11              language-agnostic\n",
       "12                         colors\n",
       "13                    color-space\n",
       "14                             c#\n",
       "15                           .net\n",
       "16                      scripting\n",
       "17          compiler-construction\n",
       "18                            c++\n",
       "19                            oop\n",
       "20                          class\n",
       "21                   nested-class\n",
       "22                           .net\n",
       "23                   web-services\n",
       "24                     sql-server\n",
       "25                sql-server-2005\n",
       "26                     deployment\n",
       "27             release-management\n",
       "28                             c#\n",
       "29                  visual-studio\n",
       "                    ...          \n",
       "3750964                      ajax\n",
       "3750965                   haskell\n",
       "3750966                     types\n",
       "3750967    functional-programming\n",
       "3750968                      agda\n",
       "3750969           lambda-calculus\n",
       "3750970                   android\n",
       "3750971          android-activity\n",
       "3750972         android-lifecycle\n",
       "3750973          spring-data-rest\n",
       "3750974                javascript\n",
       "3750975                   youtube\n",
       "3750976        youtube-iframe-api\n",
       "3750977                   laravel\n",
       "3750978                   binding\n",
       "3750979                     model\n",
       "3750980                    routes\n",
       "3750981                    python\n",
       "3750982                      bash\n",
       "3750983                 multiline\n",
       "3750984                       php\n",
       "3750985                 .htaccess\n",
       "3750986           google-bigquery\n",
       "3750987                   android\n",
       "3750988            android-studio\n",
       "3750989                javascript\n",
       "3750990                    vue.js\n",
       "3750991                       npm\n",
       "3750992                     mocha\n",
       "3750993                     babel\n",
       "Name: Tag, Length: 3750994, dtype: object"
      ]
     },
<<<<<<< HEAD
     "execution_count": 278,
=======
     "execution_count": 107,
>>>>>>> 0d6e1abbff3fa3e26cbda721ef97cc81ff0e7650
     "metadata": {},
     "output_type": "execute_result"
    }
   ],
   "source": [
    "tags['Tag']"
   ]
  },
  {
   "cell_type": "code",
<<<<<<< HEAD
   "execution_count": 279,
=======
   "execution_count": 108,
>>>>>>> 0d6e1abbff3fa3e26cbda721ef97cc81ff0e7650
   "metadata": {},
   "outputs": [],
   "source": [
    "grouped_tags = tags.groupby(\"Id\")['Tag'].apply(lambda tags: ' '.join(tags))\n"
   ]
  },
  {
   "cell_type": "code",
<<<<<<< HEAD
   "execution_count": 281,
=======
   "execution_count": 109,
>>>>>>> 0d6e1abbff3fa3e26cbda721ef97cc81ff0e7650
   "metadata": {},
   "outputs": [
    {
     "data": {
      "text/plain": [
       "Id\n",
       "80                            flex actionscript-3 air\n",
       "90       svn tortoisesvn branch branching-and-merging\n",
       "120                               sql asp.net sitemap\n",
       "180    algorithm language-agnostic colors color-space\n",
       "260           c# .net scripting compiler-construction\n",
       "Name: Tag, dtype: object"
      ]
     },
<<<<<<< HEAD
     "execution_count": 281,
=======
     "execution_count": 109,
>>>>>>> 0d6e1abbff3fa3e26cbda721ef97cc81ff0e7650
     "metadata": {},
     "output_type": "execute_result"
    }
   ],
   "source": [
    "grouped_tags.head(5)"
   ]
  },
  {
   "cell_type": "code",
<<<<<<< HEAD
   "execution_count": 282,
=======
   "execution_count": 110,
>>>>>>> 0d6e1abbff3fa3e26cbda721ef97cc81ff0e7650
   "metadata": {},
   "outputs": [
    {
     "data": {
      "text/html": [
       "<div>\n",
       "<style scoped>\n",
       "    .dataframe tbody tr th:only-of-type {\n",
       "        vertical-align: middle;\n",
       "    }\n",
       "\n",
       "    .dataframe tbody tr th {\n",
       "        vertical-align: top;\n",
       "    }\n",
       "\n",
       "    .dataframe thead th {\n",
       "        text-align: right;\n",
       "    }\n",
       "</style>\n",
       "<table border=\"1\" class=\"dataframe\">\n",
       "  <thead>\n",
       "    <tr style=\"text-align: right;\">\n",
       "      <th></th>\n",
       "      <th>Id</th>\n",
       "      <th>Tag</th>\n",
       "    </tr>\n",
       "  </thead>\n",
       "  <tbody>\n",
       "    <tr>\n",
       "      <th>0</th>\n",
       "      <td>80</td>\n",
       "      <td>flex actionscript-3 air</td>\n",
       "    </tr>\n",
       "    <tr>\n",
       "      <th>1</th>\n",
       "      <td>90</td>\n",
       "      <td>svn tortoisesvn branch branching-and-merging</td>\n",
       "    </tr>\n",
       "    <tr>\n",
       "      <th>2</th>\n",
       "      <td>120</td>\n",
       "      <td>sql asp.net sitemap</td>\n",
       "    </tr>\n",
       "    <tr>\n",
       "      <th>3</th>\n",
       "      <td>180</td>\n",
       "      <td>algorithm language-agnostic colors color-space</td>\n",
       "    </tr>\n",
       "    <tr>\n",
       "      <th>4</th>\n",
       "      <td>260</td>\n",
       "      <td>c# .net scripting compiler-construction</td>\n",
       "    </tr>\n",
       "    <tr>\n",
       "      <th>5</th>\n",
       "      <td>330</td>\n",
       "      <td>c++ oop class nested-class</td>\n",
       "    </tr>\n",
       "    <tr>\n",
       "      <th>6</th>\n",
       "      <td>470</td>\n",
       "      <td>.net web-services</td>\n",
       "    </tr>\n",
       "    <tr>\n",
       "      <th>7</th>\n",
       "      <td>580</td>\n",
       "      <td>sql-server sql-server-2005 deployment release-...</td>\n",
       "    </tr>\n",
       "    <tr>\n",
       "      <th>8</th>\n",
       "      <td>650</td>\n",
       "      <td>c# visual-studio versioning</td>\n",
       "    </tr>\n",
       "    <tr>\n",
       "      <th>9</th>\n",
       "      <td>810</td>\n",
       "      <td>windows visual-studio registry installation</td>\n",
       "    </tr>\n",
       "    <tr>\n",
       "      <th>10</th>\n",
       "      <td>930</td>\n",
       "      <td>c# database loops connection</td>\n",
       "    </tr>\n",
       "    <tr>\n",
       "      <th>11</th>\n",
       "      <td>1010</td>\n",
       "      <td>c# asp.net</td>\n",
       "    </tr>\n",
       "    <tr>\n",
       "      <th>12</th>\n",
       "      <td>1040</td>\n",
       "      <td>c# file-locking</td>\n",
       "    </tr>\n",
       "    <tr>\n",
       "      <th>13</th>\n",
       "      <td>1070</td>\n",
       "      <td>unix size</td>\n",
       "    </tr>\n",
       "    <tr>\n",
       "      <th>14</th>\n",
       "      <td>1160</td>\n",
       "      <td>svn msbuild cruisecontrol.net</td>\n",
       "    </tr>\n",
       "    <tr>\n",
       "      <th>15</th>\n",
       "      <td>1180</td>\n",
       "      <td>web-applications dns subdomain account</td>\n",
       "    </tr>\n",
       "    <tr>\n",
       "      <th>16</th>\n",
       "      <td>1300</td>\n",
       "      <td>.net .net-3.5 msbuild nant</td>\n",
       "    </tr>\n",
       "    <tr>\n",
       "      <th>17</th>\n",
       "      <td>1390</td>\n",
       "      <td>sql-server windows-server-2008</td>\n",
       "    </tr>\n",
       "    <tr>\n",
       "      <th>18</th>\n",
       "      <td>1600</td>\n",
       "      <td>sql-server sql-server-2008</td>\n",
       "    </tr>\n",
       "    <tr>\n",
       "      <th>19</th>\n",
       "      <td>1610</td>\n",
       "      <td>sql-server</td>\n",
       "    </tr>\n",
       "    <tr>\n",
       "      <th>20</th>\n",
       "      <td>1760</td>\n",
       "      <td>c# .net unit-testing testing</td>\n",
       "    </tr>\n",
       "    <tr>\n",
       "      <th>21</th>\n",
       "      <td>1790</td>\n",
       "      <td>svn version-control</td>\n",
       "    </tr>\n",
       "    <tr>\n",
       "      <th>22</th>\n",
       "      <td>1970</td>\n",
       "      <td>sql database postgresql stored-procedures trig...</td>\n",
       "    </tr>\n",
       "    <tr>\n",
       "      <th>23</th>\n",
       "      <td>2120</td>\n",
       "      <td>sql sql-server</td>\n",
       "    </tr>\n",
       "    <tr>\n",
       "      <th>24</th>\n",
       "      <td>2250</td>\n",
       "      <td>c# dataset datatable</td>\n",
       "    </tr>\n",
       "    <tr>\n",
       "      <th>25</th>\n",
       "      <td>2300</td>\n",
       "      <td>asp-classic vbscript</td>\n",
       "    </tr>\n",
       "    <tr>\n",
       "      <th>26</th>\n",
       "      <td>2530</td>\n",
       "      <td>html autocomplete</td>\n",
       "    </tr>\n",
       "    <tr>\n",
       "      <th>27</th>\n",
       "      <td>2540</td>\n",
       "      <td>c architecture data-structures</td>\n",
       "    </tr>\n",
       "    <tr>\n",
       "      <th>28</th>\n",
       "      <td>2550</td>\n",
       "      <td>asp.net flash video embed</td>\n",
       "    </tr>\n",
       "    <tr>\n",
       "      <th>29</th>\n",
       "      <td>2630</td>\n",
       "      <td>powershell cmdlets</td>\n",
       "    </tr>\n",
       "    <tr>\n",
       "      <th>...</th>\n",
       "      <td>...</td>\n",
       "      <td>...</td>\n",
       "    </tr>\n",
       "    <tr>\n",
       "      <th>1264186</th>\n",
       "      <td>40142590</td>\n",
       "      <td>javascript jquery html date</td>\n",
       "    </tr>\n",
       "    <tr>\n",
       "      <th>1264187</th>\n",
       "      <td>40142600</td>\n",
       "      <td>python</td>\n",
       "    </tr>\n",
       "    <tr>\n",
       "      <th>1264188</th>\n",
       "      <td>40142610</td>\n",
       "      <td>audio soundcloud</td>\n",
       "    </tr>\n",
       "    <tr>\n",
       "      <th>1264189</th>\n",
       "      <td>40142700</td>\n",
       "      <td>php jquery ajax binary x-sendfile</td>\n",
       "    </tr>\n",
       "    <tr>\n",
       "      <th>1264190</th>\n",
       "      <td>40142730</td>\n",
       "      <td>angular2 typescript</td>\n",
       "    </tr>\n",
       "    <tr>\n",
       "      <th>1264191</th>\n",
       "      <td>40142750</td>\n",
       "      <td>amazon-dynamodb</td>\n",
       "    </tr>\n",
       "    <tr>\n",
       "      <th>1264192</th>\n",
       "      <td>40142760</td>\n",
       "      <td>javascript google-apps-script</td>\n",
       "    </tr>\n",
       "    <tr>\n",
       "      <th>1264193</th>\n",
       "      <td>40142780</td>\n",
       "      <td>c</td>\n",
       "    </tr>\n",
       "    <tr>\n",
       "      <th>1264194</th>\n",
       "      <td>40142790</td>\n",
       "      <td>c++</td>\n",
       "    </tr>\n",
       "    <tr>\n",
       "      <th>1264195</th>\n",
       "      <td>40142820</td>\n",
       "      <td>asp.net-mvc kendo-ui treelist kendo-treelist</td>\n",
       "    </tr>\n",
       "    <tr>\n",
       "      <th>1264196</th>\n",
       "      <td>40142840</td>\n",
       "      <td>python django amazon-web-services internal-ser...</td>\n",
       "    </tr>\n",
       "    <tr>\n",
       "      <th>1264197</th>\n",
       "      <td>40142860</td>\n",
       "      <td>excel excel-formula</td>\n",
       "    </tr>\n",
       "    <tr>\n",
       "      <th>1264198</th>\n",
       "      <td>40142870</td>\n",
       "      <td>c# asp.net-mvc remote-validation</td>\n",
       "    </tr>\n",
       "    <tr>\n",
       "      <th>1264199</th>\n",
       "      <td>40142880</td>\n",
       "      <td>cmake cross-compiling</td>\n",
       "    </tr>\n",
       "    <tr>\n",
       "      <th>1264200</th>\n",
       "      <td>40142900</td>\n",
       "      <td>api oauth linkedin</td>\n",
       "    </tr>\n",
       "    <tr>\n",
       "      <th>1264201</th>\n",
       "      <td>40142910</td>\n",
       "      <td>ruby-on-rails validation ruby-on-rails-4</td>\n",
       "    </tr>\n",
       "    <tr>\n",
       "      <th>1264202</th>\n",
       "      <td>40142920</td>\n",
       "      <td>linux ubuntu gcc gcc4.6</td>\n",
       "    </tr>\n",
       "    <tr>\n",
       "      <th>1264203</th>\n",
       "      <td>40142940</td>\n",
       "      <td>c++</td>\n",
       "    </tr>\n",
       "    <tr>\n",
       "      <th>1264204</th>\n",
       "      <td>40143010</td>\n",
       "      <td>jquery ajax</td>\n",
       "    </tr>\n",
       "    <tr>\n",
       "      <th>1264205</th>\n",
       "      <td>40143070</td>\n",
       "      <td>haskell types functional-programming agda lamb...</td>\n",
       "    </tr>\n",
       "    <tr>\n",
       "      <th>1264206</th>\n",
       "      <td>40143110</td>\n",
       "      <td>android android-activity android-lifecycle</td>\n",
       "    </tr>\n",
       "    <tr>\n",
       "      <th>1264207</th>\n",
       "      <td>40143140</td>\n",
       "      <td>spring-data-rest</td>\n",
       "    </tr>\n",
       "    <tr>\n",
       "      <th>1264208</th>\n",
       "      <td>40143150</td>\n",
       "      <td>javascript youtube youtube-iframe-api</td>\n",
       "    </tr>\n",
       "    <tr>\n",
       "      <th>1264209</th>\n",
       "      <td>40143170</td>\n",
       "      <td>laravel binding model routes</td>\n",
       "    </tr>\n",
       "    <tr>\n",
       "      <th>1264210</th>\n",
       "      <td>40143190</td>\n",
       "      <td>python bash multiline</td>\n",
       "    </tr>\n",
       "    <tr>\n",
       "      <th>1264211</th>\n",
       "      <td>40143210</td>\n",
       "      <td>php .htaccess</td>\n",
       "    </tr>\n",
       "    <tr>\n",
       "      <th>1264212</th>\n",
       "      <td>40143300</td>\n",
       "      <td>google-bigquery</td>\n",
       "    </tr>\n",
       "    <tr>\n",
       "      <th>1264213</th>\n",
       "      <td>40143340</td>\n",
       "      <td>android android-studio</td>\n",
       "    </tr>\n",
       "    <tr>\n",
       "      <th>1264214</th>\n",
       "      <td>40143360</td>\n",
       "      <td>javascript vue.js</td>\n",
       "    </tr>\n",
       "    <tr>\n",
       "      <th>1264215</th>\n",
       "      <td>40143380</td>\n",
       "      <td>npm mocha babel</td>\n",
       "    </tr>\n",
       "  </tbody>\n",
       "</table>\n",
       "<p>1264216 rows × 2 columns</p>\n",
       "</div>"
      ],
      "text/plain": [
       "               Id                                                Tag\n",
       "0              80                            flex actionscript-3 air\n",
       "1              90       svn tortoisesvn branch branching-and-merging\n",
       "2             120                                sql asp.net sitemap\n",
       "3             180     algorithm language-agnostic colors color-space\n",
       "4             260            c# .net scripting compiler-construction\n",
       "5             330                         c++ oop class nested-class\n",
       "6             470                                  .net web-services\n",
       "7             580  sql-server sql-server-2005 deployment release-...\n",
       "8             650                        c# visual-studio versioning\n",
       "9             810        windows visual-studio registry installation\n",
       "10            930                       c# database loops connection\n",
       "11           1010                                         c# asp.net\n",
       "12           1040                                    c# file-locking\n",
       "13           1070                                          unix size\n",
       "14           1160                      svn msbuild cruisecontrol.net\n",
       "15           1180             web-applications dns subdomain account\n",
       "16           1300                         .net .net-3.5 msbuild nant\n",
       "17           1390                     sql-server windows-server-2008\n",
       "18           1600                         sql-server sql-server-2008\n",
       "19           1610                                         sql-server\n",
       "20           1760                       c# .net unit-testing testing\n",
       "21           1790                                svn version-control\n",
       "22           1970  sql database postgresql stored-procedures trig...\n",
       "23           2120                                     sql sql-server\n",
       "24           2250                               c# dataset datatable\n",
       "25           2300                               asp-classic vbscript\n",
       "26           2530                                  html autocomplete\n",
       "27           2540                     c architecture data-structures\n",
       "28           2550                          asp.net flash video embed\n",
       "29           2630                                 powershell cmdlets\n",
       "...           ...                                                ...\n",
       "1264186  40142590                        javascript jquery html date\n",
       "1264187  40142600                                             python\n",
       "1264188  40142610                                   audio soundcloud\n",
       "1264189  40142700                  php jquery ajax binary x-sendfile\n",
       "1264190  40142730                                angular2 typescript\n",
       "1264191  40142750                                    amazon-dynamodb\n",
       "1264192  40142760                      javascript google-apps-script\n",
       "1264193  40142780                                                  c\n",
       "1264194  40142790                                                c++\n",
       "1264195  40142820       asp.net-mvc kendo-ui treelist kendo-treelist\n",
       "1264196  40142840  python django amazon-web-services internal-ser...\n",
       "1264197  40142860                                excel excel-formula\n",
       "1264198  40142870                   c# asp.net-mvc remote-validation\n",
       "1264199  40142880                              cmake cross-compiling\n",
       "1264200  40142900                                 api oauth linkedin\n",
       "1264201  40142910           ruby-on-rails validation ruby-on-rails-4\n",
       "1264202  40142920                            linux ubuntu gcc gcc4.6\n",
       "1264203  40142940                                                c++\n",
       "1264204  40143010                                        jquery ajax\n",
       "1264205  40143070  haskell types functional-programming agda lamb...\n",
       "1264206  40143110         android android-activity android-lifecycle\n",
       "1264207  40143140                                   spring-data-rest\n",
       "1264208  40143150              javascript youtube youtube-iframe-api\n",
       "1264209  40143170                       laravel binding model routes\n",
       "1264210  40143190                              python bash multiline\n",
       "1264211  40143210                                      php .htaccess\n",
       "1264212  40143300                                    google-bigquery\n",
       "1264213  40143340                             android android-studio\n",
       "1264214  40143360                                  javascript vue.js\n",
       "1264215  40143380                                    npm mocha babel\n",
       "\n",
       "[1264216 rows x 2 columns]"
      ]
     },
<<<<<<< HEAD
     "execution_count": 282,
=======
     "execution_count": 110,
>>>>>>> 0d6e1abbff3fa3e26cbda721ef97cc81ff0e7650
     "metadata": {},
     "output_type": "execute_result"
    }
   ],
   "source": [
    "grouped_tags.reset_index()"
   ]
  },
  {
   "cell_type": "code",
<<<<<<< HEAD
   "execution_count": 283,
=======
   "execution_count": 111,
>>>>>>> 0d6e1abbff3fa3e26cbda721ef97cc81ff0e7650
   "metadata": {},
   "outputs": [],
   "source": [
    "grouped_tags_final = pd.DataFrame({'Id':grouped_tags.index, 'Tags':grouped_tags.values})"
   ]
  },
  {
   "cell_type": "code",
<<<<<<< HEAD
   "execution_count": 284,
=======
   "execution_count": 112,
>>>>>>> 0d6e1abbff3fa3e26cbda721ef97cc81ff0e7650
   "metadata": {},
   "outputs": [
    {
     "data": {
      "text/html": [
       "<div>\n",
       "<style scoped>\n",
       "    .dataframe tbody tr th:only-of-type {\n",
       "        vertical-align: middle;\n",
       "    }\n",
       "\n",
       "    .dataframe tbody tr th {\n",
       "        vertical-align: top;\n",
       "    }\n",
       "\n",
       "    .dataframe thead th {\n",
       "        text-align: right;\n",
       "    }\n",
       "</style>\n",
       "<table border=\"1\" class=\"dataframe\">\n",
       "  <thead>\n",
       "    <tr style=\"text-align: right;\">\n",
       "      <th></th>\n",
       "      <th>Id</th>\n",
       "      <th>Tags</th>\n",
       "    </tr>\n",
       "  </thead>\n",
       "  <tbody>\n",
       "    <tr>\n",
       "      <th>0</th>\n",
       "      <td>80</td>\n",
       "      <td>flex actionscript-3 air</td>\n",
       "    </tr>\n",
       "    <tr>\n",
       "      <th>1</th>\n",
       "      <td>90</td>\n",
       "      <td>svn tortoisesvn branch branching-and-merging</td>\n",
       "    </tr>\n",
       "    <tr>\n",
       "      <th>2</th>\n",
       "      <td>120</td>\n",
       "      <td>sql asp.net sitemap</td>\n",
       "    </tr>\n",
       "    <tr>\n",
       "      <th>3</th>\n",
       "      <td>180</td>\n",
       "      <td>algorithm language-agnostic colors color-space</td>\n",
       "    </tr>\n",
       "    <tr>\n",
       "      <th>4</th>\n",
       "      <td>260</td>\n",
       "      <td>c# .net scripting compiler-construction</td>\n",
       "    </tr>\n",
       "    <tr>\n",
       "      <th>5</th>\n",
       "      <td>330</td>\n",
       "      <td>c++ oop class nested-class</td>\n",
       "    </tr>\n",
       "    <tr>\n",
       "      <th>6</th>\n",
       "      <td>470</td>\n",
       "      <td>.net web-services</td>\n",
       "    </tr>\n",
       "    <tr>\n",
       "      <th>7</th>\n",
       "      <td>580</td>\n",
       "      <td>sql-server sql-server-2005 deployment release-...</td>\n",
       "    </tr>\n",
       "    <tr>\n",
       "      <th>8</th>\n",
       "      <td>650</td>\n",
       "      <td>c# visual-studio versioning</td>\n",
       "    </tr>\n",
       "    <tr>\n",
       "      <th>9</th>\n",
       "      <td>810</td>\n",
       "      <td>windows visual-studio registry installation</td>\n",
       "    </tr>\n",
       "    <tr>\n",
       "      <th>10</th>\n",
       "      <td>930</td>\n",
       "      <td>c# database loops connection</td>\n",
       "    </tr>\n",
       "    <tr>\n",
       "      <th>11</th>\n",
       "      <td>1010</td>\n",
       "      <td>c# asp.net</td>\n",
       "    </tr>\n",
       "    <tr>\n",
       "      <th>12</th>\n",
       "      <td>1040</td>\n",
       "      <td>c# file-locking</td>\n",
       "    </tr>\n",
       "    <tr>\n",
       "      <th>13</th>\n",
       "      <td>1070</td>\n",
       "      <td>unix size</td>\n",
       "    </tr>\n",
       "    <tr>\n",
       "      <th>14</th>\n",
       "      <td>1160</td>\n",
       "      <td>svn msbuild cruisecontrol.net</td>\n",
       "    </tr>\n",
       "    <tr>\n",
       "      <th>15</th>\n",
       "      <td>1180</td>\n",
       "      <td>web-applications dns subdomain account</td>\n",
       "    </tr>\n",
       "    <tr>\n",
       "      <th>16</th>\n",
       "      <td>1300</td>\n",
       "      <td>.net .net-3.5 msbuild nant</td>\n",
       "    </tr>\n",
       "    <tr>\n",
       "      <th>17</th>\n",
       "      <td>1390</td>\n",
       "      <td>sql-server windows-server-2008</td>\n",
       "    </tr>\n",
       "    <tr>\n",
       "      <th>18</th>\n",
       "      <td>1600</td>\n",
       "      <td>sql-server sql-server-2008</td>\n",
       "    </tr>\n",
       "    <tr>\n",
       "      <th>19</th>\n",
       "      <td>1610</td>\n",
       "      <td>sql-server</td>\n",
       "    </tr>\n",
       "    <tr>\n",
       "      <th>20</th>\n",
       "      <td>1760</td>\n",
       "      <td>c# .net unit-testing testing</td>\n",
       "    </tr>\n",
       "    <tr>\n",
       "      <th>21</th>\n",
       "      <td>1790</td>\n",
       "      <td>svn version-control</td>\n",
       "    </tr>\n",
       "    <tr>\n",
       "      <th>22</th>\n",
       "      <td>1970</td>\n",
       "      <td>sql database postgresql stored-procedures trig...</td>\n",
       "    </tr>\n",
       "    <tr>\n",
       "      <th>23</th>\n",
       "      <td>2120</td>\n",
       "      <td>sql sql-server</td>\n",
       "    </tr>\n",
       "    <tr>\n",
       "      <th>24</th>\n",
       "      <td>2250</td>\n",
       "      <td>c# dataset datatable</td>\n",
       "    </tr>\n",
       "    <tr>\n",
       "      <th>25</th>\n",
       "      <td>2300</td>\n",
       "      <td>asp-classic vbscript</td>\n",
       "    </tr>\n",
       "    <tr>\n",
       "      <th>26</th>\n",
       "      <td>2530</td>\n",
       "      <td>html autocomplete</td>\n",
       "    </tr>\n",
       "    <tr>\n",
       "      <th>27</th>\n",
       "      <td>2540</td>\n",
       "      <td>c architecture data-structures</td>\n",
       "    </tr>\n",
       "    <tr>\n",
       "      <th>28</th>\n",
       "      <td>2550</td>\n",
       "      <td>asp.net flash video embed</td>\n",
       "    </tr>\n",
       "    <tr>\n",
       "      <th>29</th>\n",
       "      <td>2630</td>\n",
       "      <td>powershell cmdlets</td>\n",
       "    </tr>\n",
       "    <tr>\n",
       "      <th>...</th>\n",
       "      <td>...</td>\n",
       "      <td>...</td>\n",
       "    </tr>\n",
       "    <tr>\n",
       "      <th>1264186</th>\n",
       "      <td>40142590</td>\n",
       "      <td>javascript jquery html date</td>\n",
       "    </tr>\n",
       "    <tr>\n",
       "      <th>1264187</th>\n",
       "      <td>40142600</td>\n",
       "      <td>python</td>\n",
       "    </tr>\n",
       "    <tr>\n",
       "      <th>1264188</th>\n",
       "      <td>40142610</td>\n",
       "      <td>audio soundcloud</td>\n",
       "    </tr>\n",
       "    <tr>\n",
       "      <th>1264189</th>\n",
       "      <td>40142700</td>\n",
       "      <td>php jquery ajax binary x-sendfile</td>\n",
       "    </tr>\n",
       "    <tr>\n",
       "      <th>1264190</th>\n",
       "      <td>40142730</td>\n",
       "      <td>angular2 typescript</td>\n",
       "    </tr>\n",
       "    <tr>\n",
       "      <th>1264191</th>\n",
       "      <td>40142750</td>\n",
       "      <td>amazon-dynamodb</td>\n",
       "    </tr>\n",
       "    <tr>\n",
       "      <th>1264192</th>\n",
       "      <td>40142760</td>\n",
       "      <td>javascript google-apps-script</td>\n",
       "    </tr>\n",
       "    <tr>\n",
       "      <th>1264193</th>\n",
       "      <td>40142780</td>\n",
       "      <td>c</td>\n",
       "    </tr>\n",
       "    <tr>\n",
       "      <th>1264194</th>\n",
       "      <td>40142790</td>\n",
       "      <td>c++</td>\n",
       "    </tr>\n",
       "    <tr>\n",
       "      <th>1264195</th>\n",
       "      <td>40142820</td>\n",
       "      <td>asp.net-mvc kendo-ui treelist kendo-treelist</td>\n",
       "    </tr>\n",
       "    <tr>\n",
       "      <th>1264196</th>\n",
       "      <td>40142840</td>\n",
       "      <td>python django amazon-web-services internal-ser...</td>\n",
       "    </tr>\n",
       "    <tr>\n",
       "      <th>1264197</th>\n",
       "      <td>40142860</td>\n",
       "      <td>excel excel-formula</td>\n",
       "    </tr>\n",
       "    <tr>\n",
       "      <th>1264198</th>\n",
       "      <td>40142870</td>\n",
       "      <td>c# asp.net-mvc remote-validation</td>\n",
       "    </tr>\n",
       "    <tr>\n",
       "      <th>1264199</th>\n",
       "      <td>40142880</td>\n",
       "      <td>cmake cross-compiling</td>\n",
       "    </tr>\n",
       "    <tr>\n",
       "      <th>1264200</th>\n",
       "      <td>40142900</td>\n",
       "      <td>api oauth linkedin</td>\n",
       "    </tr>\n",
       "    <tr>\n",
       "      <th>1264201</th>\n",
       "      <td>40142910</td>\n",
       "      <td>ruby-on-rails validation ruby-on-rails-4</td>\n",
       "    </tr>\n",
       "    <tr>\n",
       "      <th>1264202</th>\n",
       "      <td>40142920</td>\n",
       "      <td>linux ubuntu gcc gcc4.6</td>\n",
       "    </tr>\n",
       "    <tr>\n",
       "      <th>1264203</th>\n",
       "      <td>40142940</td>\n",
       "      <td>c++</td>\n",
       "    </tr>\n",
       "    <tr>\n",
       "      <th>1264204</th>\n",
       "      <td>40143010</td>\n",
       "      <td>jquery ajax</td>\n",
       "    </tr>\n",
       "    <tr>\n",
       "      <th>1264205</th>\n",
       "      <td>40143070</td>\n",
       "      <td>haskell types functional-programming agda lamb...</td>\n",
       "    </tr>\n",
       "    <tr>\n",
       "      <th>1264206</th>\n",
       "      <td>40143110</td>\n",
       "      <td>android android-activity android-lifecycle</td>\n",
       "    </tr>\n",
       "    <tr>\n",
       "      <th>1264207</th>\n",
       "      <td>40143140</td>\n",
       "      <td>spring-data-rest</td>\n",
       "    </tr>\n",
       "    <tr>\n",
       "      <th>1264208</th>\n",
       "      <td>40143150</td>\n",
       "      <td>javascript youtube youtube-iframe-api</td>\n",
       "    </tr>\n",
       "    <tr>\n",
       "      <th>1264209</th>\n",
       "      <td>40143170</td>\n",
       "      <td>laravel binding model routes</td>\n",
       "    </tr>\n",
       "    <tr>\n",
       "      <th>1264210</th>\n",
       "      <td>40143190</td>\n",
       "      <td>python bash multiline</td>\n",
       "    </tr>\n",
       "    <tr>\n",
       "      <th>1264211</th>\n",
       "      <td>40143210</td>\n",
       "      <td>php .htaccess</td>\n",
       "    </tr>\n",
       "    <tr>\n",
       "      <th>1264212</th>\n",
       "      <td>40143300</td>\n",
       "      <td>google-bigquery</td>\n",
       "    </tr>\n",
       "    <tr>\n",
       "      <th>1264213</th>\n",
       "      <td>40143340</td>\n",
       "      <td>android android-studio</td>\n",
       "    </tr>\n",
       "    <tr>\n",
       "      <th>1264214</th>\n",
       "      <td>40143360</td>\n",
       "      <td>javascript vue.js</td>\n",
       "    </tr>\n",
       "    <tr>\n",
       "      <th>1264215</th>\n",
       "      <td>40143380</td>\n",
       "      <td>npm mocha babel</td>\n",
       "    </tr>\n",
       "  </tbody>\n",
       "</table>\n",
       "<p>1264216 rows × 2 columns</p>\n",
       "</div>"
      ],
      "text/plain": [
       "               Id                                               Tags\n",
       "0              80                            flex actionscript-3 air\n",
       "1              90       svn tortoisesvn branch branching-and-merging\n",
       "2             120                                sql asp.net sitemap\n",
       "3             180     algorithm language-agnostic colors color-space\n",
       "4             260            c# .net scripting compiler-construction\n",
       "5             330                         c++ oop class nested-class\n",
       "6             470                                  .net web-services\n",
       "7             580  sql-server sql-server-2005 deployment release-...\n",
       "8             650                        c# visual-studio versioning\n",
       "9             810        windows visual-studio registry installation\n",
       "10            930                       c# database loops connection\n",
       "11           1010                                         c# asp.net\n",
       "12           1040                                    c# file-locking\n",
       "13           1070                                          unix size\n",
       "14           1160                      svn msbuild cruisecontrol.net\n",
       "15           1180             web-applications dns subdomain account\n",
       "16           1300                         .net .net-3.5 msbuild nant\n",
       "17           1390                     sql-server windows-server-2008\n",
       "18           1600                         sql-server sql-server-2008\n",
       "19           1610                                         sql-server\n",
       "20           1760                       c# .net unit-testing testing\n",
       "21           1790                                svn version-control\n",
       "22           1970  sql database postgresql stored-procedures trig...\n",
       "23           2120                                     sql sql-server\n",
       "24           2250                               c# dataset datatable\n",
       "25           2300                               asp-classic vbscript\n",
       "26           2530                                  html autocomplete\n",
       "27           2540                     c architecture data-structures\n",
       "28           2550                          asp.net flash video embed\n",
       "29           2630                                 powershell cmdlets\n",
       "...           ...                                                ...\n",
       "1264186  40142590                        javascript jquery html date\n",
       "1264187  40142600                                             python\n",
       "1264188  40142610                                   audio soundcloud\n",
       "1264189  40142700                  php jquery ajax binary x-sendfile\n",
       "1264190  40142730                                angular2 typescript\n",
       "1264191  40142750                                    amazon-dynamodb\n",
       "1264192  40142760                      javascript google-apps-script\n",
       "1264193  40142780                                                  c\n",
       "1264194  40142790                                                c++\n",
       "1264195  40142820       asp.net-mvc kendo-ui treelist kendo-treelist\n",
       "1264196  40142840  python django amazon-web-services internal-ser...\n",
       "1264197  40142860                                excel excel-formula\n",
       "1264198  40142870                   c# asp.net-mvc remote-validation\n",
       "1264199  40142880                              cmake cross-compiling\n",
       "1264200  40142900                                 api oauth linkedin\n",
       "1264201  40142910           ruby-on-rails validation ruby-on-rails-4\n",
       "1264202  40142920                            linux ubuntu gcc gcc4.6\n",
       "1264203  40142940                                                c++\n",
       "1264204  40143010                                        jquery ajax\n",
       "1264205  40143070  haskell types functional-programming agda lamb...\n",
       "1264206  40143110         android android-activity android-lifecycle\n",
       "1264207  40143140                                   spring-data-rest\n",
       "1264208  40143150              javascript youtube youtube-iframe-api\n",
       "1264209  40143170                       laravel binding model routes\n",
       "1264210  40143190                              python bash multiline\n",
       "1264211  40143210                                      php .htaccess\n",
       "1264212  40143300                                    google-bigquery\n",
       "1264213  40143340                             android android-studio\n",
       "1264214  40143360                                  javascript vue.js\n",
       "1264215  40143380                                    npm mocha babel\n",
       "\n",
       "[1264216 rows x 2 columns]"
      ]
     },
<<<<<<< HEAD
     "execution_count": 284,
=======
     "execution_count": 112,
>>>>>>> 0d6e1abbff3fa3e26cbda721ef97cc81ff0e7650
     "metadata": {},
     "output_type": "execute_result"
    }
   ],
   "source": [
    "grouped_tags_final"
   ]
  },
  {
   "cell_type": "markdown",
   "metadata": {},
   "source": [
    "### Saving Intermediate Grouped Tags Data"
   ]
  },
  {
   "cell_type": "code",
   "execution_count": 287,
   "metadata": {},
   "outputs": [],
   "source": [
    "grouped_tags_final.to_csv('pre-processed-data/grouped_tags.csv', sep=',')"
   ]
  },
  {
   "cell_type": "code",
   "execution_count": 290,
   "metadata": {},
   "outputs": [],
   "source": [
    "grouped_tags_final = pd.read_csv(\"./pre-processed-data/grouped_tags.csv\", encoding=\"ISO-8859-1\")"
   ]
  },
  {
   "cell_type": "code",
   "execution_count": 292,
   "metadata": {},
   "outputs": [
    {
     "data": {
      "text/html": [
       "<div>\n",
       "<style scoped>\n",
       "    .dataframe tbody tr th:only-of-type {\n",
       "        vertical-align: middle;\n",
       "    }\n",
       "\n",
       "    .dataframe tbody tr th {\n",
       "        vertical-align: top;\n",
       "    }\n",
       "\n",
       "    .dataframe thead th {\n",
       "        text-align: right;\n",
       "    }\n",
       "</style>\n",
       "<table border=\"1\" class=\"dataframe\">\n",
       "  <thead>\n",
       "    <tr style=\"text-align: right;\">\n",
       "      <th></th>\n",
       "      <th>Unnamed: 0</th>\n",
       "      <th>Id</th>\n",
       "      <th>Tags</th>\n",
       "    </tr>\n",
       "  </thead>\n",
       "  <tbody>\n",
       "    <tr>\n",
       "      <th>0</th>\n",
       "      <td>0</td>\n",
       "      <td>80</td>\n",
       "      <td>flex actionscript-3 air</td>\n",
       "    </tr>\n",
       "    <tr>\n",
       "      <th>1</th>\n",
       "      <td>1</td>\n",
       "      <td>90</td>\n",
       "      <td>svn tortoisesvn branch branching-and-merging</td>\n",
       "    </tr>\n",
       "    <tr>\n",
       "      <th>2</th>\n",
       "      <td>2</td>\n",
       "      <td>120</td>\n",
       "      <td>sql asp.net sitemap</td>\n",
       "    </tr>\n",
       "    <tr>\n",
       "      <th>3</th>\n",
       "      <td>3</td>\n",
       "      <td>180</td>\n",
       "      <td>algorithm language-agnostic colors color-space</td>\n",
       "    </tr>\n",
       "    <tr>\n",
       "      <th>4</th>\n",
       "      <td>4</td>\n",
       "      <td>260</td>\n",
       "      <td>c# .net scripting compiler-construction</td>\n",
       "    </tr>\n",
       "  </tbody>\n",
       "</table>\n",
       "</div>"
      ],
      "text/plain": [
       "   Unnamed: 0   Id                                            Tags\n",
       "0           0   80                         flex actionscript-3 air\n",
       "1           1   90    svn tortoisesvn branch branching-and-merging\n",
       "2           2  120                             sql asp.net sitemap\n",
       "3           3  180  algorithm language-agnostic colors color-space\n",
       "4           4  260         c# .net scripting compiler-construction"
      ]
     },
     "execution_count": 292,
     "metadata": {},
     "output_type": "execute_result"
    }
   ],
   "source": [
    "grouped_tags_final.head()"
   ]
  },
  {
   "cell_type": "code",
<<<<<<< HEAD
   "execution_count": 293,
=======
   "execution_count": 113,
>>>>>>> 0d6e1abbff3fa3e26cbda721ef97cc81ff0e7650
   "metadata": {},
   "outputs": [],
   "source": [
    "questions.drop(columns=['OwnerUserId', 'CreationDate', 'ClosedDate'], inplace=True)\n"
   ]
  },
  {
   "cell_type": "code",
<<<<<<< HEAD
   "execution_count": 294,
=======
   "execution_count": 18,
>>>>>>> 0d6e1abbff3fa3e26cbda721ef97cc81ff0e7650
   "metadata": {},
   "outputs": [
    {
     "data": {
      "text/html": [
       "<div>\n",
       "<style scoped>\n",
       "    .dataframe tbody tr th:only-of-type {\n",
       "        vertical-align: middle;\n",
       "    }\n",
       "\n",
       "    .dataframe tbody tr th {\n",
       "        vertical-align: top;\n",
       "    }\n",
       "\n",
       "    .dataframe thead th {\n",
       "        text-align: right;\n",
       "    }\n",
       "</style>\n",
       "<table border=\"1\" class=\"dataframe\">\n",
       "  <thead>\n",
       "    <tr style=\"text-align: right;\">\n",
       "      <th></th>\n",
       "      <th>Id</th>\n",
       "      <th>Score</th>\n",
       "      <th>Title</th>\n",
       "      <th>Body</th>\n",
       "    </tr>\n",
       "  </thead>\n",
       "  <tbody>\n",
       "    <tr>\n",
       "      <th>0</th>\n",
       "      <td>80</td>\n",
       "      <td>26</td>\n",
       "      <td>SQLStatement.execute() - multiple queries in o...</td>\n",
       "      <td>&lt;p&gt;I've written a database generation script i...</td>\n",
       "    </tr>\n",
       "    <tr>\n",
       "      <th>1</th>\n",
       "      <td>90</td>\n",
       "      <td>144</td>\n",
       "      <td>Good branching and merging tutorials for Torto...</td>\n",
       "      <td>&lt;p&gt;Are there any really good tutorials explain...</td>\n",
       "    </tr>\n",
       "    <tr>\n",
       "      <th>2</th>\n",
       "      <td>120</td>\n",
       "      <td>21</td>\n",
       "      <td>ASP.NET Site Maps</td>\n",
       "      <td>&lt;p&gt;Has anyone got experience creating &lt;strong&gt;...</td>\n",
       "    </tr>\n",
       "    <tr>\n",
       "      <th>3</th>\n",
       "      <td>180</td>\n",
       "      <td>53</td>\n",
       "      <td>Function for creating color wheels</td>\n",
       "      <td>&lt;p&gt;This is something I've pseudo-solved many t...</td>\n",
       "    </tr>\n",
       "    <tr>\n",
       "      <th>4</th>\n",
       "      <td>260</td>\n",
       "      <td>49</td>\n",
       "      <td>Adding scripting functionality to .NET applica...</td>\n",
       "      <td>&lt;p&gt;I have a little game written in C#. It uses...</td>\n",
       "    </tr>\n",
       "  </tbody>\n",
       "</table>\n",
       "</div>"
      ],
      "text/plain": [
       "    Id  Score                                              Title  \\\n",
       "0   80     26  SQLStatement.execute() - multiple queries in o...   \n",
       "1   90    144  Good branching and merging tutorials for Torto...   \n",
       "2  120     21                                  ASP.NET Site Maps   \n",
       "3  180     53                 Function for creating color wheels   \n",
       "4  260     49  Adding scripting functionality to .NET applica...   \n",
       "\n",
       "                                                Body  \n",
       "0  <p>I've written a database generation script i...  \n",
       "1  <p>Are there any really good tutorials explain...  \n",
       "2  <p>Has anyone got experience creating <strong>...  \n",
       "3  <p>This is something I've pseudo-solved many t...  \n",
       "4  <p>I have a little game written in C#. It uses...  "
      ]
     },
     "execution_count": 294,
     "metadata": {},
     "output_type": "execute_result"
    }
   ],
   "source": [
    "questions.head()"
   ]
  },
  {
   "cell_type": "code",
   "execution_count": 295,
   "metadata": {},
   "outputs": [],
   "source": [
    "questions = questions.merge(grouped_tags_final, on='Id')"
   ]
  },
  {
   "cell_type": "code",
   "execution_count": 296,
   "metadata": {},
   "outputs": [
    {
     "data": {
      "text/html": [
       "<div>\n",
       "<style scoped>\n",
       "    .dataframe tbody tr th:only-of-type {\n",
       "        vertical-align: middle;\n",
       "    }\n",
       "\n",
       "    .dataframe tbody tr th {\n",
       "        vertical-align: top;\n",
       "    }\n",
       "\n",
       "    .dataframe thead th {\n",
       "        text-align: right;\n",
       "    }\n",
       "</style>\n",
       "<table border=\"1\" class=\"dataframe\">\n",
       "  <thead>\n",
       "    <tr style=\"text-align: right;\">\n",
       "      <th></th>\n",
       "      <th>Id</th>\n",
       "      <th>Score</th>\n",
       "      <th>Title</th>\n",
       "      <th>Body</th>\n",
       "      <th>Unnamed: 0</th>\n",
       "      <th>Tags</th>\n",
       "    </tr>\n",
       "  </thead>\n",
       "  <tbody>\n",
       "    <tr>\n",
       "      <th>0</th>\n",
       "      <td>80</td>\n",
       "      <td>26</td>\n",
       "      <td>SQLStatement.execute() - multiple queries in o...</td>\n",
       "      <td>&lt;p&gt;I've written a database generation script i...</td>\n",
       "      <td>0</td>\n",
       "      <td>flex actionscript-3 air</td>\n",
       "    </tr>\n",
       "    <tr>\n",
       "      <th>1</th>\n",
       "      <td>90</td>\n",
       "      <td>144</td>\n",
       "      <td>Good branching and merging tutorials for Torto...</td>\n",
       "      <td>&lt;p&gt;Are there any really good tutorials explain...</td>\n",
       "      <td>1</td>\n",
       "      <td>svn tortoisesvn branch branching-and-merging</td>\n",
       "    </tr>\n",
       "    <tr>\n",
       "      <th>2</th>\n",
       "      <td>120</td>\n",
       "      <td>21</td>\n",
       "      <td>ASP.NET Site Maps</td>\n",
       "      <td>&lt;p&gt;Has anyone got experience creating &lt;strong&gt;...</td>\n",
       "      <td>2</td>\n",
       "      <td>sql asp.net sitemap</td>\n",
       "    </tr>\n",
       "    <tr>\n",
       "      <th>3</th>\n",
       "      <td>180</td>\n",
       "      <td>53</td>\n",
       "      <td>Function for creating color wheels</td>\n",
       "      <td>&lt;p&gt;This is something I've pseudo-solved many t...</td>\n",
       "      <td>3</td>\n",
       "      <td>algorithm language-agnostic colors color-space</td>\n",
       "    </tr>\n",
       "    <tr>\n",
       "      <th>4</th>\n",
       "      <td>260</td>\n",
       "      <td>49</td>\n",
       "      <td>Adding scripting functionality to .NET applica...</td>\n",
       "      <td>&lt;p&gt;I have a little game written in C#. It uses...</td>\n",
       "      <td>4</td>\n",
       "      <td>c# .net scripting compiler-construction</td>\n",
       "    </tr>\n",
       "  </tbody>\n",
       "</table>\n",
       "</div>"
      ],
      "text/plain": [
       "    Id  Score                                              Title  \\\n",
       "0   80     26  SQLStatement.execute() - multiple queries in o...   \n",
       "1   90    144  Good branching and merging tutorials for Torto...   \n",
       "2  120     21                                  ASP.NET Site Maps   \n",
       "3  180     53                 Function for creating color wheels   \n",
       "4  260     49  Adding scripting functionality to .NET applica...   \n",
       "\n",
       "                                                Body  Unnamed: 0  \\\n",
       "0  <p>I've written a database generation script i...           0   \n",
       "1  <p>Are there any really good tutorials explain...           1   \n",
       "2  <p>Has anyone got experience creating <strong>...           2   \n",
       "3  <p>This is something I've pseudo-solved many t...           3   \n",
       "4  <p>I have a little game written in C#. It uses...           4   \n",
       "\n",
       "                                             Tags  \n",
       "0                         flex actionscript-3 air  \n",
       "1    svn tortoisesvn branch branching-and-merging  \n",
       "2                             sql asp.net sitemap  \n",
       "3  algorithm language-agnostic colors color-space  \n",
       "4         c# .net scripting compiler-construction  "
      ]
     },
<<<<<<< HEAD
     "execution_count": 296,
=======
     "execution_count": 18,
>>>>>>> 0d6e1abbff3fa3e26cbda721ef97cc81ff0e7650
     "metadata": {},
     "output_type": "execute_result"
    }
   ],
   "source": [
    "questions.head(5)"
   ]
  },
  {
   "cell_type": "code",
<<<<<<< HEAD
   "execution_count": 297,
=======
   "execution_count": 114,
>>>>>>> 0d6e1abbff3fa3e26cbda721ef97cc81ff0e7650
   "metadata": {},
   "outputs": [],
   "source": [
    "questions_high_score = questions[questions['Score']>5]"
   ]
  },
  {
   "cell_type": "code",
   "execution_count": 298,
   "metadata": {},
   "outputs": [
    {
     "data": {
      "text/plain": [
       "Id            72950\n",
       "Score         72950\n",
       "Title         72950\n",
       "Body          72950\n",
       "Unnamed: 0    72950\n",
       "Tags          72950\n",
       "dtype: int64"
      ]
     },
     "execution_count": 298,
     "metadata": {},
     "output_type": "execute_result"
    }
   ],
   "source": [
    "questions_high_score.count()"
   ]
  },
  {
   "cell_type": "markdown",
   "metadata": {},
   "source": [
    "### Cleaning Data"
   ]
  },
  {
   "cell_type": "code",
   "execution_count": 299,
   "metadata": {},
   "outputs": [
    {
     "data": {
      "text/plain": [
       "Text(0.5, 1.0, 'Ratio of missing values per columns')"
      ]
     },
     "execution_count": 299,
     "metadata": {},
     "output_type": "execute_result"
    },
    {
     "data": {
      "image/png": "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\n",
      "text/plain": [
       "<Figure size 360x360 with 1 Axes>"
      ]
     },
     "metadata": {
      "needs_background": "light"
     },
     "output_type": "display_data"
    }
   ],
   "source": [
    "plt.figure(figsize=(5, 5))\n",
    "questions_high_score.isnull().mean(axis=0).plot.barh()\n",
    "plt.title(\"Ratio of missing values per columns\")"
   ]
  },
  {
   "cell_type": "code",
<<<<<<< HEAD
   "execution_count": 300,
   "metadata": {},
   "outputs": [
    {
     "name": "stdout",
     "output_type": "stream",
     "text": [
      "Dupplicate entries: 0\n"
     ]
    }
   ],
   "source": [
    "print('Dupplicate entries: {}'.format(questions_high_score.duplicated().sum()))\n",
    "questions_high_score.drop_duplicates(inplace = True)"
   ]
  },
  {
   "cell_type": "code",
   "execution_count": 301,
=======
   "execution_count": 115,
>>>>>>> 0d6e1abbff3fa3e26cbda721ef97cc81ff0e7650
   "metadata": {},
   "outputs": [
    {
     "data": {
      "text/html": [
       "<div>\n",
       "<style scoped>\n",
       "    .dataframe tbody tr th:only-of-type {\n",
       "        vertical-align: middle;\n",
       "    }\n",
       "\n",
       "    .dataframe tbody tr th {\n",
       "        vertical-align: top;\n",
       "    }\n",
       "\n",
       "    .dataframe thead th {\n",
       "        text-align: right;\n",
       "    }\n",
       "</style>\n",
       "<table border=\"1\" class=\"dataframe\">\n",
       "  <thead>\n",
       "    <tr style=\"text-align: right;\">\n",
       "      <th></th>\n",
       "      <th>Id</th>\n",
       "      <th>Score</th>\n",
       "      <th>Title</th>\n",
       "      <th>Body</th>\n",
       "      <th>Unnamed: 0</th>\n",
       "      <th>Tags</th>\n",
       "    </tr>\n",
       "  </thead>\n",
       "  <tbody>\n",
       "    <tr>\n",
       "      <th>0</th>\n",
       "      <td>80</td>\n",
       "      <td>26</td>\n",
       "      <td>SQLStatement.execute() - multiple queries in o...</td>\n",
       "      <td>&lt;p&gt;I've written a database generation script i...</td>\n",
       "      <td>0</td>\n",
       "      <td>flex actionscript-3 air</td>\n",
       "    </tr>\n",
       "    <tr>\n",
       "      <th>1</th>\n",
       "      <td>90</td>\n",
       "      <td>144</td>\n",
       "      <td>Good branching and merging tutorials for Torto...</td>\n",
       "      <td>&lt;p&gt;Are there any really good tutorials explain...</td>\n",
       "      <td>1</td>\n",
       "      <td>svn tortoisesvn branch branching-and-merging</td>\n",
       "    </tr>\n",
       "    <tr>\n",
       "      <th>2</th>\n",
       "      <td>120</td>\n",
       "      <td>21</td>\n",
       "      <td>ASP.NET Site Maps</td>\n",
       "      <td>&lt;p&gt;Has anyone got experience creating &lt;strong&gt;...</td>\n",
       "      <td>2</td>\n",
       "      <td>sql asp.net sitemap</td>\n",
       "    </tr>\n",
       "    <tr>\n",
       "      <th>3</th>\n",
       "      <td>180</td>\n",
       "      <td>53</td>\n",
       "      <td>Function for creating color wheels</td>\n",
       "      <td>&lt;p&gt;This is something I've pseudo-solved many t...</td>\n",
       "      <td>3</td>\n",
       "      <td>algorithm language-agnostic colors color-space</td>\n",
       "    </tr>\n",
       "    <tr>\n",
       "      <th>4</th>\n",
       "      <td>260</td>\n",
       "      <td>49</td>\n",
       "      <td>Adding scripting functionality to .NET applica...</td>\n",
       "      <td>&lt;p&gt;I have a little game written in C#. It uses...</td>\n",
       "      <td>4</td>\n",
       "      <td>c# .net scripting compiler-construction</td>\n",
       "    </tr>\n",
       "  </tbody>\n",
       "</table>\n",
       "</div>"
      ],
      "text/plain": [
       "    Id  Score                                              Title  \\\n",
       "0   80     26  SQLStatement.execute() - multiple queries in o...   \n",
       "1   90    144  Good branching and merging tutorials for Torto...   \n",
       "2  120     21                                  ASP.NET Site Maps   \n",
       "3  180     53                 Function for creating color wheels   \n",
       "4  260     49  Adding scripting functionality to .NET applica...   \n",
       "\n",
       "                                                Body  Unnamed: 0  \\\n",
       "0  <p>I've written a database generation script i...           0   \n",
       "1  <p>Are there any really good tutorials explain...           1   \n",
       "2  <p>Has anyone got experience creating <strong>...           2   \n",
       "3  <p>This is something I've pseudo-solved many t...           3   \n",
       "4  <p>I have a little game written in C#. It uses...           4   \n",
       "\n",
       "                                             Tags  \n",
       "0                         flex actionscript-3 air  \n",
       "1    svn tortoisesvn branch branching-and-merging  \n",
       "2                             sql asp.net sitemap  \n",
       "3  algorithm language-agnostic colors color-space  \n",
       "4         c# .net scripting compiler-construction  "
      ]
     },
<<<<<<< HEAD
     "execution_count": 301,
=======
     "execution_count": 115,
>>>>>>> 0d6e1abbff3fa3e26cbda721ef97cc81ff0e7650
     "metadata": {},
     "output_type": "execute_result"
    }
   ],
   "source": [
    "questions_high_score.head()"
   ]
  },
  {
   "cell_type": "code",
   "execution_count": 304,
   "metadata": {},
   "outputs": [
    {
     "ename": "KeyError",
     "evalue": "\"['Id' 'Score'] not found in axis\"",
     "output_type": "error",
     "traceback": [
      "\u001b[0;31m---------------------------------------------------------------------------\u001b[0m",
      "\u001b[0;31mKeyError\u001b[0m                                  Traceback (most recent call last)",
      "\u001b[0;32m<ipython-input-304-3d40c7338a58>\u001b[0m in \u001b[0;36m<module>\u001b[0;34m\u001b[0m\n\u001b[0;32m----> 1\u001b[0;31m \u001b[0mquestions_high_score\u001b[0m\u001b[0;34m.\u001b[0m\u001b[0mdrop\u001b[0m\u001b[0;34m(\u001b[0m\u001b[0mcolumns\u001b[0m\u001b[0;34m=\u001b[0m\u001b[0;34m[\u001b[0m\u001b[0;34m'Id'\u001b[0m\u001b[0;34m,\u001b[0m \u001b[0;34m'Score'\u001b[0m\u001b[0;34m]\u001b[0m\u001b[0;34m,\u001b[0m \u001b[0minplace\u001b[0m\u001b[0;34m=\u001b[0m\u001b[0;32mTrue\u001b[0m\u001b[0;34m)\u001b[0m\u001b[0;34m\u001b[0m\u001b[0;34m\u001b[0m\u001b[0m\n\u001b[0m",
      "\u001b[0;32m//anaconda3/lib/python3.7/site-packages/pandas/core/frame.py\u001b[0m in \u001b[0;36mdrop\u001b[0;34m(self, labels, axis, index, columns, level, inplace, errors)\u001b[0m\n\u001b[1;32m   3938\u001b[0m                                            \u001b[0mindex\u001b[0m\u001b[0;34m=\u001b[0m\u001b[0mindex\u001b[0m\u001b[0;34m,\u001b[0m \u001b[0mcolumns\u001b[0m\u001b[0;34m=\u001b[0m\u001b[0mcolumns\u001b[0m\u001b[0;34m,\u001b[0m\u001b[0;34m\u001b[0m\u001b[0;34m\u001b[0m\u001b[0m\n\u001b[1;32m   3939\u001b[0m                                            \u001b[0mlevel\u001b[0m\u001b[0;34m=\u001b[0m\u001b[0mlevel\u001b[0m\u001b[0;34m,\u001b[0m \u001b[0minplace\u001b[0m\u001b[0;34m=\u001b[0m\u001b[0minplace\u001b[0m\u001b[0;34m,\u001b[0m\u001b[0;34m\u001b[0m\u001b[0;34m\u001b[0m\u001b[0m\n\u001b[0;32m-> 3940\u001b[0;31m                                            errors=errors)\n\u001b[0m\u001b[1;32m   3941\u001b[0m \u001b[0;34m\u001b[0m\u001b[0m\n\u001b[1;32m   3942\u001b[0m     @rewrite_axis_style_signature('mapper', [('copy', True),\n",
      "\u001b[0;32m//anaconda3/lib/python3.7/site-packages/pandas/core/generic.py\u001b[0m in \u001b[0;36mdrop\u001b[0;34m(self, labels, axis, index, columns, level, inplace, errors)\u001b[0m\n\u001b[1;32m   3778\u001b[0m         \u001b[0;32mfor\u001b[0m \u001b[0maxis\u001b[0m\u001b[0;34m,\u001b[0m \u001b[0mlabels\u001b[0m \u001b[0;32min\u001b[0m \u001b[0maxes\u001b[0m\u001b[0;34m.\u001b[0m\u001b[0mitems\u001b[0m\u001b[0;34m(\u001b[0m\u001b[0;34m)\u001b[0m\u001b[0;34m:\u001b[0m\u001b[0;34m\u001b[0m\u001b[0;34m\u001b[0m\u001b[0m\n\u001b[1;32m   3779\u001b[0m             \u001b[0;32mif\u001b[0m \u001b[0mlabels\u001b[0m \u001b[0;32mis\u001b[0m \u001b[0;32mnot\u001b[0m \u001b[0;32mNone\u001b[0m\u001b[0;34m:\u001b[0m\u001b[0;34m\u001b[0m\u001b[0;34m\u001b[0m\u001b[0m\n\u001b[0;32m-> 3780\u001b[0;31m                 \u001b[0mobj\u001b[0m \u001b[0;34m=\u001b[0m \u001b[0mobj\u001b[0m\u001b[0;34m.\u001b[0m\u001b[0m_drop_axis\u001b[0m\u001b[0;34m(\u001b[0m\u001b[0mlabels\u001b[0m\u001b[0;34m,\u001b[0m \u001b[0maxis\u001b[0m\u001b[0;34m,\u001b[0m \u001b[0mlevel\u001b[0m\u001b[0;34m=\u001b[0m\u001b[0mlevel\u001b[0m\u001b[0;34m,\u001b[0m \u001b[0merrors\u001b[0m\u001b[0;34m=\u001b[0m\u001b[0merrors\u001b[0m\u001b[0;34m)\u001b[0m\u001b[0;34m\u001b[0m\u001b[0;34m\u001b[0m\u001b[0m\n\u001b[0m\u001b[1;32m   3781\u001b[0m \u001b[0;34m\u001b[0m\u001b[0m\n\u001b[1;32m   3782\u001b[0m         \u001b[0;32mif\u001b[0m \u001b[0minplace\u001b[0m\u001b[0;34m:\u001b[0m\u001b[0;34m\u001b[0m\u001b[0;34m\u001b[0m\u001b[0m\n",
      "\u001b[0;32m//anaconda3/lib/python3.7/site-packages/pandas/core/generic.py\u001b[0m in \u001b[0;36m_drop_axis\u001b[0;34m(self, labels, axis, level, errors)\u001b[0m\n\u001b[1;32m   3810\u001b[0m                 \u001b[0mnew_axis\u001b[0m \u001b[0;34m=\u001b[0m \u001b[0maxis\u001b[0m\u001b[0;34m.\u001b[0m\u001b[0mdrop\u001b[0m\u001b[0;34m(\u001b[0m\u001b[0mlabels\u001b[0m\u001b[0;34m,\u001b[0m \u001b[0mlevel\u001b[0m\u001b[0;34m=\u001b[0m\u001b[0mlevel\u001b[0m\u001b[0;34m,\u001b[0m \u001b[0merrors\u001b[0m\u001b[0;34m=\u001b[0m\u001b[0merrors\u001b[0m\u001b[0;34m)\u001b[0m\u001b[0;34m\u001b[0m\u001b[0;34m\u001b[0m\u001b[0m\n\u001b[1;32m   3811\u001b[0m             \u001b[0;32melse\u001b[0m\u001b[0;34m:\u001b[0m\u001b[0;34m\u001b[0m\u001b[0;34m\u001b[0m\u001b[0m\n\u001b[0;32m-> 3812\u001b[0;31m                 \u001b[0mnew_axis\u001b[0m \u001b[0;34m=\u001b[0m \u001b[0maxis\u001b[0m\u001b[0;34m.\u001b[0m\u001b[0mdrop\u001b[0m\u001b[0;34m(\u001b[0m\u001b[0mlabels\u001b[0m\u001b[0;34m,\u001b[0m \u001b[0merrors\u001b[0m\u001b[0;34m=\u001b[0m\u001b[0merrors\u001b[0m\u001b[0;34m)\u001b[0m\u001b[0;34m\u001b[0m\u001b[0;34m\u001b[0m\u001b[0m\n\u001b[0m\u001b[1;32m   3813\u001b[0m             \u001b[0mresult\u001b[0m \u001b[0;34m=\u001b[0m \u001b[0mself\u001b[0m\u001b[0;34m.\u001b[0m\u001b[0mreindex\u001b[0m\u001b[0;34m(\u001b[0m\u001b[0;34m**\u001b[0m\u001b[0;34m{\u001b[0m\u001b[0maxis_name\u001b[0m\u001b[0;34m:\u001b[0m \u001b[0mnew_axis\u001b[0m\u001b[0;34m}\u001b[0m\u001b[0;34m)\u001b[0m\u001b[0;34m\u001b[0m\u001b[0;34m\u001b[0m\u001b[0m\n\u001b[1;32m   3814\u001b[0m \u001b[0;34m\u001b[0m\u001b[0m\n",
      "\u001b[0;32m//anaconda3/lib/python3.7/site-packages/pandas/core/indexes/base.py\u001b[0m in \u001b[0;36mdrop\u001b[0;34m(self, labels, errors)\u001b[0m\n\u001b[1;32m   4963\u001b[0m             \u001b[0;32mif\u001b[0m \u001b[0merrors\u001b[0m \u001b[0;34m!=\u001b[0m \u001b[0;34m'ignore'\u001b[0m\u001b[0;34m:\u001b[0m\u001b[0;34m\u001b[0m\u001b[0;34m\u001b[0m\u001b[0m\n\u001b[1;32m   4964\u001b[0m                 raise KeyError(\n\u001b[0;32m-> 4965\u001b[0;31m                     '{} not found in axis'.format(labels[mask]))\n\u001b[0m\u001b[1;32m   4966\u001b[0m             \u001b[0mindexer\u001b[0m \u001b[0;34m=\u001b[0m \u001b[0mindexer\u001b[0m\u001b[0;34m[\u001b[0m\u001b[0;34m~\u001b[0m\u001b[0mmask\u001b[0m\u001b[0;34m]\u001b[0m\u001b[0;34m\u001b[0m\u001b[0;34m\u001b[0m\u001b[0m\n\u001b[1;32m   4967\u001b[0m         \u001b[0;32mreturn\u001b[0m \u001b[0mself\u001b[0m\u001b[0;34m.\u001b[0m\u001b[0mdelete\u001b[0m\u001b[0;34m(\u001b[0m\u001b[0mindexer\u001b[0m\u001b[0;34m)\u001b[0m\u001b[0;34m\u001b[0m\u001b[0;34m\u001b[0m\u001b[0m\n",
      "\u001b[0;31mKeyError\u001b[0m: \"['Id' 'Score'] not found in axis\""
     ]
    }
   ],
   "source": [
    "questions_high_score.drop(columns=['Id', 'Score'], inplace=True)"
   ]
  },
  {
   "cell_type": "markdown",
   "metadata": {},
   "source": [
    "### cleaning tags"
   ]
  },
  {
   "cell_type": "code",
   "execution_count": 306,
   "metadata": {},
   "outputs": [
    {
     "data": {
      "text/html": [
       "<div>\n",
       "<style scoped>\n",
       "    .dataframe tbody tr th:only-of-type {\n",
       "        vertical-align: middle;\n",
       "    }\n",
       "\n",
       "    .dataframe tbody tr th {\n",
       "        vertical-align: top;\n",
       "    }\n",
       "\n",
       "    .dataframe thead th {\n",
       "        text-align: right;\n",
       "    }\n",
       "</style>\n",
       "<table border=\"1\" class=\"dataframe\">\n",
       "  <thead>\n",
       "    <tr style=\"text-align: right;\">\n",
       "      <th></th>\n",
       "      <th>Title</th>\n",
       "      <th>Body</th>\n",
       "      <th>Unnamed: 0</th>\n",
       "      <th>Tags</th>\n",
       "    </tr>\n",
       "  </thead>\n",
       "  <tbody>\n",
       "    <tr>\n",
       "      <th>0</th>\n",
       "      <td>SQLStatement.execute() - multiple queries in o...</td>\n",
       "      <td>&lt;p&gt;I've written a database generation script i...</td>\n",
       "      <td>0</td>\n",
       "      <td>flex actionscript-3 air</td>\n",
       "    </tr>\n",
       "    <tr>\n",
       "      <th>1</th>\n",
       "      <td>Good branching and merging tutorials for Torto...</td>\n",
       "      <td>&lt;p&gt;Are there any really good tutorials explain...</td>\n",
       "      <td>1</td>\n",
       "      <td>svn tortoisesvn branch branching-and-merging</td>\n",
       "    </tr>\n",
       "    <tr>\n",
       "      <th>2</th>\n",
       "      <td>ASP.NET Site Maps</td>\n",
       "      <td>&lt;p&gt;Has anyone got experience creating &lt;strong&gt;...</td>\n",
       "      <td>2</td>\n",
       "      <td>sql asp.net sitemap</td>\n",
       "    </tr>\n",
       "    <tr>\n",
       "      <th>3</th>\n",
       "      <td>Function for creating color wheels</td>\n",
       "      <td>&lt;p&gt;This is something I've pseudo-solved many t...</td>\n",
       "      <td>3</td>\n",
       "      <td>algorithm language-agnostic colors color-space</td>\n",
       "    </tr>\n",
       "    <tr>\n",
       "      <th>4</th>\n",
       "      <td>Adding scripting functionality to .NET applica...</td>\n",
       "      <td>&lt;p&gt;I have a little game written in C#. It uses...</td>\n",
       "      <td>4</td>\n",
       "      <td>c# .net scripting compiler-construction</td>\n",
       "    </tr>\n",
       "  </tbody>\n",
       "</table>\n",
       "</div>"
      ],
      "text/plain": [
       "                                               Title  \\\n",
       "0  SQLStatement.execute() - multiple queries in o...   \n",
       "1  Good branching and merging tutorials for Torto...   \n",
       "2                                  ASP.NET Site Maps   \n",
       "3                 Function for creating color wheels   \n",
       "4  Adding scripting functionality to .NET applica...   \n",
       "\n",
       "                                                Body  Unnamed: 0  \\\n",
       "0  <p>I've written a database generation script i...           0   \n",
       "1  <p>Are there any really good tutorials explain...           1   \n",
       "2  <p>Has anyone got experience creating <strong>...           2   \n",
       "3  <p>This is something I've pseudo-solved many t...           3   \n",
       "4  <p>I have a little game written in C#. It uses...           4   \n",
       "\n",
       "                                             Tags  \n",
       "0                         flex actionscript-3 air  \n",
       "1    svn tortoisesvn branch branching-and-merging  \n",
       "2                             sql asp.net sitemap  \n",
       "3  algorithm language-agnostic colors color-space  \n",
       "4         c# .net scripting compiler-construction  "
      ]
     },
     "execution_count": 306,
     "metadata": {},
     "output_type": "execute_result"
    }
   ],
   "source": [
    "questions_high_score.head()"
   ]
  },
  {
   "cell_type": "code",
<<<<<<< HEAD
   "execution_count": 307,
=======
   "execution_count": 116,
>>>>>>> 0d6e1abbff3fa3e26cbda721ef97cc81ff0e7650
   "metadata": {},
   "outputs": [],
   "source": [
    "questions_high_score['Tags'] = questions_high_score['Tags'].apply(lambda x: x.split())"
   ]
  },
  {
   "cell_type": "code",
   "execution_count": 120,
   "metadata": {},
   "outputs": [],
   "source": [
    "total_tags = [item for sublist in questions_high_score['Tags'].values for item in sublist]"
   ]
  },
  {
   "cell_type": "code",
<<<<<<< HEAD
   "execution_count": 309,
=======
   "execution_count": 117,
>>>>>>> 0d6e1abbff3fa3e26cbda721ef97cc81ff0e7650
   "metadata": {},
   "outputs": [
    {
     "data": {
      "text/plain": [
       "['flex',\n",
       " 'actionscript-3',\n",
       " 'air',\n",
       " 'svn',\n",
       " 'tortoisesvn',\n",
       " 'branch',\n",
       " 'branching-and-merging',\n",
       " 'sql',\n",
       " 'asp.net',\n",
       " 'sitemap',\n",
       " 'algorithm',\n",
       " 'language-agnostic',\n",
       " 'colors',\n",
       " 'color-space',\n",
       " 'c#',\n",
       " '.net',\n",
       " 'scripting',\n",
       " 'compiler-construction',\n",
       " 'c++',\n",
       " 'oop',\n",
       " 'class',\n",
       " 'nested-class',\n",
       " '.net',\n",
       " 'web-services',\n",
       " 'sql-server',\n",
       " 'sql-server-2005',\n",
       " 'deployment',\n",
       " 'release-management',\n",
       " 'c#',\n",
       " 'visual-studio',\n",
       " 'versioning',\n",
       " 'windows',\n",
       " 'visual-studio',\n",
       " 'registry',\n",
       " 'installation',\n",
       " 'c#',\n",
       " 'database',\n",
       " 'loops',\n",
       " 'connection',\n",
       " 'c#',\n",
       " 'asp.net',\n",
       " 'c#',\n",
       " 'file-locking',\n",
       " 'unix',\n",
       " 'size',\n",
       " 'svn',\n",
       " 'msbuild',\n",
       " 'cruisecontrol.net',\n",
       " 'web-applications',\n",
       " 'dns',\n",
       " 'subdomain',\n",
       " 'account',\n",
       " '.net',\n",
       " '.net-3.5',\n",
       " 'msbuild',\n",
       " 'nant',\n",
       " 'sql-server',\n",
       " 'windows-server-2008',\n",
       " 'sql-server',\n",
       " 'sql-server-2008',\n",
       " 'sql-server',\n",
       " 'c#',\n",
       " '.net',\n",
       " 'unit-testing',\n",
       " 'testing',\n",
       " 'svn',\n",
       " 'version-control',\n",
       " 'sql',\n",
       " 'database',\n",
       " 'postgresql',\n",
       " 'stored-procedures',\n",
       " 'triggers',\n",
       " 'sql',\n",
       " 'sql-server',\n",
       " 'c#',\n",
       " 'dataset',\n",
       " 'datatable',\n",
       " 'asp-classic',\n",
       " 'vbscript',\n",
       " 'html',\n",
       " 'autocomplete',\n",
       " 'c',\n",
       " 'architecture',\n",
       " 'data-structures',\n",
       " 'asp.net',\n",
       " 'flash',\n",
       " 'video',\n",
       " 'embed',\n",
       " 'powershell',\n",
       " 'cmdlets',\n",
       " 'optimization',\n",
       " 'setter',\n",
       " 'getter',\n",
       " 'verification',\n",
       " 'winforms',\n",
       " 'error-handling',\n",
       " 'user-controls',\n",
       " 'c#',\n",
       " 'colors',\n",
       " 'sql',\n",
       " 'sql-server-2005',\n",
       " 'paging',\n",
       " 'php',\n",
       " 'mysql',\n",
       " 'security',\n",
       " 'cracking',\n",
       " 'hijacked',\n",
       " 'c++',\n",
       " 'visual-studio',\n",
       " 'unit-testing',\n",
       " 'testing',\n",
       " 'fogbugz',\n",
       " 'c++',\n",
       " 'visual-studio',\n",
       " 'algorithm',\n",
       " 'language-agnostic',\n",
       " 'sql-server',\n",
       " 'full-text-search',\n",
       " 'sql-server',\n",
       " 'sql-server-2005',\n",
       " 'math',\n",
       " 'ruby',\n",
       " 'rake',\n",
       " 'command-line-interface',\n",
       " 'java',\n",
       " 'code-coverage',\n",
       " 'static-analysis',\n",
       " 'sql',\n",
       " 'sql-server',\n",
       " 'database',\n",
       " 'diagram',\n",
       " 'ado.net',\n",
       " 'asp.net',\n",
       " 'php',\n",
       " 'web-services',\n",
       " 'visual-studio',\n",
       " 'wsdl',\n",
       " 'c#',\n",
       " '.net',\n",
       " 'java',\n",
       " 'jni',\n",
       " 'java-web-start',\n",
       " 'nativelibrary',\n",
       " 'version-control',\n",
       " 'dvcs',\n",
       " 'c#',\n",
       " 'user-interface',\n",
       " 'directx',\n",
       " 'xml',\n",
       " 'xml-signature',\n",
       " 'regex',\n",
       " 'ansi',\n",
       " 'html',\n",
       " 'email',\n",
       " 'forms',\n",
       " 'confirm',\n",
       " 'c#',\n",
       " '.net',\n",
       " 'sharepoint',\n",
       " 'assemblies',\n",
       " 'sql-server',\n",
       " 'sql-server',\n",
       " 'indexing',\n",
       " 'architecture',\n",
       " 'n-tier',\n",
       " 'authentication',\n",
       " 'web-applications',\n",
       " 'account',\n",
       " 'svn',\n",
       " 'subclipse',\n",
       " 'sql',\n",
       " 'mysql',\n",
       " 'foreign-keys',\n",
       " '.net',\n",
       " 'redistributable',\n",
       " 'asp.net',\n",
       " 'logging',\n",
       " 'permissions',\n",
       " 'svn',\n",
       " 'continuous-integration',\n",
       " 'linux',\n",
       " 'ssh',\n",
       " 'unit-testing',\n",
       " 'user-interface',\n",
       " 'selenium',\n",
       " 'javascript',\n",
       " 'firefox',\n",
       " 'memory',\n",
       " 'cpu',\n",
       " 'java',\n",
       " 'windows',\n",
       " 'swt',\n",
       " 'executable',\n",
       " 'software-distribution',\n",
       " 'c++',\n",
       " 'file',\n",
       " 'io',\n",
       " 'css',\n",
       " 'validation',\n",
       " 'xhtml',\n",
       " 'cross-browser',\n",
       " 'w3c',\n",
       " 'c#',\n",
       " '.net',\n",
       " 'windows-services',\n",
       " 'printing',\n",
       " 'linq',\n",
       " '.net-3.5',\n",
       " 'plugins',\n",
       " 'extensibility',\n",
       " 'ant',\n",
       " 'build-process',\n",
       " 'c#',\n",
       " 'data-structures',\n",
       " 'collections',\n",
       " 'objective-c',\n",
       " 'osx',\n",
       " 'webcam',\n",
       " 'isight',\n",
       " 'architecture',\n",
       " 'c',\n",
       " 'function',\n",
       " 'pointers',\n",
       " 'syntax',\n",
       " 'parameters',\n",
       " 'lisp',\n",
       " 'scheme',\n",
       " '.net',\n",
       " 'sql',\n",
       " 'linq',\n",
       " 'pagination',\n",
       " 'string',\n",
       " 'optimization',\n",
       " 'language-agnostic',\n",
       " 'compiler-construction',\n",
       " 'asp.net',\n",
       " 'asp.net-mvc',\n",
       " 'validation',\n",
       " 'binding',\n",
       " 'dynamic-binding',\n",
       " 'static-binding',\n",
       " 'database',\n",
       " 'hardware',\n",
       " 'storage',\n",
       " 'raid',\n",
       " 'disk',\n",
       " 'regex',\n",
       " 'c#',\n",
       " '.net-3.5',\n",
       " '.net-2.0',\n",
       " 'remoting',\n",
       " 'rpc',\n",
       " 'c',\n",
       " 'linux',\n",
       " '.net',\n",
       " 'n-tier',\n",
       " 'c++',\n",
       " 'emacs',\n",
       " 'java',\n",
       " '.net',\n",
       " 'ikvm',\n",
       " 'gnu-classpath',\n",
       " 'php',\n",
       " 'apache',\n",
       " 'upload',\n",
       " 'c++',\n",
       " 'python',\n",
       " 'unit-testing',\n",
       " 'code-generation',\n",
       " 'swig',\n",
       " 'c',\n",
       " 'architecture',\n",
       " 'pointers',\n",
       " 'asp.net',\n",
       " 'ajax',\n",
       " 'optimization',\n",
       " 'performance',\n",
       " 'sql-server',\n",
       " 'sql-server-2005',\n",
       " 'design-patterns',\n",
       " 'fileparse',\n",
       " 'internet-explorer',\n",
       " 'unicode',\n",
       " 'msbuild',\n",
       " 'virtualization',\n",
       " 'hyper-v',\n",
       " 'java',\n",
       " 'sockets',\n",
       " 'ip',\n",
       " 'router',\n",
       " 'asp.net',\n",
       " 'error-handling',\n",
       " 'nlog',\n",
       " 'health-monitoring',\n",
       " 'asp.net',\n",
       " 'performance',\n",
       " '.net-3.5',\n",
       " 'content-management-system',\n",
       " 'n2',\n",
       " 'vbscript',\n",
       " 'wmi',\n",
       " 'java',\n",
       " 'php',\n",
       " 'jsp',\n",
       " 'tomcat',\n",
       " 'resources',\n",
       " 'dataset',\n",
       " 'mysql',\n",
       " 'database',\n",
       " 'denormalization',\n",
       " 'c#',\n",
       " '.net',\n",
       " 'vb.net',\n",
       " 'c#',\n",
       " '.net',\n",
       " 'multithreading',\n",
       " 'exception',\n",
       " 'continuous-integration',\n",
       " 'bug-tracking',\n",
       " 'fogbugz',\n",
       " 'cruisecontrol.rb',\n",
       " 'iis-7',\n",
       " 'cruisecontrol.net',\n",
       " 'version-control',\n",
       " 'sql',\n",
       " 'sql-server',\n",
       " 'stored-procedures',\n",
       " 'upsert',\n",
       " 'php',\n",
       " 'optimization',\n",
       " 'performance',\n",
       " 'unit-testing',\n",
       " 'testing',\n",
       " 'process',\n",
       " 'powershell',\n",
       " 'batch-file',\n",
       " 'opengl',\n",
       " 'textures',\n",
       " 'colors',\n",
       " 'rgb',\n",
       " 'monochrome',\n",
       " 'opengl',\n",
       " 'glut',\n",
       " 'menu',\n",
       " 'vim',\n",
       " 'editor',\n",
       " 'vi',\n",
       " 'linq',\n",
       " 'linq-to-sql',\n",
       " 'stored-procedures',\n",
       " '.net',\n",
       " 'attributes',\n",
       " 'versions',\n",
       " 'c++',\n",
       " 'c',\n",
       " 'c-preprocessor',\n",
       " 'javascript',\n",
       " 'web-applications',\n",
       " 'deployment',\n",
       " 'asp.net-mvc',\n",
       " 'asp.net-mvc-routing',\n",
       " 'java',\n",
       " 'oop',\n",
       " 'design',\n",
       " 'architecture',\n",
       " 'c#',\n",
       " 'outlook',\n",
       " 'email',\n",
       " 'message',\n",
       " 'msg',\n",
       " 'c#',\n",
       " 'string',\n",
       " 'enums',\n",
       " 'java',\n",
       " 'spring',\n",
       " 'osgi',\n",
       " 'c#',\n",
       " 'hash',\n",
       " '.net',\n",
       " 'build-process',\n",
       " 'nant',\n",
       " 'c#',\n",
       " 'sql-server',\n",
       " 'tsql',\n",
       " 'ado.net',\n",
       " 'sql-server-2000',\n",
       " 'data-structures',\n",
       " 'haskell',\n",
       " 'types',\n",
       " 'functional-programming',\n",
       " 'algebraic-data-types',\n",
       " 'unit-testing',\n",
       " 'c',\n",
       " 'process',\n",
       " 'c#',\n",
       " '.net',\n",
       " 'python',\n",
       " 'zip',\n",
       " 'language-agnostic',\n",
       " 'opengl',\n",
       " 'glew',\n",
       " '.net-3.5',\n",
       " 'intellisense',\n",
       " 'knowledge-management',\n",
       " 'parsing',\n",
       " 'monads',\n",
       " 'mysql',\n",
       " 'powershell',\n",
       " 'configuration-files',\n",
       " 'version-control',\n",
       " 'ankhsvn',\n",
       " 'ruby-on-rails',\n",
       " 'security',\n",
       " 'deployment',\n",
       " '.net',\n",
       " 'open-source',\n",
       " 'mono',\n",
       " 'open-source',\n",
       " 'licensing',\n",
       " 'javascript',\n",
       " 'asp.net',\n",
       " 'gridview',\n",
       " 'infragistics',\n",
       " 'ultrawebgrid',\n",
       " 'objective-c',\n",
       " 'xcode',\n",
       " 'osx',\n",
       " 'refactoring',\n",
       " '.net',\n",
       " 'vb.net',\n",
       " 'ms-word',\n",
       " 'rtf',\n",
       " 'java',\n",
       " 'swing',\n",
       " 'jpanel',\n",
       " '.net',\n",
       " 'flex',\n",
       " 'flash',\n",
       " 'silverlight',\n",
       " 'c#',\n",
       " 'sql',\n",
       " 'linq',\n",
       " 'django',\n",
       " 'shared-hosting',\n",
       " 'hostmonster',\n",
       " '.net',\n",
       " 'asp.net',\n",
       " 'url',\n",
       " 'uri',\n",
       " 'authority',\n",
       " 'postgresql',\n",
       " 'indexing',\n",
       " 'gin',\n",
       " 'gist-index',\n",
       " 'caching',\n",
       " '.net-2.0',\n",
       " 'memcached',\n",
       " 'enterprise-library',\n",
       " 'html',\n",
       " 'css',\n",
       " '.net',\n",
       " 'wcf',\n",
       " 'firewall',\n",
       " 'push',\n",
       " 'duplex',\n",
       " 'c',\n",
       " 'kr-c',\n",
       " 'c89',\n",
       " 'sql',\n",
       " 'sql-server',\n",
       " 'tsql',\n",
       " 'datetime',\n",
       " 'user-defined-functions',\n",
       " 'security',\n",
       " 'session',\n",
       " 'cookies',\n",
       " 'ruby-on-rails',\n",
       " 'ruby',\n",
       " 'plugins',\n",
       " 'c#',\n",
       " 'coding-style',\n",
       " 'windows-vista',\n",
       " 'database',\n",
       " 'database-design',\n",
       " 'postgresql',\n",
       " 'algorithm',\n",
       " 'language-agnostic',\n",
       " 'ruby',\n",
       " 'serialization',\n",
       " 'lambda',\n",
       " 'proc-object',\n",
       " 'unit-testing',\n",
       " 'testing',\n",
       " 'php',\n",
       " 'arrays',\n",
       " 'class',\n",
       " 'c#',\n",
       " 'sql',\n",
       " 'sql-server',\n",
       " 'sql-server-2005',\n",
       " 'language-agnostic',\n",
       " 'oop',\n",
       " 'ruby',\n",
       " 'shoes',\n",
       " 'irc',\n",
       " 'model-view-controller',\n",
       " 'web-frameworks',\n",
       " 'sql-server',\n",
       " 'tsql',\n",
       " 'pivot',\n",
       " 'visual-studio',\n",
       " 'build-automation',\n",
       " 'visual-studio',\n",
       " 'vim',\n",
       " 'ide',\n",
       " 'editor',\n",
       " 'oop',\n",
       " 'svn',\n",
       " 'vb6',\n",
       " 'css',\n",
       " 'abstraction',\n",
       " 'java',\n",
       " 'unix',\n",
       " 'windows-services',\n",
       " 'daemon',\n",
       " 'c++',\n",
       " 'c',\n",
       " 'visual-studio',\n",
       " 'memory-leaks',\n",
       " 'ruby',\n",
       " 'performance',\n",
       " 'ruby-1.9',\n",
       " 'c#',\n",
       " 'sqlite',\n",
       " 'asp.net',\n",
       " 'c#',\n",
       " '.net',\n",
       " 'jquery',\n",
       " 'ajax',\n",
       " 'json',\n",
       " 'character-encoding',\n",
       " 'c#',\n",
       " 'timespan',\n",
       " '.net',\n",
       " 'xpath',\n",
       " 'excel',\n",
       " 'excel-vba',\n",
       " 'javascript',\n",
       " 'arrays',\n",
       " 'comparison',\n",
       " 'c++',\n",
       " 'winapi',\n",
       " 'java',\n",
       " 'enumeration',\n",
       " 'iterable',\n",
       " 'c#',\n",
       " 'file',\n",
       " 'recursion',\n",
       " 'c#',\n",
       " 'trace',\n",
       " 'c++',\n",
       " 'qt',\n",
       " 'mfc',\n",
       " 'regex',\n",
       " 'doi',\n",
       " 'c++',\n",
       " 'casting',\n",
       " 'rtti',\n",
       " 'dynamic-cast',\n",
       " '.net',\n",
       " 'attributes',\n",
       " 'c++',\n",
       " 'performance',\n",
       " 'file-organization',\n",
       " 'android',\n",
       " 'authentication',\n",
       " 'proxy',\n",
       " 'open-source',\n",
       " 'windows-mobile',\n",
       " 'scripting',\n",
       " 'sysadmin',\n",
       " 'administration',\n",
       " 'architecture',\n",
       " 'rest',\n",
       " 'soap',\n",
       " '.net',\n",
       " 'wpf',\n",
       " 'version-control',\n",
       " 'tracking',\n",
       " 'c++',\n",
       " 'sockets',\n",
       " 'udp',\n",
       " 'c#',\n",
       " '2d',\n",
       " 'css',\n",
       " 'asp.net-mvc',\n",
       " 'c#',\n",
       " '.net',\n",
       " 'visual-studio',\n",
       " '.net-3.5',\n",
       " '.net-2.0',\n",
       " 'javascript',\n",
       " 'flash',\n",
       " 'mysql',\n",
       " 'replication',\n",
       " 'mysql-error-1062',\n",
       " 'binlog',\n",
       " 'database',\n",
       " 'unit-testing',\n",
       " 'linq',\n",
       " 'oracle',\n",
       " '.net',\n",
       " 'winforms',\n",
       " '.net-2.0',\n",
       " 'content-type',\n",
       " 'mhtml',\n",
       " 'ruby-on-rails',\n",
       " 'ruby',\n",
       " 'python',\n",
       " 'multithreading',\n",
       " '.net',\n",
       " 'wpf',\n",
       " 'sql',\n",
       " 'indexing',\n",
       " 'wcf',\n",
       " 'web-services',\n",
       " 'java',\n",
       " 'logging',\n",
       " 'log4j',\n",
       " 'java.util.logging',\n",
       " 'xslt',\n",
       " 'c#',\n",
       " 'sql',\n",
       " 'sql-server',\n",
       " 'tsql',\n",
       " 'regex',\n",
       " 'language-agnostic',\n",
       " 'web-services',\n",
       " 'testing',\n",
       " 'sql',\n",
       " 'puzzle',\n",
       " 'c#',\n",
       " '.net',\n",
       " 'email',\n",
       " 'smtp',\n",
       " 'gmail',\n",
       " 'java',\n",
       " 'nan',\n",
       " 'assert',\n",
       " 'sql',\n",
       " 'sql-server',\n",
       " 'wpf',\n",
       " 'binding',\n",
       " 'dataset',\n",
       " 'datarowview',\n",
       " 'defaultview',\n",
       " 'javascript',\n",
       " 'model-view-controller',\n",
       " 'architecture',\n",
       " 'client',\n",
       " 'ria',\n",
       " 'asp.net-mvc',\n",
       " 'unit-testing',\n",
       " 'mocking',\n",
       " 'moq',\n",
       " 'rhino-mocks',\n",
       " 'java',\n",
       " 'process',\n",
       " '.net',\n",
       " 'windows',\n",
       " 'components',\n",
       " 'dvd',\n",
       " 'javascript',\n",
       " 'html',\n",
       " 'css',\n",
       " 'open-source',\n",
       " 'wolfram-mathematica',\n",
       " 'symbolic-math',\n",
       " 'computer-algebra-systems',\n",
       " 'xcode',\n",
       " 'osx',\n",
       " 'templates',\n",
       " 'xcode4',\n",
       " 'xcode4.5',\n",
       " 'java',\n",
       " 'networking',\n",
       " 'ethernet',\n",
       " 'python',\n",
       " 'multithreading',\n",
       " 'php',\n",
       " 'html',\n",
       " 'screen-scraping',\n",
       " 'asp.net',\n",
       " 'css',\n",
       " 'visual-studio-2008',\n",
       " 'user-controls',\n",
       " 'ruby',\n",
       " 'hash',\n",
       " 'sha1',\n",
       " 'multithreading',\n",
       " 'concurrency',\n",
       " 'terminology',\n",
       " 'race-condition',\n",
       " 'python',\n",
       " 'tdd',\n",
       " 'pair-programming',\n",
       " 'javascript',\n",
       " 'jquery',\n",
       " 'perl',\n",
       " 'file',\n",
       " 'locking',\n",
       " 'verilog',\n",
       " 'jquery',\n",
       " 'ajax',\n",
       " 'http',\n",
       " 'forms',\n",
       " 'iframe',\n",
       " 'python',\n",
       " 'static-analysis',\n",
       " 'pylint',\n",
       " 'pyflakes',\n",
       " 'api',\n",
       " 'networking',\n",
       " 'messaging',\n",
       " 'distributed',\n",
       " 'cluster-computing',\n",
       " 'algorithm',\n",
       " 'graphics',\n",
       " 'audio',\n",
       " 'photoshop',\n",
       " 'signal-processing',\n",
       " 'wcf',\n",
       " 'web-services',\n",
       " 'domain-driven-design',\n",
       " 'svn',\n",
       " 'c',\n",
       " 'cross-platform',\n",
       " '32-bit',\n",
       " 'sorting',\n",
       " 'comparison',\n",
       " 'f#',\n",
       " 'ocaml',\n",
       " 'c#',\n",
       " 'arrays',\n",
       " 'ruby',\n",
       " 'directx',\n",
       " 'remote-desktop',\n",
       " 'sql',\n",
       " 'count',\n",
       " 'version-control',\n",
       " 'ms-word',\n",
       " 'windows',\n",
       " 'installation',\n",
       " 'x86',\n",
       " 'sse',\n",
       " 'assembly',\n",
       " 'java',\n",
       " 'unit-testing',\n",
       " 'tdd',\n",
       " 'graphics',\n",
       " 'asp.net',\n",
       " 'file',\n",
       " 'download',\n",
       " 'wpf',\n",
       " 'user-interface',\n",
       " 'asp.net',\n",
       " 'maps',\n",
       " 'postgresql',\n",
       " 'bash',\n",
       " '.net',\n",
       " 'winapi',\n",
       " 'disk',\n",
       " 'research',\n",
       " 'c#',\n",
       " 'asp.net',\n",
       " 'visual-studio',\n",
       " 'oop',\n",
       " 'class-design',\n",
       " 'database',\n",
       " 'data-structures',\n",
       " 'indexing',\n",
       " 'schema',\n",
       " 'c#',\n",
       " '.net',\n",
       " 'io',\n",
       " 'javascript',\n",
       " 'python',\n",
       " 'c#',\n",
       " 'overloading',\n",
       " 'java',\n",
       " 'methods',\n",
       " 'parameter-passing',\n",
       " 'pass-by-reference',\n",
       " 'pass-by-value',\n",
       " 'c#',\n",
       " 'asp.net',\n",
       " 'user-controls',\n",
       " 'c#',\n",
       " 'automatic-properties',\n",
       " 'codeigniter',\n",
       " 'zend-framework',\n",
       " 'smarty',\n",
       " 'asp.net',\n",
       " '.net',\n",
       " 'security',\n",
       " 'encryption',\n",
       " 'cryptography',\n",
       " 'asp.net',\n",
       " 'multithreading',\n",
       " 'web-applications',\n",
       " 'caching',\n",
       " 'file-io',\n",
       " 'windows',\n",
       " 'emacs',\n",
       " 'c++',\n",
       " 'c',\n",
       " 'variadic-functions',\n",
       " 'licensing',\n",
       " 'testing',\n",
       " 'design-patterns',\n",
       " 'qa',\n",
       " 'regression',\n",
       " 'c++',\n",
       " 'namespaces',\n",
       " 'fuzzy-search',\n",
       " 'unix',\n",
       " 'shell',\n",
       " 'c#',\n",
       " '.net',\n",
       " 'unit-testing',\n",
       " 'windows-services',\n",
       " 'linq',\n",
       " 'linq-to-sql',\n",
       " '.net',\n",
       " 'winforms',\n",
       " 'user-interface',\n",
       " 'windows-xp',\n",
       " 'sql',\n",
       " '.net',\n",
       " 'wcf',\n",
       " 'c++',\n",
       " 'python',\n",
       " 'date',\n",
       " 'osx',\n",
       " 'configuration',\n",
       " 'mercurial',\n",
       " 'perforce',\n",
       " 'p4merge',\n",
       " 'c#',\n",
       " 'java',\n",
       " 'regex',\n",
       " 'regex-negation',\n",
       " 'operating-system',\n",
       " 'kernel',\n",
       " 'osdev',\n",
       " 'python',\n",
       " 'django',\n",
       " 'url',\n",
       " 'django-urls',\n",
       " '.net',\n",
       " 'session',\n",
       " 'nhibernate',\n",
       " 'flush',\n",
       " 'html',\n",
       " 'css',\n",
       " 'design',\n",
       " 'c#',\n",
       " '.net',\n",
       " 'python',\n",
       " 'mime',\n",
       " 'sql',\n",
       " 'postgresql',\n",
       " 'group-by',\n",
       " 'string-concatenation',\n",
       " 'concat',\n",
       " 'mp3',\n",
       " 'ffmpeg',\n",
       " 'sql-server',\n",
       " 'database',\n",
       " 'configuration',\n",
       " 'firewall',\n",
       " 'sendmail',\n",
       " 'smarthost',\n",
       " 'c#',\n",
       " 'performance',\n",
       " 'loops',\n",
       " 'visual-studio',\n",
       " 'clickonce',\n",
       " 'versioning',\n",
       " 'version-control',\n",
       " 'regex',\n",
       " 'vb6',\n",
       " 'eclipse',\n",
       " 'svn',\n",
       " 'subclipse',\n",
       " '.net',\n",
       " 'cil',\n",
       " 'c#',\n",
       " 'windows',\n",
       " 'c#',\n",
       " '.net',\n",
       " 'string',\n",
       " '.net-3.5',\n",
       " 'nullable',\n",
       " 'asp.net',\n",
       " 'url',\n",
       " 'rest',\n",
       " 'friendly-url',\n",
       " 'version-control',\n",
       " 'perl',\n",
       " 'model-view-controller',\n",
       " 'python',\n",
       " 'interface',\n",
       " 'wacom',\n",
       " '.net',\n",
       " 'installation',\n",
       " 'inno-setup',\n",
       " 'javascript',\n",
       " 'jquery',\n",
       " 'user-interface',\n",
       " 'dialog',\n",
       " 'visual-studio',\n",
       " 'projects-and-solutions',\n",
       " 'xml',\n",
       " 'osx',\n",
       " 'c#',\n",
       " 'winforms',\n",
       " 'svn',\n",
       " 'tortoisesvn',\n",
       " 'iphone',\n",
       " 'xib',\n",
       " 'key-value-coding',\n",
       " 'html',\n",
       " 'css',\n",
       " 'sql',\n",
       " 'database',\n",
       " 'oracle',\n",
       " 'ora-00942',\n",
       " 'c#',\n",
       " 'winforms',\n",
       " 'user-interface',\n",
       " 'reference',\n",
       " 'labview',\n",
       " 'osx',\n",
       " 'fogbugz',\n",
       " 'database',\n",
       " 'unit-testing',\n",
       " 'ms-access',\n",
       " 'vba',\n",
       " 'c#',\n",
       " 'visual-studio',\n",
       " 'code-snippets',\n",
       " 'c++',\n",
       " 'templates',\n",
       " 'compiler-errors',\n",
       " 'asp.net',\n",
       " 'scalability',\n",
       " 'viewstate',\n",
       " 'eclipse',\n",
       " 'jsp',\n",
       " 'ruby-on-rails',\n",
       " 'ruby',\n",
       " 'social-networking',\n",
       " 'visual-studio',\n",
       " 'macros',\n",
       " 'tweak',\n",
       " 'asp.net',\n",
       " '.net',\n",
       " 'deployment',\n",
       " 'msbuild',\n",
       " 'php',\n",
       " 'oop',\n",
       " 'c#',\n",
       " '.net',\n",
       " 'winforms',\n",
       " 'focus',\n",
       " 'visual-studio',\n",
       " 'visual-studio-addins',\n",
       " 'bash',\n",
       " 'iterator',\n",
       " 'svn',\n",
       " 'apache',\n",
       " 'mod-rewrite',\n",
       " 'objective-c',\n",
       " 'cocoa',\n",
       " 'c++',\n",
       " 'mfc',\n",
       " 'bounds-checker',\n",
       " 'purify',\n",
       " 'html',\n",
       " 'forms',\n",
       " 'cross-browser',\n",
       " 'specifications',\n",
       " '.net',\n",
       " 'multithreading',\n",
       " 'reference',\n",
       " 'java',\n",
       " 'build-process',\n",
       " 'build-automation',\n",
       " 'ant',\n",
       " ...]"
      ]
     },
<<<<<<< HEAD
     "execution_count": 309,
=======
     "execution_count": 117,
>>>>>>> 0d6e1abbff3fa3e26cbda721ef97cc81ff0e7650
     "metadata": {},
     "output_type": "execute_result"
    }
   ],
   "source": [
    "total_tags"
   ]
  },
  {
   "cell_type": "code",
   "execution_count": 121,
   "metadata": {},
   "outputs": [
    {
     "data": {
      "text/plain": [
       "224129"
      ]
     },
     "execution_count": 121,
     "metadata": {},
     "output_type": "execute_result"
    }
   ],
   "source": [
    "len(total_tags)"
   ]
  },
  {
   "cell_type": "code",
   "execution_count": 310,
   "metadata": {},
   "outputs": [
    {
     "data": {
      "text/plain": [
       "14883"
      ]
     },
     "execution_count": 310,
     "metadata": {},
     "output_type": "execute_result"
    }
   ],
   "source": [
    "unique_tags = list(set(total_tags))\n",
    "len(unique_tags)"
   ]
  },
  {
   "cell_type": "code",
   "execution_count": 312,
   "metadata": {},
   "outputs": [],
   "source": [
    "flat_list = [item for sublist in questions_high_score['Tags'].values for item in sublist]"
   ]
  },
  {
   "cell_type": "code",
   "execution_count": 313,
   "metadata": {},
   "outputs": [],
   "source": [
    "keywords = nltk.FreqDist(flat_list)"
   ]
  },
  {
   "cell_type": "code",
<<<<<<< HEAD
   "execution_count": 314,
=======
   "execution_count": 118,
>>>>>>> 0d6e1abbff3fa3e26cbda721ef97cc81ff0e7650
   "metadata": {},
   "outputs": [
    {
     "data": {
      "text/plain": [
       "FreqDist({'c#': 6907, 'java': 6862, 'javascript': 5560, 'android': 5052, 'python': 4442, 'c++': 4369, 'php': 3024, 'jquery': 2770, '.net': 2705, 'ios': 2685, ...})"
      ]
     },
<<<<<<< HEAD
     "execution_count": 314,
=======
     "execution_count": 118,
>>>>>>> 0d6e1abbff3fa3e26cbda721ef97cc81ff0e7650
     "metadata": {},
     "output_type": "execute_result"
    }
   ],
   "source": [
    "keywords"
   ]
  },
  {
   "cell_type": "code",
   "execution_count": 315,
   "metadata": {},
   "outputs": [],
   "source": [
    "keywords = nltk.FreqDist(keywords)"
   ]
  },
  {
   "cell_type": "code",
<<<<<<< HEAD
   "execution_count": 316,
=======
   "execution_count": 119,
>>>>>>> 0d6e1abbff3fa3e26cbda721ef97cc81ff0e7650
   "metadata": {},
   "outputs": [
    {
     "data": {
      "text/plain": [
       "FreqDist({'c#': 6907, 'java': 6862, 'javascript': 5560, 'android': 5052, 'python': 4442, 'c++': 4369, 'php': 3024, 'jquery': 2770, '.net': 2705, 'ios': 2685, ...})"
      ]
     },
     "execution_count": 316,
     "metadata": {},
     "output_type": "execute_result"
    }
   ],
   "source": [
    "keywords"
   ]
  },
  {
   "cell_type": "code",
   "execution_count": 317,
   "metadata": {},
   "outputs": [],
   "source": [
    "frequencies_words = keywords.most_common(100)\n"
   ]
  },
  {
   "cell_type": "code",
   "execution_count": 322,
   "metadata": {},
   "outputs": [
    {
     "data": {
      "text/plain": [
       "100"
      ]
     },
     "execution_count": 322,
     "metadata": {},
     "output_type": "execute_result"
    }
   ],
   "source": [
    "len(frequencies_words)"
   ]
  },
  {
   "cell_type": "code",
   "execution_count": 328,
   "metadata": {},
   "outputs": [
    {
     "data": {
      "image/png": "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\n",
      "text/plain": [
       "<Figure size 1080x720 with 1 Axes>"
      ]
     },
     "metadata": {
      "needs_background": "light"
     },
     "output_type": "display_data"
    },
    {
     "data": {
      "text/plain": [
       "<matplotlib.axes._subplots.AxesSubplot at 0x1abc6e5cf8>"
      ]
     },
     "execution_count": 328,
     "metadata": {},
     "output_type": "execute_result"
    }
   ],
   "source": [
    "fig, ax = plt.subplots(figsize=(15, 10))\n",
    "keywords.plot(50, cumulative=False)"
   ]
  },
  {
   "cell_type": "code",
   "execution_count": 329,
   "metadata": {},
   "outputs": [],
   "source": [
    "tags_features = [word[0] for word in frequencies_words]"
   ]
  },
  {
   "cell_type": "code",
   "execution_count": 330,
   "metadata": {},
   "outputs": [],
   "source": [
    "def most_common(tags):\n",
    "    tags_filtered = []\n",
    "    for i in range(0, len(tags)):\n",
    "        if tags[i] in tags_features:\n",
    "            tags_filtered.append(tags[i])\n",
    "    return tags_filtered"
   ]
  },
  {
   "cell_type": "code",
   "execution_count": 331,
   "metadata": {},
   "outputs": [],
   "source": [
    "questions_high_score['Tags'] = questions_high_score['Tags'].apply(lambda x: most_common(x))\n",
    "questions_high_score['Tags'] = questions_high_score['Tags'].apply(lambda x: x if len(x)>0 else None)"
   ]
  },
  {
   "cell_type": "code",
   "execution_count": 332,
   "metadata": {},
   "outputs": [
    {
     "data": {
      "text/html": [
       "<div>\n",
       "<style scoped>\n",
       "    .dataframe tbody tr th:only-of-type {\n",
       "        vertical-align: middle;\n",
       "    }\n",
       "\n",
       "    .dataframe tbody tr th {\n",
       "        vertical-align: top;\n",
       "    }\n",
       "\n",
       "    .dataframe thead th {\n",
       "        text-align: right;\n",
       "    }\n",
       "</style>\n",
       "<table border=\"1\" class=\"dataframe\">\n",
       "  <thead>\n",
       "    <tr style=\"text-align: right;\">\n",
       "      <th></th>\n",
       "      <th>Title</th>\n",
       "      <th>Body</th>\n",
       "      <th>Unnamed: 0</th>\n",
       "      <th>Tags</th>\n",
       "    </tr>\n",
       "  </thead>\n",
       "  <tbody>\n",
       "    <tr>\n",
       "      <th>0</th>\n",
       "      <td>SQLStatement.execute() - multiple queries in o...</td>\n",
       "      <td>&lt;p&gt;I've written a database generation script i...</td>\n",
       "      <td>0</td>\n",
       "      <td>None</td>\n",
       "    </tr>\n",
       "    <tr>\n",
       "      <th>1</th>\n",
       "      <td>Good branching and merging tutorials for Torto...</td>\n",
       "      <td>&lt;p&gt;Are there any really good tutorials explain...</td>\n",
       "      <td>1</td>\n",
       "      <td>[svn]</td>\n",
       "    </tr>\n",
       "    <tr>\n",
       "      <th>2</th>\n",
       "      <td>ASP.NET Site Maps</td>\n",
       "      <td>&lt;p&gt;Has anyone got experience creating &lt;strong&gt;...</td>\n",
       "      <td>2</td>\n",
       "      <td>[sql, asp.net]</td>\n",
       "    </tr>\n",
       "    <tr>\n",
       "      <th>3</th>\n",
       "      <td>Function for creating color wheels</td>\n",
       "      <td>&lt;p&gt;This is something I've pseudo-solved many t...</td>\n",
       "      <td>3</td>\n",
       "      <td>[algorithm]</td>\n",
       "    </tr>\n",
       "    <tr>\n",
       "      <th>4</th>\n",
       "      <td>Adding scripting functionality to .NET applica...</td>\n",
       "      <td>&lt;p&gt;I have a little game written in C#. It uses...</td>\n",
       "      <td>4</td>\n",
       "      <td>[c#, .net]</td>\n",
       "    </tr>\n",
       "  </tbody>\n",
       "</table>\n",
       "</div>"
      ],
      "text/plain": [
       "                                               Title  \\\n",
       "0  SQLStatement.execute() - multiple queries in o...   \n",
       "1  Good branching and merging tutorials for Torto...   \n",
       "2                                  ASP.NET Site Maps   \n",
       "3                 Function for creating color wheels   \n",
       "4  Adding scripting functionality to .NET applica...   \n",
       "\n",
       "                                                Body  Unnamed: 0  \\\n",
       "0  <p>I've written a database generation script i...           0   \n",
       "1  <p>Are there any really good tutorials explain...           1   \n",
       "2  <p>Has anyone got experience creating <strong>...           2   \n",
       "3  <p>This is something I've pseudo-solved many t...           3   \n",
       "4  <p>I have a little game written in C#. It uses...           4   \n",
       "\n",
       "             Tags  \n",
       "0            None  \n",
       "1           [svn]  \n",
       "2  [sql, asp.net]  \n",
       "3     [algorithm]  \n",
       "4      [c#, .net]  "
      ]
     },
     "execution_count": 332,
     "metadata": {},
     "output_type": "execute_result"
    }
   ],
   "source": [
    "questions_high_score.head()"
   ]
  },
  {
   "cell_type": "code",
   "execution_count": 333,
   "metadata": {},
   "outputs": [],
   "source": [
    "questions_high_score.dropna(subset=['Tags'], inplace=True)"
   ]
  },
  {
   "cell_type": "code",
   "execution_count": 334,
   "metadata": {},
   "outputs": [
    {
     "data": {
      "text/html": [
       "<div>\n",
       "<style scoped>\n",
       "    .dataframe tbody tr th:only-of-type {\n",
       "        vertical-align: middle;\n",
       "    }\n",
       "\n",
       "    .dataframe tbody tr th {\n",
       "        vertical-align: top;\n",
       "    }\n",
       "\n",
       "    .dataframe thead th {\n",
       "        text-align: right;\n",
       "    }\n",
       "</style>\n",
       "<table border=\"1\" class=\"dataframe\">\n",
       "  <thead>\n",
       "    <tr style=\"text-align: right;\">\n",
       "      <th></th>\n",
       "      <th>Title</th>\n",
       "      <th>Body</th>\n",
       "      <th>Unnamed: 0</th>\n",
       "      <th>Tags</th>\n",
       "    </tr>\n",
       "  </thead>\n",
       "  <tbody>\n",
       "    <tr>\n",
       "      <th>1</th>\n",
       "      <td>Good branching and merging tutorials for Torto...</td>\n",
       "      <td>&lt;p&gt;Are there any really good tutorials explain...</td>\n",
       "      <td>1</td>\n",
       "      <td>[svn]</td>\n",
       "    </tr>\n",
       "    <tr>\n",
       "      <th>2</th>\n",
       "      <td>ASP.NET Site Maps</td>\n",
       "      <td>&lt;p&gt;Has anyone got experience creating &lt;strong&gt;...</td>\n",
       "      <td>2</td>\n",
       "      <td>[sql, asp.net]</td>\n",
       "    </tr>\n",
       "    <tr>\n",
       "      <th>3</th>\n",
       "      <td>Function for creating color wheels</td>\n",
       "      <td>&lt;p&gt;This is something I've pseudo-solved many t...</td>\n",
       "      <td>3</td>\n",
       "      <td>[algorithm]</td>\n",
       "    </tr>\n",
       "    <tr>\n",
       "      <th>4</th>\n",
       "      <td>Adding scripting functionality to .NET applica...</td>\n",
       "      <td>&lt;p&gt;I have a little game written in C#. It uses...</td>\n",
       "      <td>4</td>\n",
       "      <td>[c#, .net]</td>\n",
       "    </tr>\n",
       "    <tr>\n",
       "      <th>5</th>\n",
       "      <td>Should I use nested classes in this case?</td>\n",
       "      <td>&lt;p&gt;I am working on a collection of classes use...</td>\n",
       "      <td>5</td>\n",
       "      <td>[c++, oop, class]</td>\n",
       "    </tr>\n",
       "  </tbody>\n",
       "</table>\n",
       "</div>"
      ],
      "text/plain": [
       "                                               Title  \\\n",
       "1  Good branching and merging tutorials for Torto...   \n",
       "2                                  ASP.NET Site Maps   \n",
       "3                 Function for creating color wheels   \n",
       "4  Adding scripting functionality to .NET applica...   \n",
       "5          Should I use nested classes in this case?   \n",
       "\n",
       "                                                Body  Unnamed: 0  \\\n",
       "1  <p>Are there any really good tutorials explain...           1   \n",
       "2  <p>Has anyone got experience creating <strong>...           2   \n",
       "3  <p>This is something I've pseudo-solved many t...           3   \n",
       "4  <p>I have a little game written in C#. It uses...           4   \n",
       "5  <p>I am working on a collection of classes use...           5   \n",
       "\n",
       "                Tags  \n",
       "1              [svn]  \n",
       "2     [sql, asp.net]  \n",
       "3        [algorithm]  \n",
       "4         [c#, .net]  \n",
       "5  [c++, oop, class]  "
      ]
     },
     "execution_count": 334,
     "metadata": {},
     "output_type": "execute_result"
    }
   ],
   "source": [
    "questions_high_score.head()"
   ]
  },
  {
   "cell_type": "markdown",
   "metadata": {},
   "source": [
    "### Cleaning Body"
   ]
  },
  {
   "cell_type": "markdown",
   "metadata": {},
   "source": [
    "* Removing html format\n",
    "* Lowering text\n",
    "* Transforming abbreviations\n",
    "* Removing punctuation (but keeping words like c# since it's the most popular tag)\n",
    "* Lemmatizing words\n",
    "* Removing stop words"
   ]
  },
  {
   "cell_type": "code",
   "execution_count": 335,
   "metadata": {},
   "outputs": [],
   "source": [
    "# Converting html to text in the body\n",
    "\n",
    "questions_high_score['Body'] = questions_high_score['Body'].apply(lambda x: BeautifulSoup(x).get_text()) "
   ]
  },
  {
   "cell_type": "code",
   "execution_count": 337,
   "metadata": {},
   "outputs": [],
   "source": [
    "def clean_text(text):\n",
    "    text = text.lower()\n",
    "    text = re.sub(r\"what's\", \"what is \", text)\n",
    "    text = re.sub(r\"\\'s\", \" \", text)\n",
    "    text = re.sub(r\"\\'ve\", \" have \", text)\n",
    "    text = re.sub(r\"can't\", \"can not \", text)\n",
    "    text = re.sub(r\"n't\", \" not \", text)\n",
    "    text = re.sub(r\"i'm\", \"i am \", text)\n",
    "    text = re.sub(r\"\\'re\", \" are \", text)\n",
    "    text = re.sub(r\"\\'d\", \" would \", text)\n",
    "    text = re.sub(r\"\\'ll\", \" will \", text)\n",
    "    text = re.sub(r\"\\'scuse\", \" excuse \", text)\n",
    "    text = re.sub(r\"\\'\\n\", \" \", text)\n",
    "    text = re.sub(r\"\\'\\xa0\", \" \", text)\n",
    "    text = re.sub('\\s+', ' ', text)\n",
    "    text = text.strip(' ')\n",
    "    return text"
   ]
  },
  {
   "cell_type": "code",
   "execution_count": 338,
   "metadata": {},
   "outputs": [],
   "source": [
    "questions_high_score['Body'] = questions_high_score['Body'].apply(lambda x: clean_text(x)) "
   ]
  },
  {
   "cell_type": "code",
   "execution_count": 339,
   "metadata": {},
   "outputs": [],
   "source": [
    "token=ToktokTokenizer()"
   ]
  },
  {
   "cell_type": "code",
   "execution_count": 342,
   "metadata": {},
   "outputs": [
    {
     "data": {
      "text/plain": [
       "'!\"#$%&\\'()*+,-./:;<=>?@[\\\\]^_`{|}~'"
      ]
     },
     "execution_count": 342,
     "metadata": {},
     "output_type": "execute_result"
    }
   ],
   "source": [
    "punctuation\n"
   ]
  },
  {
   "cell_type": "code",
   "execution_count": 343,
   "metadata": {},
   "outputs": [],
   "source": [
    "punct = '!\"#$%&\\'()*+,./:;<=>?@[\\\\]^_`{|}~'"
   ]
  },
  {
   "cell_type": "code",
   "execution_count": 345,
   "metadata": {},
   "outputs": [],
   "source": [
    "def strip_list_noempty(mylist):\n",
    "    newlist = (item.strip() if hasattr(item, 'strip') else item for item in mylist)\n",
    "    return [item for item in newlist if item != '']"
   ]
  },
  {
   "cell_type": "code",
   "execution_count": 346,
   "metadata": {},
   "outputs": [],
   "source": [
    "def clean_punct(text): \n",
    "    words=token.tokenize(text)\n",
    "    punctuation_filtered = []\n",
    "    regex = re.compile('[%s]' % re.escape(punct))\n",
    "    remove_punctuation = str.maketrans(' ', ' ', punct)\n",
    "    for w in words:\n",
    "        if w in tags_features:\n",
    "            punctuation_filtered.append(w)\n",
    "        else:\n",
    "            punctuation_filtered.append(regex.sub('', w))\n",
    "  \n",
    "    filtered_list = strip_list_noempty(punctuation_filtered)\n",
    "        \n",
    "    return ' '.join(map(str, filtered_list))"
   ]
  },
  {
   "cell_type": "code",
   "execution_count": 347,
   "metadata": {},
   "outputs": [],
   "source": [
    "questions_high_score['Body'] = questions_high_score['Body'].apply(lambda x: clean_punct(x)) "
   ]
  },
  {
   "cell_type": "code",
   "execution_count": 352,
   "metadata": {},
   "outputs": [
    {
     "data": {
      "text/plain": [
       "'are there any really good tutorials explaining branching and merging with apache subversion all the better if it specific to tortoisesvn client'"
      ]
     },
     "execution_count": 352,
     "metadata": {},
     "output_type": "execute_result"
    }
   ],
   "source": [
    "questions_high_score['Body'][1]"
   ]
  },
  {
   "cell_type": "code",
   "execution_count": 353,
   "metadata": {},
   "outputs": [
    {
     "name": "stderr",
     "output_type": "stream",
     "text": [
      "[nltk_data] Downloading package stopwords to\n",
      "[nltk_data]     /Users/samarthkhatwani/nltk_data...\n",
      "[nltk_data]   Package stopwords is already up-to-date!\n"
     ]
    }
   ],
   "source": [
    "nltk.download('stopwords')\n",
    "lemma=WordNetLemmatizer()\n",
    "stop_words = set(stopwords.words(\"english\"))"
   ]
  },
  {
   "cell_type": "code",
   "execution_count": 354,
   "metadata": {},
   "outputs": [
    {
     "data": {
      "text/plain": [
       "{'a',\n",
       " 'about',\n",
       " 'above',\n",
       " 'after',\n",
       " 'again',\n",
       " 'against',\n",
       " 'ain',\n",
       " 'all',\n",
       " 'am',\n",
       " 'an',\n",
       " 'and',\n",
       " 'any',\n",
       " 'are',\n",
       " 'aren',\n",
       " \"aren't\",\n",
       " 'as',\n",
       " 'at',\n",
       " 'be',\n",
       " 'because',\n",
       " 'been',\n",
       " 'before',\n",
       " 'being',\n",
       " 'below',\n",
       " 'between',\n",
       " 'both',\n",
       " 'but',\n",
       " 'by',\n",
       " 'can',\n",
       " 'couldn',\n",
       " \"couldn't\",\n",
       " 'd',\n",
       " 'did',\n",
       " 'didn',\n",
       " \"didn't\",\n",
       " 'do',\n",
       " 'does',\n",
       " 'doesn',\n",
       " \"doesn't\",\n",
       " 'doing',\n",
       " 'don',\n",
       " \"don't\",\n",
       " 'down',\n",
       " 'during',\n",
       " 'each',\n",
       " 'few',\n",
       " 'for',\n",
       " 'from',\n",
       " 'further',\n",
       " 'had',\n",
       " 'hadn',\n",
       " \"hadn't\",\n",
       " 'has',\n",
       " 'hasn',\n",
       " \"hasn't\",\n",
       " 'have',\n",
       " 'haven',\n",
       " \"haven't\",\n",
       " 'having',\n",
       " 'he',\n",
       " 'her',\n",
       " 'here',\n",
       " 'hers',\n",
       " 'herself',\n",
       " 'him',\n",
       " 'himself',\n",
       " 'his',\n",
       " 'how',\n",
       " 'i',\n",
       " 'if',\n",
       " 'in',\n",
       " 'into',\n",
       " 'is',\n",
       " 'isn',\n",
       " \"isn't\",\n",
       " 'it',\n",
       " \"it's\",\n",
       " 'its',\n",
       " 'itself',\n",
       " 'just',\n",
       " 'll',\n",
       " 'm',\n",
       " 'ma',\n",
       " 'me',\n",
       " 'mightn',\n",
       " \"mightn't\",\n",
       " 'more',\n",
       " 'most',\n",
       " 'mustn',\n",
       " \"mustn't\",\n",
       " 'my',\n",
       " 'myself',\n",
       " 'needn',\n",
       " \"needn't\",\n",
       " 'no',\n",
       " 'nor',\n",
       " 'not',\n",
       " 'now',\n",
       " 'o',\n",
       " 'of',\n",
       " 'off',\n",
       " 'on',\n",
       " 'once',\n",
       " 'only',\n",
       " 'or',\n",
       " 'other',\n",
       " 'our',\n",
       " 'ours',\n",
       " 'ourselves',\n",
       " 'out',\n",
       " 'over',\n",
       " 'own',\n",
       " 're',\n",
       " 's',\n",
       " 'same',\n",
       " 'shan',\n",
       " \"shan't\",\n",
       " 'she',\n",
       " \"she's\",\n",
       " 'should',\n",
       " \"should've\",\n",
       " 'shouldn',\n",
       " \"shouldn't\",\n",
       " 'so',\n",
       " 'some',\n",
       " 'such',\n",
       " 't',\n",
       " 'than',\n",
       " 'that',\n",
       " \"that'll\",\n",
       " 'the',\n",
       " 'their',\n",
       " 'theirs',\n",
       " 'them',\n",
       " 'themselves',\n",
       " 'then',\n",
       " 'there',\n",
       " 'these',\n",
       " 'they',\n",
       " 'this',\n",
       " 'those',\n",
       " 'through',\n",
       " 'to',\n",
       " 'too',\n",
       " 'under',\n",
       " 'until',\n",
       " 'up',\n",
       " 've',\n",
       " 'very',\n",
       " 'was',\n",
       " 'wasn',\n",
       " \"wasn't\",\n",
       " 'we',\n",
       " 'were',\n",
       " 'weren',\n",
       " \"weren't\",\n",
       " 'what',\n",
       " 'when',\n",
       " 'where',\n",
       " 'which',\n",
       " 'while',\n",
       " 'who',\n",
       " 'whom',\n",
       " 'why',\n",
       " 'will',\n",
       " 'with',\n",
       " 'won',\n",
       " \"won't\",\n",
       " 'wouldn',\n",
       " \"wouldn't\",\n",
       " 'y',\n",
       " 'you',\n",
       " \"you'd\",\n",
       " \"you'll\",\n",
       " \"you're\",\n",
       " \"you've\",\n",
       " 'your',\n",
       " 'yours',\n",
       " 'yourself',\n",
       " 'yourselves'}"
      ]
     },
     "execution_count": 354,
     "metadata": {},
     "output_type": "execute_result"
    }
   ],
   "source": [
    "stop_words"
   ]
  },
  {
   "cell_type": "code",
   "execution_count": 356,
   "metadata": {},
   "outputs": [],
   "source": [
    "def lemitizeWords(text):\n",
    "    words=token.tokenize(text)\n",
    "    listLemma=[]\n",
    "    for w in words:\n",
    "        x=lemma.lemmatize(w, pos=\"v\")\n",
    "        listLemma.append(x)\n",
    "    return ' '.join(map(str, listLemma))\n",
    "\n",
    "def stopWordsRemove(text):\n",
    "    \n",
    "    stop_words = set(stopwords.words(\"english\"))\n",
    "    \n",
    "    words=token.tokenize(text)\n",
    "    \n",
    "    filtered = [w for w in words if not w in stop_words]\n",
    "    \n",
    "    return ' '.join(map(str, filtered))"
   ]
  },
  {
   "cell_type": "code",
   "execution_count": 358,
   "metadata": {},
   "outputs": [
    {
     "name": "stderr",
     "output_type": "stream",
     "text": [
      "[nltk_data] Downloading package wordnet to\n",
      "[nltk_data]     /Users/samarthkhatwani/nltk_data...\n",
      "[nltk_data]   Package wordnet is already up-to-date!\n"
     ]
    }
   ],
   "source": [
    "nltk.download('wordnet')\n",
    "questions_high_score['Body'] = questions_high_score['Body'].apply(lambda x: lemitizeWords(x)) \n",
    "questions_high_score['Body'] = questions_high_score['Body'].apply(lambda x: stopWordsRemove(x)) "
   ]
  },
  {
   "cell_type": "markdown",
   "metadata": {},
   "source": [
    "### Cleaning Title"
   ]
  },
  {
   "cell_type": "code",
   "execution_count": 360,
   "metadata": {},
   "outputs": [],
   "source": [
    "questions_high_score['Title'] = questions_high_score['Title'].apply(lambda x: str(x))\n",
    "questions_high_score['Title'] = questions_high_score['Title'].apply(lambda x: clean_text(x)) \n",
    "questions_high_score['Title'] = questions_high_score['Title'].apply(lambda x: clean_punct(x)) \n",
    "questions_high_score['Title'] = questions_high_score['Title'].apply(lambda x: lemitizeWords(x)) \n",
    "questions_high_score['Title'] = questions_high_score['Title'].apply(lambda x: stopWordsRemove(x)) "
   ]
  },
  {
   "cell_type": "markdown",
   "metadata": {},
   "source": [
    "### EDA"
   ]
  },
  {
   "cell_type": "code",
   "execution_count": 362,
   "metadata": {},
   "outputs": [],
   "source": [
    "no_topics = 20\n",
    "text = questions_high_score['Body']\n"
   ]
  },
  {
   "cell_type": "code",
   "execution_count": 364,
   "metadata": {},
   "outputs": [],
   "source": [
    "vectorizer_train = TfidfVectorizer(analyzer = 'word',\n",
    "                                       min_df=0.0,\n",
    "                                       max_df = 1.0,\n",
    "                                       strip_accents = None,\n",
    "                                       encoding = 'utf-8', \n",
    "                                       preprocessor=None,\n",
    "                                       token_pattern=r\"(?u)\\S\\S+\", # Need to repeat token pattern\n",
    "                                       max_features=1000)"
   ]
  },
  {
   "cell_type": "code",
   "execution_count": 365,
   "metadata": {},
   "outputs": [],
   "source": [
    "TF_IDF_matrix = vectorizer_train.fit_transform(text)"
   ]
  },
  {
   "cell_type": "code",
   "execution_count": null,
   "metadata": {},
   "outputs": [],
   "source": []
  },
  {
   "cell_type": "markdown",
   "metadata": {},
   "source": [
    "## Classifiers"
   ]
  },
  {
   "cell_type": "code",
   "execution_count": 369,
   "metadata": {},
   "outputs": [],
   "source": [
    "questions_body = questions_high_score['Body']  # X1\n",
    "questions_title = questions_high_score['Title']  # X2\n",
    "questions_tags = questions_high_score['Tags']  # y"
   ]
  },
  {
   "cell_type": "code",
   "execution_count": 370,
   "metadata": {},
   "outputs": [],
   "source": [
    "multilabel_binarizer = MultiLabelBinarizer()\n",
    "questions_tags_bin = multilabel_binarizer.fit_transform(questions_tags)"
   ]
  },
  {
   "cell_type": "code",
   "execution_count": 371,
   "metadata": {},
   "outputs": [
    {
     "data": {
      "text/plain": [
       "array([[0, 0, 0, ..., 0, 0, 0],\n",
       "       [0, 0, 0, ..., 0, 0, 0],\n",
       "       [0, 0, 1, ..., 0, 0, 0],\n",
       "       ...,\n",
       "       [0, 0, 0, ..., 0, 0, 0],\n",
       "       [0, 0, 0, ..., 0, 0, 0],\n",
       "       [0, 0, 0, ..., 0, 0, 0]])"
      ]
     },
     "execution_count": 371,
     "metadata": {},
     "output_type": "execute_result"
    }
   ],
   "source": [
    "questions_tags_bin"
   ]
  },
  {
   "cell_type": "code",
   "execution_count": 373,
   "metadata": {},
   "outputs": [],
   "source": [
    "questions_body_vectorized = TfidfVectorizer(analyzer = 'word',\n",
    "                                       min_df=0.0,\n",
    "                                       max_df = 1.0,\n",
    "                                       strip_accents = None,\n",
    "                                       encoding = 'utf-8', \n",
    "                                       preprocessor=None,\n",
    "                                       token_pattern=r\"(?u)\\S\\S+\",\n",
    "                                       max_features=1000)\n",
    "\n",
    "questions_title_vectorized = TfidfVectorizer(analyzer = 'word',\n",
    "                                       min_df=0.0,\n",
    "                                       max_df = 1.0,\n",
    "                                       strip_accents = None,\n",
    "                                       encoding = 'utf-8', \n",
    "                                       preprocessor=None,\n",
    "                                       token_pattern=r\"(?u)\\S\\S+\",\n",
    "                                       max_features=1000)"
   ]
  },
  {
   "cell_type": "code",
   "execution_count": 374,
   "metadata": {},
   "outputs": [],
   "source": [
    "questions_body_tfidf = questions_body_vectorized.fit_transform(questions_body)\n",
    "questions_title_tfidf = questions_title_vectorized.fit_transform(questions_title)"
   ]
  },
  {
   "cell_type": "code",
   "execution_count": 375,
   "metadata": {},
   "outputs": [
    {
     "data": {
      "text/plain": [
       "<63167x1000 sparse matrix of type '<class 'numpy.float64'>'\n",
       "\twith 1993719 stored elements in Compressed Sparse Row format>"
      ]
     },
     "execution_count": 375,
     "metadata": {},
     "output_type": "execute_result"
    }
   ],
   "source": [
    "questions_body_tfidf"
   ]
  },
  {
   "cell_type": "code",
   "execution_count": 378,
   "metadata": {},
   "outputs": [],
   "source": [
    "body_title_tfidf = hstack([questions_body_tfidf,questions_title_tfidf])\n"
   ]
  },
  {
   "cell_type": "code",
   "execution_count": 379,
   "metadata": {},
   "outputs": [
    {
     "data": {
      "text/plain": [
       "<63167x2000 sparse matrix of type '<class 'numpy.float64'>'\n",
       "\twith 2237132 stored elements in COOrdinate format>"
      ]
     },
     "execution_count": 379,
     "metadata": {},
     "output_type": "execute_result"
    }
   ],
   "source": [
    "body_title_tfidf"
   ]
  },
  {
   "cell_type": "code",
   "execution_count": 380,
   "metadata": {},
   "outputs": [],
   "source": [
    "body_title_train, body_title_test, tags_train, tags_test = train_test_split(questions_body_tfidf, questions_tags_bin, test_size = 0.2, random_state = 0) # Do 80/20 split\n",
    "# X_train , X_test, Y_train, Y_test"
   ]
  },
  {
   "cell_type": "code",
   "execution_count": 381,
   "metadata": {},
   "outputs": [
    {
     "data": {
      "text/plain": [
       "(12634, 100)"
      ]
     },
     "execution_count": 381,
     "metadata": {},
     "output_type": "execute_result"
    }
   ],
   "source": [
    "tags_test.shape"
   ]
  },
  {
   "cell_type": "markdown",
   "metadata": {},
   "source": [
    "### Evaluation"
   ]
  },
  {
   "cell_type": "code",
   "execution_count": 382,
   "metadata": {},
   "outputs": [],
   "source": [
    "def avg_jacard(y_true,y_pred):\n",
    "    jacard = np.minimum(y_true,y_pred).sum(axis=1) / np.maximum(y_true,y_pred).sum(axis=1)\n",
    "    return jacard.mean()*100"
   ]
  },
  {
   "cell_type": "code",
   "execution_count": 383,
   "metadata": {},
   "outputs": [],
   "source": [
    "def print_score(y_pred, clf):\n",
    "    print(\"Clf: \", clf.__class__.__name__)\n",
    "    print(\"Jacard score: {}\".format(avg_jacard(tags_test, y_pred)))\n",
    "    print(\"Hamming loss: {}\".format(hamming_loss(y_pred, tags_test)*100))\n",
    "    print(\"---\")"
   ]
  },
  {
   "cell_type": "markdown",
   "metadata": {},
   "source": [
    "### Evaluating all classifiers new"
   ]
  },
  {
   "cell_type": "code",
   "execution_count": 385,
   "metadata": {},
   "outputs": [],
   "source": [
    "dummy = DummyClassifier()\n",
    "sgd = SGDClassifier()\n",
    "lr = LogisticRegression()\n",
    "mn = MultinomialNB()\n",
    "svc = LinearSVC()\n",
    "perceptron = Perceptron()\n",
    "pac = PassiveAggressiveClassifier()"
   ]
  },
  {
   "cell_type": "code",
   "execution_count": 387,
   "metadata": {},
   "outputs": [
    {
     "name": "stdout",
     "output_type": "stream",
     "text": [
      "Clf:  DummyClassifier\n",
      "Jacard score: 2.5994136507433954\n",
      "Hamming loss: 3.00411587779009\n",
      "---\n",
      "Clf:  SGDClassifier\n",
      "Jacard score: 29.375890454329586\n",
      "Hamming loss: 1.2260566724711097\n",
      "---\n",
      "Clf:  LogisticRegression\n",
      "Jacard score: 34.62389847501451\n",
      "Hamming loss: 1.1846604400823175\n",
      "---\n",
      "Clf:  MultinomialNB\n",
      "Jacard score: 12.711466413381881\n",
      "Hamming loss: 1.4368371062213077\n",
      "---\n",
      "Clf:  LinearSVC\n",
      "Jacard score: 38.3090602079046\n",
      "Hamming loss: 1.1493588728826976\n",
      "---\n",
      "Clf:  Perceptron\n",
      "Jacard score: 35.426375288651684\n",
      "Hamming loss: 1.716321038467627\n",
      "---\n",
      "Clf:  PassiveAggressiveClassifier\n",
      "Jacard score: 40.45157813006476\n",
      "Hamming loss: 1.2695899952509102\n",
      "---\n"
     ]
    }
   ],
   "source": [
    "for classifier in [dummy, sgd, lr, mn, svc, perceptron, pac]:\n",
    "    clf = OneVsRestClassifier(classifier)\n",
    "    clf.fit(body_title_train, tags_train)\n",
    "    y_pred = clf.predict(body_title_test)\n",
    "    print_score(y_pred, classifier)"
   ]
  },
  {
   "cell_type": "markdown",
   "metadata": {},
   "source": [
    "#### MLP Classifier"
   ]
  },
  {
   "cell_type": "code",
   "execution_count": 390,
   "metadata": {},
   "outputs": [
    {
     "name": "stdout",
     "output_type": "stream",
     "text": [
      "Clf:  MLPClassifier\n",
      "Jacard score: 41.24162313334389\n",
      "Hamming loss: 1.4019312965015038\n",
      "---\n"
     ]
    }
   ],
   "source": [
    "mlpc = MLPClassifier()\n",
    "mlpc.fit(body_title_train, tags_train)\n",
    "\n",
    "y_pred = mlpc.predict(body_title_test)\n",
    "\n",
    "print_score(y_pred, mlpc)"
   ]
  },
  {
   "cell_type": "markdown",
   "metadata": {},
   "source": [
    "#### Random Forest"
   ]
  },
  {
   "cell_type": "code",
   "execution_count": 393,
   "metadata": {},
   "outputs": [
    {
     "name": "stdout",
     "output_type": "stream",
     "text": [
      "Clf:  RandomForestClassifier\n",
      "Jacard score: 30.8301672734948\n",
      "Hamming loss: 1.2312806712046858\n",
      "---\n"
     ]
    }
   ],
   "source": [
    "rfc = RandomForestClassifier()\n",
    "rfc.fit(body_title_train, tags_train)\n",
    "\n",
    "y_pred = rfc.predict(body_title_test)\n",
    "\n",
    "print_score(y_pred, rfc)"
   ]
  },
  {
   "cell_type": "markdown",
   "metadata": {},
   "source": [
    "#### GridSearch CV on the best classifier"
   ]
  },
  {
   "cell_type": "code",
   "execution_count": 394,
   "metadata": {},
   "outputs": [],
   "source": [
    "param_grid = {'estimator__C':[1,10,100,1000]\n",
    "              }"
   ]
  },
  {
   "cell_type": "code",
   "execution_count": 395,
   "metadata": {},
   "outputs": [
    {
     "name": "stdout",
     "output_type": "stream",
     "text": [
      "Fitting 5 folds for each of 4 candidates, totalling 20 fits\n",
      "[CV] estimator__C=1 ..................................................\n"
     ]
    },
    {
     "name": "stderr",
     "output_type": "stream",
     "text": [
      "[Parallel(n_jobs=1)]: Using backend SequentialBackend with 1 concurrent workers.\n"
     ]
    },
    {
     "name": "stdout",
     "output_type": "stream",
     "text": [
      "[CV] ..................... estimator__C=1, score=38.688, total=  11.7s\n",
      "[CV] estimator__C=1 ..................................................\n"
     ]
    },
    {
     "name": "stderr",
     "output_type": "stream",
     "text": [
      "[Parallel(n_jobs=1)]: Done   1 out of   1 | elapsed:   11.7s remaining:    0.0s\n"
     ]
    },
    {
     "name": "stdout",
     "output_type": "stream",
     "text": [
      "[CV] ..................... estimator__C=1, score=38.685, total=  11.1s\n",
      "[CV] estimator__C=1 ..................................................\n"
     ]
    },
    {
     "name": "stderr",
     "output_type": "stream",
     "text": [
      "[Parallel(n_jobs=1)]: Done   2 out of   2 | elapsed:   22.8s remaining:    0.0s\n"
     ]
    },
    {
     "name": "stdout",
     "output_type": "stream",
     "text": [
      "[CV] ..................... estimator__C=1, score=38.422, total=  10.5s\n",
      "[CV] estimator__C=1 ..................................................\n"
     ]
    },
    {
     "name": "stderr",
     "output_type": "stream",
     "text": [
      "[Parallel(n_jobs=1)]: Done   3 out of   3 | elapsed:   33.4s remaining:    0.0s\n"
     ]
    },
    {
     "name": "stdout",
     "output_type": "stream",
     "text": [
      "[CV] ..................... estimator__C=1, score=37.711, total=  10.0s\n",
      "[CV] estimator__C=1 ..................................................\n"
     ]
    },
    {
     "name": "stderr",
     "output_type": "stream",
     "text": [
      "[Parallel(n_jobs=1)]: Done   4 out of   4 | elapsed:   43.3s remaining:    0.0s\n"
     ]
    },
    {
     "name": "stdout",
     "output_type": "stream",
     "text": [
      "[CV] ..................... estimator__C=1, score=37.239, total=  10.2s\n",
      "[CV] estimator__C=10 .................................................\n"
     ]
    },
    {
     "name": "stderr",
     "output_type": "stream",
     "text": [
      "[Parallel(n_jobs=1)]: Done   5 out of   5 | elapsed:   53.5s remaining:    0.0s\n"
     ]
    },
    {
     "name": "stdout",
     "output_type": "stream",
     "text": [
      "[CV] .................... estimator__C=10, score=38.915, total=  43.2s\n",
      "[CV] estimator__C=10 .................................................\n"
     ]
    },
    {
     "name": "stderr",
     "output_type": "stream",
     "text": [
      "[Parallel(n_jobs=1)]: Done   6 out of   6 | elapsed:  1.6min remaining:    0.0s\n"
     ]
    },
    {
     "name": "stdout",
     "output_type": "stream",
     "text": [
      "[CV] .................... estimator__C=10, score=38.997, total=  41.1s\n",
      "[CV] estimator__C=10 .................................................\n"
     ]
    },
    {
     "name": "stderr",
     "output_type": "stream",
     "text": [
      "[Parallel(n_jobs=1)]: Done   7 out of   7 | elapsed:  2.3min remaining:    0.0s\n"
     ]
    },
    {
     "name": "stdout",
     "output_type": "stream",
     "text": [
      "[CV] .................... estimator__C=10, score=38.883, total=  42.3s\n",
      "[CV] estimator__C=10 .................................................\n"
     ]
    },
    {
     "name": "stderr",
     "output_type": "stream",
     "text": [
      "[Parallel(n_jobs=1)]: Done   8 out of   8 | elapsed:  3.0min remaining:    0.0s\n"
     ]
    },
    {
     "name": "stdout",
     "output_type": "stream",
     "text": [
      "[CV] .................... estimator__C=10, score=37.605, total=  42.5s\n",
      "[CV] estimator__C=10 .................................................\n"
     ]
    },
    {
     "name": "stderr",
     "output_type": "stream",
     "text": [
      "[Parallel(n_jobs=1)]: Done   9 out of   9 | elapsed:  3.7min remaining:    0.0s\n"
     ]
    },
    {
     "name": "stdout",
     "output_type": "stream",
     "text": [
      "[CV] .................... estimator__C=10, score=37.598, total=  40.4s\n",
      "[CV] estimator__C=100 ................................................\n",
      "[CV] ................... estimator__C=100, score=35.710, total= 1.7min\n",
      "[CV] estimator__C=100 ................................................\n",
      "[CV] ................... estimator__C=100, score=36.104, total= 1.6min\n",
      "[CV] estimator__C=100 ................................................\n",
      "[CV] ................... estimator__C=100, score=35.878, total= 1.6min\n",
      "[CV] estimator__C=100 ................................................\n",
      "[CV] ................... estimator__C=100, score=34.642, total= 1.6min\n",
      "[CV] estimator__C=100 ................................................\n",
      "[CV] ................... estimator__C=100, score=34.512, total= 1.8min\n",
      "[CV] estimator__C=1000 ...............................................\n",
      "[CV] .................. estimator__C=1000, score=33.178, total= 2.7min\n",
      "[CV] estimator__C=1000 ...............................................\n",
      "[CV] .................. estimator__C=1000, score=34.578, total= 2.8min\n",
      "[CV] estimator__C=1000 ...............................................\n",
      "[CV] .................. estimator__C=1000, score=31.577, total= 2.4min\n",
      "[CV] estimator__C=1000 ...............................................\n",
      "[CV] .................. estimator__C=1000, score=29.858, total= 2.3min\n",
      "[CV] estimator__C=1000 ...............................................\n",
      "[CV] .................. estimator__C=1000, score=32.366, total= 2.4min\n"
     ]
    },
    {
     "name": "stderr",
     "output_type": "stream",
     "text": [
      "[Parallel(n_jobs=1)]: Done  20 out of  20 | elapsed: 25.2min finished\n"
     ]
    },
    {
     "data": {
      "text/plain": [
       "GridSearchCV(cv=5, error_score='raise-deprecating',\n",
       "             estimator=OneVsRestClassifier(estimator=LinearSVC(C=1.0,\n",
       "                                                               class_weight=None,\n",
       "                                                               dual=True,\n",
       "                                                               fit_intercept=True,\n",
       "                                                               intercept_scaling=1,\n",
       "                                                               loss='squared_hinge',\n",
       "                                                               max_iter=1000,\n",
       "                                                               multi_class='ovr',\n",
       "                                                               penalty='l2',\n",
       "                                                               random_state=None,\n",
       "                                                               tol=0.0001,\n",
       "                                                               verbose=0),\n",
       "                                           n_jobs=None),\n",
       "             iid='warn', n_jobs=None,\n",
       "             param_grid={'estimator__C': [1, 10, 100, 1000]},\n",
       "             pre_dispatch='2*n_jobs', refit=True, return_train_score=False,\n",
       "             scoring=make_scorer(avg_jacard), verbose=10)"
      ]
     },
     "execution_count": 395,
     "metadata": {},
     "output_type": "execute_result"
    }
   ],
   "source": [
    "svc = OneVsRestClassifier(LinearSVC())\n",
    "CV_svc = model_selection.GridSearchCV(estimator=svc, param_grid=param_grid, cv= 5, verbose=10, scoring=make_scorer(avg_jacard,greater_is_better=True))\n",
    "CV_svc.fit(body_title_train, tags_train)"
   ]
  },
  {
   "cell_type": "code",
   "execution_count": 396,
   "metadata": {},
   "outputs": [
    {
     "data": {
      "text/plain": [
       "{'estimator__C': 10}"
      ]
     },
     "execution_count": 396,
     "metadata": {},
     "output_type": "execute_result"
    }
   ],
   "source": [
    "CV_svc.best_params_"
   ]
  },
  {
   "cell_type": "code",
   "execution_count": 398,
   "metadata": {},
   "outputs": [],
   "source": [
    "best_model = CV_svc.best_estimator_"
   ]
  },
  {
   "cell_type": "code",
   "execution_count": 399,
   "metadata": {},
   "outputs": [
    {
     "name": "stdout",
     "output_type": "stream",
     "text": [
      "Clf:  OneVsRestClassifier\n",
      "Jacard score: 38.96042048289951\n",
      "Hamming loss: 1.219487098306158\n",
      "---\n"
     ]
    }
   ],
   "source": [
    "y_pred = best_model.predict(body_title_test)\n",
    "\n",
    "print_score(y_pred, best_model)"
   ]
  },
  {
   "cell_type": "markdown",
   "metadata": {},
   "source": [
    "#### Confusion Matrix"
   ]
  },
  {
   "cell_type": "code",
   "execution_count": 401,
   "metadata": {},
   "outputs": [
    {
     "name": "stdout",
     "output_type": "stream",
     "text": [
      ".net\n",
      "[[12043    44]\n",
      " [  475    72]]\n",
      "\n",
      "ajax\n",
      "[[12515    26]\n",
      " [   59    34]]\n",
      "\n",
      "algorithm\n",
      "[[12423    43]\n",
      " [   95    73]]\n",
      "\n",
      "android\n",
      "[[11526    42]\n",
      " [  313   753]]\n",
      "\n",
      "angularjs\n",
      "[[12426    24]\n",
      " [  125    59]]\n",
      "\n",
      "api\n",
      "[[12544    37]\n",
      " [   45     8]]\n",
      "\n",
      "arrays\n",
      "[[12408    52]\n",
      " [  133    41]]\n",
      "\n",
      "asp.net\n",
      "[[12355    21]\n",
      " [  197    61]]\n",
      "\n",
      "asp.net-mvc\n",
      "[[12398    45]\n",
      " [  120    71]]\n",
      "\n",
      "asp.net-mvc-3\n",
      "[[12551    26]\n",
      " [   55     2]]\n",
      "\n",
      "bash\n",
      "[[12497    30]\n",
      " [   74    33]]\n",
      "\n",
      "c\n",
      "[[12235    43]\n",
      " [  220   136]]\n",
      "\n",
      "c#\n",
      "[[11066   169]\n",
      " [  760   639]]\n",
      "\n",
      "c++\n",
      "[[11684    81]\n",
      " [  332   537]]\n",
      "\n",
      "c++11\n",
      "[[12446    38]\n",
      " [  114    36]]\n",
      "\n",
      "class\n",
      "[[12574    12]\n",
      " [   46     2]]\n",
      "\n",
      "cocoa\n",
      "[[12550     7]\n",
      " [   74     3]]\n",
      "\n",
      "cocoa-touch\n",
      "[[12532     8]\n",
      " [   91     3]]\n",
      "\n",
      "css\n",
      "[[12169    91]\n",
      " [  145   229]]\n",
      "\n",
      "css3\n",
      "[[12545    29]\n",
      " [   50    10]]\n",
      "\n",
      "database\n",
      "[[12521    11]\n",
      " [   92    10]]\n",
      "\n",
      "datetime\n",
      "[[12554    34]\n",
      " [   33    13]]\n",
      "\n",
      "debugging\n",
      "[[12528    22]\n",
      " [   61    23]]\n",
      "\n",
      "delphi\n",
      "[[12524    20]\n",
      " [   67    23]]\n",
      "\n",
      "design-patterns\n",
      "[[12558    26]\n",
      " [   41     9]]\n",
      "\n",
      "django\n",
      "[[12443    29]\n",
      " [   65    97]]\n",
      "\n",
      "eclipse\n",
      "[[12466    15]\n",
      " [   76    77]]\n",
      "\n",
      "emacs\n",
      "[[12573    19]\n",
      " [   38     4]]\n",
      "\n",
      "entity-framework\n",
      "[[12527    40]\n",
      " [   40    27]]\n",
      "\n",
      "exception\n",
      "[[12539    29]\n",
      " [   45    21]]\n",
      "\n",
      "facebook\n",
      "[[12565    15]\n",
      " [   26    28]]\n",
      "\n",
      "function\n",
      "[[12570    17]\n",
      " [   45     2]]\n",
      "\n",
      "gcc\n",
      "[[12556    22]\n",
      " [   44    12]]\n",
      "\n",
      "generics\n",
      "[[12539    28]\n",
      " [   46    21]]\n",
      "\n",
      "git\n",
      "[[12406    27]\n",
      " [   42   159]]\n",
      "\n",
      "github\n",
      "[[12566    14]\n",
      " [   25    29]]\n",
      "\n",
      "google-chrome\n",
      "[[12539    28]\n",
      " [   46    21]]\n",
      "\n",
      "haskell\n",
      "[[12461    41]\n",
      " [   93    39]]\n",
      "\n",
      "hibernate\n",
      "[[12543    32]\n",
      " [   40    19]]\n",
      "\n",
      "html\n",
      "[[12121    90]\n",
      " [  329    94]]\n",
      "\n",
      "html5\n",
      "[[12497    16]\n",
      " [  107    14]]\n",
      "\n",
      "http\n",
      "[[12539    38]\n",
      " [   48     9]]\n",
      "\n",
      "image\n",
      "[[12549    27]\n",
      " [   52     6]]\n",
      "\n",
      "ios\n",
      "[[12000    94]\n",
      " [  330   210]]\n",
      "\n",
      "ipad\n",
      "[[12562    13]\n",
      " [   59     0]]\n",
      "\n",
      "iphone\n",
      "[[12229    47]\n",
      " [  277    81]]\n",
      "\n",
      "java\n",
      "[[11118   156]\n",
      " [  734   626]]\n",
      "\n",
      "javascript\n",
      "[[11334   172]\n",
      " [  577   551]]\n",
      "\n",
      "jquery\n",
      "[[11990    86]\n",
      " [  246   312]]\n",
      "\n",
      "json\n",
      "[[12469    29]\n",
      " [   77    59]]\n",
      "\n",
      "linq\n",
      "[[12527    23]\n",
      " [   69    15]]\n",
      "\n",
      "linux\n",
      "[[12419    28]\n",
      " [  145    42]]\n",
      "\n",
      "list\n",
      "[[12530    29]\n",
      " [   60    15]]\n",
      "\n",
      "math\n",
      "[[12564    23]\n",
      " [   43     4]]\n",
      "\n",
      "maven\n",
      "[[12559    19]\n",
      " [   21    35]]\n",
      "\n",
      "mongodb\n",
      "[[12561     9]\n",
      " [   49    15]]\n",
      "\n",
      "multithreading\n",
      "[[12461    32]\n",
      " [   91    50]]\n",
      "\n",
      "mysql\n",
      "[[12359    36]\n",
      " [  116   123]]\n",
      "\n",
      "node.js\n",
      "[[12432    27]\n",
      " [  120    55]]\n",
      "\n",
      "numpy\n",
      "[[12545    38]\n",
      " [   44     7]]\n",
      "\n",
      "objective-c\n",
      "[[12214    66]\n",
      " [  305    49]]\n",
      "\n",
      "oop\n",
      "[[12566    12]\n",
      " [   53     3]]\n",
      "\n",
      "optimization\n",
      "[[12572    16]\n",
      " [   44     2]]\n",
      "\n",
      "oracle\n",
      "[[12565    14]\n",
      " [   50     5]]\n",
      "\n",
      "osx\n",
      "[[12492    16]\n",
      " [   99    27]]\n",
      "\n",
      "performance\n",
      "[[12443    23]\n",
      " [  145    23]]\n",
      "\n",
      "perl\n",
      "[[12556     7]\n",
      " [   68     3]]\n",
      "\n",
      "php\n",
      "[[12001    38]\n",
      " [  298   297]]\n",
      "\n",
      "postgresql\n",
      "[[12566     6]\n",
      " [   59     3]]\n",
      "\n",
      "python\n",
      "[[11704    62]\n",
      " [  378   490]]\n",
      "\n",
      "qt\n",
      "[[12582     5]\n",
      " [   47     0]]\n",
      "\n",
      "r\n",
      "[[12377    38]\n",
      " [  112   107]]\n",
      "\n",
      "regex\n",
      "[[12479    30]\n",
      " [   52    73]]\n",
      "\n",
      "rest\n",
      "[[12550    24]\n",
      " [   37    23]]\n",
      "\n",
      "ruby\n",
      "[[12314    33]\n",
      " [  182   105]]\n",
      "\n",
      "ruby-on-rails\n",
      "[[12311    34]\n",
      " [  139   150]]\n",
      "\n",
      "ruby-on-rails-3\n",
      "[[12524    23]\n",
      " [   78     9]]\n",
      "\n",
      "scala\n",
      "[[12479    16]\n",
      " [   46    93]]\n",
      "\n",
      "security\n",
      "[[12562    11]\n",
      " [   46    15]]\n",
      "\n",
      "shell\n",
      "[[12542    25]\n",
      " [   47    20]]\n",
      "\n",
      "spring\n",
      "[[12506    25]\n",
      " [   43    60]]\n",
      "\n",
      "sql\n",
      "[[12271    68]\n",
      " [  197    98]]\n",
      "\n",
      "sql-server\n",
      "[[12375    65]\n",
      " [  121    73]]\n",
      "\n",
      "string\n",
      "[[12446    40]\n",
      " [  125    23]]\n",
      "\n",
      "svn\n",
      "[[12573    19]\n",
      " [   19    23]]\n",
      "\n",
      "swift\n",
      "[[12494    32]\n",
      " [   70    38]]\n",
      "\n",
      "swing\n",
      "[[12553    31]\n",
      " [   39    11]]\n",
      "\n",
      "templates\n",
      "[[12527    28]\n",
      " [   60    19]]\n",
      "\n",
      "tsql\n",
      "[[12537    41]\n",
      " [   52     4]]\n",
      "\n",
      "twitter-bootstrap\n",
      "[[12544    23]\n",
      " [   53    14]]\n",
      "\n",
      "unit-testing\n",
      "[[12476    30]\n",
      " [   71    57]]\n",
      "\n",
      "vim\n",
      "[[12546    27]\n",
      " [   45    16]]\n",
      "\n",
      "visual-studio\n",
      "[[12484    42]\n",
      " [   75    33]]\n",
      "\n",
      "visual-studio-2010\n",
      "[[12533    26]\n",
      " [   56    19]]\n",
      "\n",
      "wcf\n",
      "[[12566    17]\n",
      " [   35    16]]\n",
      "\n",
      "windows\n",
      "[[12466    18]\n",
      " [  133    17]]\n",
      "\n",
      "winforms\n",
      "[[12548    22]\n",
      " [   53    11]]\n",
      "\n",
      "wpf\n",
      "[[12445    26]\n",
      " [  106    57]]\n",
      "\n",
      "xcode\n",
      "[[12422    30]\n",
      " [  115    67]]\n",
      "\n",
      "xml\n",
      "[[12498    26]\n",
      " [   68    42]]\n",
      "\n"
     ]
    }
   ],
   "source": [
    "for i in range(tags_train.shape[1]):\n",
    "    print(multilabel_binarizer.classes_[i])\n",
    "    print(confusion_matrix(tags_test[:,i], y_pred[:,i]))\n",
    "    print(\"\")"
   ]
  },
  {
   "cell_type": "markdown",
   "metadata": {},
   "source": [
    "#### Extracting Feature Importance"
   ]
  },
  {
   "cell_type": "code",
   "execution_count": 402,
   "metadata": {},
   "outputs": [],
   "source": [
    "def print_top10(feature_names, clf, class_labels):\n",
    "    \"\"\"Prints features with the highest coefficient values, per class\"\"\"\n",
    "    for i, class_label in enumerate(class_labels):\n",
    "        top10 = np.argsort(clf.coefs_[i])[-10:]\n",
    "        print(\"--------------------------------------------\")\n",
    "        print(\"%s: %s\" % (class_label,\n",
    "              \" \".join(feature_names[j] for j in top10)))\n",
    "        print(\"--------------------------------------------\")"
   ]
  },
  {
   "cell_type": "code",
   "execution_count": 405,
   "metadata": {},
   "outputs": [],
   "source": [
    "feature_names = questions_body_vectorized.get_feature_names() + questions_title_vectorized.get_feature_names()"
   ]
  },
  {
   "cell_type": "code",
   "execution_count": 406,
   "metadata": {},
   "outputs": [
    {
     "name": "stdout",
     "output_type": "stream",
     "text": [
      "--------------------------------------------\n"
     ]
    },
    {
     "ename": "TypeError",
     "evalue": "only integer scalar arrays can be converted to a scalar index",
     "output_type": "error",
     "traceback": [
      "\u001b[0;31m---------------------------------------------------------------------------\u001b[0m",
      "\u001b[0;31mTypeError\u001b[0m                                 Traceback (most recent call last)",
      "\u001b[0;32m<ipython-input-406-97506a62e608>\u001b[0m in \u001b[0;36m<module>\u001b[0;34m\u001b[0m\n\u001b[0;32m----> 1\u001b[0;31m \u001b[0mprint_top10\u001b[0m\u001b[0;34m(\u001b[0m\u001b[0mfeature_names\u001b[0m\u001b[0;34m,\u001b[0m \u001b[0mmlpc\u001b[0m\u001b[0;34m,\u001b[0m \u001b[0mmultilabel_binarizer\u001b[0m\u001b[0;34m.\u001b[0m\u001b[0mclasses_\u001b[0m\u001b[0;34m)\u001b[0m\u001b[0;34m\u001b[0m\u001b[0;34m\u001b[0m\u001b[0m\n\u001b[0m",
      "\u001b[0;32m<ipython-input-402-67ac0520214f>\u001b[0m in \u001b[0;36mprint_top10\u001b[0;34m(feature_names, clf, class_labels)\u001b[0m\n\u001b[1;32m      5\u001b[0m         \u001b[0mprint\u001b[0m\u001b[0;34m(\u001b[0m\u001b[0;34m\"--------------------------------------------\"\u001b[0m\u001b[0;34m)\u001b[0m\u001b[0;34m\u001b[0m\u001b[0;34m\u001b[0m\u001b[0m\n\u001b[1;32m      6\u001b[0m         print(\"%s: %s\" % (class_label,\n\u001b[0;32m----> 7\u001b[0;31m               \" \".join(feature_names[j] for j in top10)))\n\u001b[0m\u001b[1;32m      8\u001b[0m         \u001b[0mprint\u001b[0m\u001b[0;34m(\u001b[0m\u001b[0;34m\"--------------------------------------------\"\u001b[0m\u001b[0;34m)\u001b[0m\u001b[0;34m\u001b[0m\u001b[0;34m\u001b[0m\u001b[0m\n",
      "\u001b[0;32m<ipython-input-402-67ac0520214f>\u001b[0m in \u001b[0;36m<genexpr>\u001b[0;34m(.0)\u001b[0m\n\u001b[1;32m      5\u001b[0m         \u001b[0mprint\u001b[0m\u001b[0;34m(\u001b[0m\u001b[0;34m\"--------------------------------------------\"\u001b[0m\u001b[0;34m)\u001b[0m\u001b[0;34m\u001b[0m\u001b[0;34m\u001b[0m\u001b[0m\n\u001b[1;32m      6\u001b[0m         print(\"%s: %s\" % (class_label,\n\u001b[0;32m----> 7\u001b[0;31m               \" \".join(feature_names[j] for j in top10)))\n\u001b[0m\u001b[1;32m      8\u001b[0m         \u001b[0mprint\u001b[0m\u001b[0;34m(\u001b[0m\u001b[0;34m\"--------------------------------------------\"\u001b[0m\u001b[0;34m)\u001b[0m\u001b[0;34m\u001b[0m\u001b[0;34m\u001b[0m\u001b[0m\n",
      "\u001b[0;31mTypeError\u001b[0m: only integer scalar arrays can be converted to a scalar index"
     ]
    }
   ],
   "source": [
    "print_top10(feature_names, mlpc, multilabel_binarizer.classes_)"
   ]
  },
  {
   "cell_type": "code",
   "execution_count": 120,
   "metadata": {},
   "outputs": [],
   "source": [
    "questions_high_score.drop(columns=['Id', 'Score'], inplace=True)"
   ]
  },
  {
   "cell_type": "code",
   "execution_count": 121,
   "metadata": {},
   "outputs": [
    {
     "data": {
      "text/html": [
       "<div>\n",
       "<style scoped>\n",
       "    .dataframe tbody tr th:only-of-type {\n",
       "        vertical-align: middle;\n",
       "    }\n",
       "\n",
       "    .dataframe tbody tr th {\n",
       "        vertical-align: top;\n",
       "    }\n",
       "\n",
       "    .dataframe thead th {\n",
       "        text-align: right;\n",
       "    }\n",
       "</style>\n",
       "<table border=\"1\" class=\"dataframe\">\n",
       "  <thead>\n",
       "    <tr style=\"text-align: right;\">\n",
       "      <th></th>\n",
       "      <th>Title</th>\n",
       "      <th>Body</th>\n",
       "      <th>Tags</th>\n",
       "    </tr>\n",
       "  </thead>\n",
       "  <tbody>\n",
       "    <tr>\n",
       "      <th>0</th>\n",
       "      <td>SQLStatement.execute() - multiple queries in o...</td>\n",
       "      <td>&lt;p&gt;I've written a database generation script i...</td>\n",
       "      <td>flex actionscript-3 air</td>\n",
       "    </tr>\n",
       "    <tr>\n",
       "      <th>1</th>\n",
       "      <td>Good branching and merging tutorials for Torto...</td>\n",
       "      <td>&lt;p&gt;Are there any really good tutorials explain...</td>\n",
       "      <td>svn tortoisesvn branch branching-and-merging</td>\n",
       "    </tr>\n",
       "    <tr>\n",
       "      <th>2</th>\n",
       "      <td>ASP.NET Site Maps</td>\n",
       "      <td>&lt;p&gt;Has anyone got experience creating &lt;strong&gt;...</td>\n",
       "      <td>sql asp.net sitemap</td>\n",
       "    </tr>\n",
       "    <tr>\n",
       "      <th>3</th>\n",
       "      <td>Function for creating color wheels</td>\n",
       "      <td>&lt;p&gt;This is something I've pseudo-solved many t...</td>\n",
       "      <td>algorithm language-agnostic colors color-space</td>\n",
       "    </tr>\n",
       "    <tr>\n",
       "      <th>4</th>\n",
       "      <td>Adding scripting functionality to .NET applica...</td>\n",
       "      <td>&lt;p&gt;I have a little game written in C#. It uses...</td>\n",
       "      <td>c# .net scripting compiler-construction</td>\n",
       "    </tr>\n",
       "  </tbody>\n",
       "</table>\n",
       "</div>"
      ],
      "text/plain": [
       "                                               Title  \\\n",
       "0  SQLStatement.execute() - multiple queries in o...   \n",
       "1  Good branching and merging tutorials for Torto...   \n",
       "2                                  ASP.NET Site Maps   \n",
       "3                 Function for creating color wheels   \n",
       "4  Adding scripting functionality to .NET applica...   \n",
       "\n",
       "                                                Body  \\\n",
       "0  <p>I've written a database generation script i...   \n",
       "1  <p>Are there any really good tutorials explain...   \n",
       "2  <p>Has anyone got experience creating <strong>...   \n",
       "3  <p>This is something I've pseudo-solved many t...   \n",
       "4  <p>I have a little game written in C#. It uses...   \n",
       "\n",
       "                                             Tags  \n",
       "0                         flex actionscript-3 air  \n",
       "1    svn tortoisesvn branch branching-and-merging  \n",
       "2                             sql asp.net sitemap  \n",
       "3  algorithm language-agnostic colors color-space  \n",
       "4         c# .net scripting compiler-construction  "
      ]
     },
     "execution_count": 121,
     "metadata": {},
     "output_type": "execute_result"
    }
   ],
   "source": [
    "questions_high_score.head(5)"
   ]
  },
  {
   "cell_type": "code",
   "execution_count": 122,
   "metadata": {},
   "outputs": [],
   "source": [
    "questions_high_score['Tags'] = questions_high_score['Tags'].apply(lambda x: x.split())"
   ]
  },
  {
   "cell_type": "code",
   "execution_count": 123,
   "metadata": {},
   "outputs": [],
   "source": [
    "all_tags = [item for sublist in questions_high_score['Tags'].values for item in sublist]"
   ]
  },
  {
   "cell_type": "code",
   "execution_count": 124,
   "metadata": {},
   "outputs": [
    {
     "data": {
      "text/plain": [
       "224129"
      ]
     },
     "execution_count": 124,
     "metadata": {},
     "output_type": "execute_result"
    }
   ],
   "source": [
    "len(all_tags)"
   ]
  },
  {
   "cell_type": "code",
   "execution_count": 125,
   "metadata": {},
   "outputs": [
    {
     "data": {
      "text/plain": [
       "14883"
      ]
     },
     "execution_count": 125,
     "metadata": {},
     "output_type": "execute_result"
    }
   ],
   "source": [
    "my_set = set(all_tags)\n",
    "unique_tags = list(my_set)\n",
    "len(unique_tags)"
   ]
  },
  {
   "cell_type": "code",
   "execution_count": 126,
   "metadata": {},
   "outputs": [
    {
     "name": "stdout",
     "output_type": "stream",
     "text": [
      "<FreqDist with 14883 samples and 224129 outcomes>\n"
     ]
    }
   ],
   "source": [
    "flat_list = [item for sublist in questions_high_score['Tags'].values for item in sublist]\n",
    "\n",
    "keywords = nltk.FreqDist(flat_list)\n",
    "print(keywords)"
   ]
  },
  {
   "cell_type": "code",
   "execution_count": 127,
   "metadata": {},
   "outputs": [],
   "source": [
    "keywords = nltk.FreqDist(keywords)"
   ]
  },
  {
   "cell_type": "code",
   "execution_count": 128,
   "metadata": {},
   "outputs": [
    {
     "name": "stdout",
     "output_type": "stream",
     "text": [
      "<FreqDist with 14883 samples and 224129 outcomes>\n"
     ]
    }
   ],
   "source": [
    "print(keywords)"
   ]
  },
  {
   "cell_type": "code",
   "execution_count": 129,
   "metadata": {},
   "outputs": [],
   "source": [
    "frequencies_words = keywords.most_common(100)\n",
    "tags_features = [word[0] for word in frequencies_words]"
   ]
  },
  {
   "cell_type": "code",
   "execution_count": 130,
   "metadata": {},
   "outputs": [
    {
     "data": {
      "text/plain": [
       "['c#',\n",
       " 'java',\n",
       " 'javascript',\n",
       " 'android',\n",
       " 'python',\n",
       " 'c++',\n",
       " 'php',\n",
       " 'jquery',\n",
       " '.net',\n",
       " 'ios',\n",
       " 'html',\n",
       " 'css',\n",
       " 'c',\n",
       " 'iphone',\n",
       " 'objective-c',\n",
       " 'ruby-on-rails',\n",
       " 'sql',\n",
       " 'asp.net',\n",
       " 'mysql',\n",
       " 'ruby',\n",
       " 'r',\n",
       " 'git',\n",
       " 'asp.net-mvc',\n",
       " 'linux',\n",
       " 'sql-server',\n",
       " 'node.js',\n",
       " 'angularjs',\n",
       " 'django',\n",
       " 'performance',\n",
       " 'algorithm',\n",
       " 'string',\n",
       " 'xcode',\n",
       " 'arrays',\n",
       " 'wpf',\n",
       " 'eclipse',\n",
       " 'haskell',\n",
       " 'windows',\n",
       " 'scala',\n",
       " 'multithreading',\n",
       " 'json',\n",
       " 'c++11',\n",
       " 'regex',\n",
       " 'visual-studio',\n",
       " 'html5',\n",
       " 'osx',\n",
       " 'swift',\n",
       " 'database',\n",
       " 'unit-testing',\n",
       " 'spring',\n",
       " 'xml',\n",
       " 'bash',\n",
       " 'ajax',\n",
       " 'delphi',\n",
       " 'cocoa-touch',\n",
       " 'ruby-on-rails-3',\n",
       " 'visual-studio-2010',\n",
       " 'linq',\n",
       " 'debugging',\n",
       " 'generics',\n",
       " 'perl',\n",
       " 'entity-framework',\n",
       " 'mongodb',\n",
       " 'winforms',\n",
       " 'cocoa',\n",
       " 'security',\n",
       " 'postgresql',\n",
       " 'css3',\n",
       " 'templates',\n",
       " 'twitter-bootstrap',\n",
       " 'shell',\n",
       " 'list',\n",
       " 'google-chrome',\n",
       " 'vim',\n",
       " 'oop',\n",
       " 'image',\n",
       " 'hibernate',\n",
       " 'gcc',\n",
       " 'asp.net-mvc-3',\n",
       " 'facebook',\n",
       " 'oracle',\n",
       " 'rest',\n",
       " 'maven',\n",
       " 'http',\n",
       " 'exception',\n",
       " 'tsql',\n",
       " 'math',\n",
       " 'numpy',\n",
       " 'svn',\n",
       " 'qt',\n",
       " 'ipad',\n",
       " 'function',\n",
       " 'datetime',\n",
       " 'wcf',\n",
       " 'emacs',\n",
       " 'design-patterns',\n",
       " 'github',\n",
       " 'class',\n",
       " 'api',\n",
       " 'optimization',\n",
       " 'swing']"
      ]
     },
     "execution_count": 130,
     "metadata": {},
     "output_type": "execute_result"
    }
   ],
   "source": [
    "tags_features"
   ]
  },
  {
   "cell_type": "markdown",
   "metadata": {},
   "source": [
    "#### Filter  rows from the questions dataset with tags in tags_feature"
   ]
  },
  {
   "cell_type": "code",
   "execution_count": 131,
   "metadata": {},
   "outputs": [],
   "source": [
    "def most_common(tags):\n",
    "    tags_filtered = []\n",
    "    for i in range(0, len(tags)):\n",
    "        if tags[i] in tags_features:\n",
    "            tags_filtered.append(tags[i])\n",
    "    return tags_filtered"
   ]
  },
  {
   "cell_type": "code",
   "execution_count": 132,
   "metadata": {},
   "outputs": [],
   "source": [
    "questions_high_score['Tags'] = questions_high_score['Tags'].apply(lambda x: most_common(x))\n",
    "questions_high_score['Tags'] = questions_high_score['Tags'].apply(lambda x: x if len(x)>0 else None)"
   ]
  },
  {
   "cell_type": "code",
   "execution_count": 134,
   "metadata": {},
   "outputs": [
    {
     "data": {
      "text/plain": [
       "(72950, 3)"
      ]
     },
     "execution_count": 134,
     "metadata": {},
     "output_type": "execute_result"
    }
   ],
   "source": [
    "questions_high_score.shape"
   ]
  },
  {
   "cell_type": "code",
   "execution_count": 135,
   "metadata": {},
   "outputs": [
    {
     "data": {
      "text/html": [
       "<div>\n",
       "<style scoped>\n",
       "    .dataframe tbody tr th:only-of-type {\n",
       "        vertical-align: middle;\n",
       "    }\n",
       "\n",
       "    .dataframe tbody tr th {\n",
       "        vertical-align: top;\n",
       "    }\n",
       "\n",
       "    .dataframe thead th {\n",
       "        text-align: right;\n",
       "    }\n",
       "</style>\n",
       "<table border=\"1\" class=\"dataframe\">\n",
       "  <thead>\n",
       "    <tr style=\"text-align: right;\">\n",
       "      <th></th>\n",
       "      <th>Title</th>\n",
       "      <th>Body</th>\n",
       "      <th>Tags</th>\n",
       "    </tr>\n",
       "  </thead>\n",
       "  <tbody>\n",
       "    <tr>\n",
       "      <th>0</th>\n",
       "      <td>SQLStatement.execute() - multiple queries in o...</td>\n",
       "      <td>&lt;p&gt;I've written a database generation script i...</td>\n",
       "      <td>None</td>\n",
       "    </tr>\n",
       "    <tr>\n",
       "      <th>1</th>\n",
       "      <td>Good branching and merging tutorials for Torto...</td>\n",
       "      <td>&lt;p&gt;Are there any really good tutorials explain...</td>\n",
       "      <td>[svn]</td>\n",
       "    </tr>\n",
       "    <tr>\n",
       "      <th>2</th>\n",
       "      <td>ASP.NET Site Maps</td>\n",
       "      <td>&lt;p&gt;Has anyone got experience creating &lt;strong&gt;...</td>\n",
       "      <td>[sql, asp.net]</td>\n",
       "    </tr>\n",
       "    <tr>\n",
       "      <th>3</th>\n",
       "      <td>Function for creating color wheels</td>\n",
       "      <td>&lt;p&gt;This is something I've pseudo-solved many t...</td>\n",
       "      <td>[algorithm]</td>\n",
       "    </tr>\n",
       "    <tr>\n",
       "      <th>4</th>\n",
       "      <td>Adding scripting functionality to .NET applica...</td>\n",
       "      <td>&lt;p&gt;I have a little game written in C#. It uses...</td>\n",
       "      <td>[c#, .net]</td>\n",
       "    </tr>\n",
       "  </tbody>\n",
       "</table>\n",
       "</div>"
      ],
      "text/plain": [
       "                                               Title  \\\n",
       "0  SQLStatement.execute() - multiple queries in o...   \n",
       "1  Good branching and merging tutorials for Torto...   \n",
       "2                                  ASP.NET Site Maps   \n",
       "3                 Function for creating color wheels   \n",
       "4  Adding scripting functionality to .NET applica...   \n",
       "\n",
       "                                                Body            Tags  \n",
       "0  <p>I've written a database generation script i...            None  \n",
       "1  <p>Are there any really good tutorials explain...           [svn]  \n",
       "2  <p>Has anyone got experience creating <strong>...  [sql, asp.net]  \n",
       "3  <p>This is something I've pseudo-solved many t...     [algorithm]  \n",
       "4  <p>I have a little game written in C#. It uses...      [c#, .net]  "
      ]
     },
     "execution_count": 135,
     "metadata": {},
     "output_type": "execute_result"
    }
   ],
   "source": [
    "questions_high_score.head(5)"
   ]
  },
  {
   "cell_type": "code",
   "execution_count": 136,
   "metadata": {},
   "outputs": [],
   "source": [
    "questions_high_score.dropna(subset=['Tags'], inplace=True)"
   ]
  },
  {
   "cell_type": "code",
   "execution_count": 137,
   "metadata": {},
   "outputs": [
    {
     "data": {
      "text/html": [
       "<div>\n",
       "<style scoped>\n",
       "    .dataframe tbody tr th:only-of-type {\n",
       "        vertical-align: middle;\n",
       "    }\n",
       "\n",
       "    .dataframe tbody tr th {\n",
       "        vertical-align: top;\n",
       "    }\n",
       "\n",
       "    .dataframe thead th {\n",
       "        text-align: right;\n",
       "    }\n",
       "</style>\n",
       "<table border=\"1\" class=\"dataframe\">\n",
       "  <thead>\n",
       "    <tr style=\"text-align: right;\">\n",
       "      <th></th>\n",
       "      <th>Title</th>\n",
       "      <th>Body</th>\n",
       "      <th>Tags</th>\n",
       "    </tr>\n",
       "  </thead>\n",
       "  <tbody>\n",
       "    <tr>\n",
       "      <th>1</th>\n",
       "      <td>Good branching and merging tutorials for Torto...</td>\n",
       "      <td>&lt;p&gt;Are there any really good tutorials explain...</td>\n",
       "      <td>[svn]</td>\n",
       "    </tr>\n",
       "    <tr>\n",
       "      <th>2</th>\n",
       "      <td>ASP.NET Site Maps</td>\n",
       "      <td>&lt;p&gt;Has anyone got experience creating &lt;strong&gt;...</td>\n",
       "      <td>[sql, asp.net]</td>\n",
       "    </tr>\n",
       "    <tr>\n",
       "      <th>3</th>\n",
       "      <td>Function for creating color wheels</td>\n",
       "      <td>&lt;p&gt;This is something I've pseudo-solved many t...</td>\n",
       "      <td>[algorithm]</td>\n",
       "    </tr>\n",
       "    <tr>\n",
       "      <th>4</th>\n",
       "      <td>Adding scripting functionality to .NET applica...</td>\n",
       "      <td>&lt;p&gt;I have a little game written in C#. It uses...</td>\n",
       "      <td>[c#, .net]</td>\n",
       "    </tr>\n",
       "    <tr>\n",
       "      <th>5</th>\n",
       "      <td>Should I use nested classes in this case?</td>\n",
       "      <td>&lt;p&gt;I am working on a collection of classes use...</td>\n",
       "      <td>[c++, oop, class]</td>\n",
       "    </tr>\n",
       "  </tbody>\n",
       "</table>\n",
       "</div>"
      ],
      "text/plain": [
       "                                               Title  \\\n",
       "1  Good branching and merging tutorials for Torto...   \n",
       "2                                  ASP.NET Site Maps   \n",
       "3                 Function for creating color wheels   \n",
       "4  Adding scripting functionality to .NET applica...   \n",
       "5          Should I use nested classes in this case?   \n",
       "\n",
       "                                                Body               Tags  \n",
       "1  <p>Are there any really good tutorials explain...              [svn]  \n",
       "2  <p>Has anyone got experience creating <strong>...     [sql, asp.net]  \n",
       "3  <p>This is something I've pseudo-solved many t...        [algorithm]  \n",
       "4  <p>I have a little game written in C#. It uses...         [c#, .net]  \n",
       "5  <p>I am working on a collection of classes use...  [c++, oop, class]  "
      ]
     },
     "execution_count": 137,
     "metadata": {},
     "output_type": "execute_result"
    }
   ],
   "source": [
    "questions_high_score.head(5)"
   ]
  },
  {
   "cell_type": "code",
   "execution_count": 138,
   "metadata": {},
   "outputs": [
    {
     "data": {
      "text/plain": [
       "(63167, 3)"
      ]
     },
     "execution_count": 138,
     "metadata": {},
     "output_type": "execute_result"
    }
   ],
   "source": [
    "questions_high_score.shape"
   ]
  },
  {
   "cell_type": "markdown",
   "metadata": {},
   "source": [
    "#### Cleaning the body column of questions\n"
   ]
  },
  {
   "cell_type": "code",
   "execution_count": 139,
   "metadata": {},
   "outputs": [],
   "source": [
    "questions_high_score['Body'] = questions_high_score['Body'].apply(lambda x: BeautifulSoup(x).get_text()) "
   ]
  },
  {
   "cell_type": "code",
   "execution_count": 140,
   "metadata": {},
   "outputs": [],
   "source": [
    "def clean_text(text):\n",
    "    text = text.lower()\n",
    "    text = re.sub(r\"what's\", \"what is \", text)\n",
    "    text = re.sub(r\"\\'s\", \" \", text)\n",
    "    text = re.sub(r\"\\'ve\", \" have \", text)\n",
    "    text = re.sub(r\"can't\", \"can not \", text)\n",
    "    text = re.sub(r\"n't\", \" not \", text)\n",
    "    text = re.sub(r\"i'm\", \"i am \", text)\n",
    "    text = re.sub(r\"\\'re\", \" are \", text)\n",
    "    text = re.sub(r\"\\'d\", \" would \", text)\n",
    "    text = re.sub(r\"\\'ll\", \" will \", text)\n",
    "    text = re.sub(r\"\\'scuse\", \" excuse \", text)\n",
    "    text = re.sub(r\"\\'\\n\", \" \", text)\n",
    "    text = re.sub(r\"\\'\\xa0\", \" \", text)\n",
    "    text = re.sub('\\s+', ' ', text)\n",
    "    text = text.strip(' ')\n",
    "    return text"
   ]
  },
  {
   "cell_type": "code",
   "execution_count": 141,
   "metadata": {},
   "outputs": [],
   "source": [
    "questions_high_score['Body'] = questions_high_score['Body'].apply(lambda x: clean_text(x)) "
   ]
  },
  {
   "cell_type": "code",
   "execution_count": 142,
   "metadata": {},
   "outputs": [
    {
     "data": {
      "text/plain": [
       "'has anyone got experience creating sql-based asp.net site-map providers? i have got the default xml file web.sitemap working properly with my menu and sitemappath controls, but i will need a way for the users of my site to create and modify pages dynamically. i need to tie page viewing permissions into the standard asp.net membership system as well.'"
      ]
     },
     "execution_count": 142,
     "metadata": {},
     "output_type": "execute_result"
    }
   ],
   "source": [
    "questions_high_score['Body'][2]"
   ]
  },
  {
   "cell_type": "code",
   "execution_count": 144,
   "metadata": {},
   "outputs": [],
   "source": [
    "token=ToktokTokenizer()"
   ]
  },
  {
   "cell_type": "code",
   "execution_count": 145,
   "metadata": {},
   "outputs": [
    {
     "data": {
      "text/plain": [
       "'!\"#$%&\\'()*+,-./:;<=>?@[\\\\]^_`{|}~'"
      ]
     },
     "execution_count": 145,
     "metadata": {},
     "output_type": "execute_result"
    }
   ],
   "source": [
    "punctuation"
   ]
  },
  {
   "cell_type": "code",
   "execution_count": 146,
   "metadata": {},
   "outputs": [],
   "source": [
    "punct = '!\"#$%&\\'()*+,./:;<=>?@[\\\\]^_`{|}~'"
   ]
  },
  {
   "cell_type": "code",
   "execution_count": 147,
   "metadata": {},
   "outputs": [],
   "source": [
    "def strip_list_noempty(mylist):\n",
    "    newlist = (item.strip() if hasattr(item, 'strip') else item for item in mylist)\n",
    "    return [item for item in newlist if item != '']"
   ]
  },
  {
   "cell_type": "code",
   "execution_count": 148,
   "metadata": {},
   "outputs": [],
   "source": [
    "def clean_punct(text): \n",
    "    words=token.tokenize(text)\n",
    "    punctuation_filtered = []\n",
    "    regex = re.compile('[%s]' % re.escape(punct))\n",
    "    remove_punctuation = str.maketrans(' ', ' ', punct)\n",
    "    for w in words:\n",
    "        if w in tags_features:\n",
    "            punctuation_filtered.append(w)\n",
    "        else:\n",
    "            punctuation_filtered.append(regex.sub('', w))\n",
    "  \n",
    "    filtered_list = strip_list_noempty(punctuation_filtered)\n",
    "        \n",
    "    return ' '.join(map(str, filtered_list))"
   ]
  },
  {
   "cell_type": "code",
   "execution_count": 149,
   "metadata": {},
   "outputs": [],
   "source": [
    "questions_high_score['Body'] = questions_high_score['Body'].apply(lambda x: clean_punct(x)) "
   ]
  },
  {
   "cell_type": "code",
   "execution_count": 150,
   "metadata": {},
   "outputs": [
    {
     "data": {
      "text/plain": [
       "'has anyone got experience creating sql-based asp.net site-map providers i have got the default xml file websitemap working properly with my menu and sitemappath controls but i will need a way for the users of my site to create and modify pages dynamically i need to tie page viewing permissions into the standard asp.net membership system as well'"
      ]
     },
     "execution_count": 150,
     "metadata": {},
     "output_type": "execute_result"
    }
   ],
   "source": [
    "questions_high_score['Body'][2]"
   ]
  },
  {
   "cell_type": "code",
   "execution_count": 153,
   "metadata": {},
   "outputs": [
    {
     "name": "stderr",
     "output_type": "stream",
     "text": [
      "[nltk_data] Downloading package stopwords to\n",
      "[nltk_data]     /Users/saumya/nltk_data...\n",
      "[nltk_data]   Unzipping corpora/stopwords.zip.\n"
     ]
    }
   ],
   "source": [
    "import nltk\n",
    "nltk.download('stopwords')\n",
    "lemma=WordNetLemmatizer()\n",
    "stop_words = set(stopwords.words(\"english\"))"
   ]
  },
  {
   "cell_type": "code",
   "execution_count": 154,
   "metadata": {},
   "outputs": [],
   "source": [
    "def lemitizeWords(text):\n",
    "    words=token.tokenize(text)\n",
    "    listLemma=[]\n",
    "    for w in words:\n",
    "        x=lemma.lemmatize(w, pos=\"v\")\n",
    "        listLemma.append(x)\n",
    "    return ' '.join(map(str, listLemma))\n",
    "\n",
    "def stopWordsRemove(text):\n",
    "    \n",
    "    stop_words = set(stopwords.words(\"english\"))\n",
    "    \n",
    "    words=token.tokenize(text)\n",
    "    \n",
    "    filtered = [w for w in words if not w in stop_words]\n",
    "    \n",
    "    return ' '.join(map(str, filtered))"
   ]
  },
  {
   "cell_type": "code",
   "execution_count": 156,
   "metadata": {},
   "outputs": [
    {
     "name": "stderr",
     "output_type": "stream",
     "text": [
      "[nltk_data] Downloading package wordnet to /Users/saumya/nltk_data...\n",
      "[nltk_data]   Unzipping corpora/wordnet.zip.\n"
     ]
    }
   ],
   "source": [
    "import nltk\n",
    "nltk.download('wordnet')\n",
    "questions_high_score['Body'] = questions_high_score['Body'].apply(lambda x: lemitizeWords(x)) \n",
    "questions_high_score['Body'] = questions_high_score['Body'].apply(lambda x: stopWordsRemove(x)) "
   ]
  },
  {
   "cell_type": "code",
   "execution_count": 157,
   "metadata": {},
   "outputs": [],
   "source": [
    "questions_high_score['Title'] = questions_high_score['Title'].apply(lambda x: str(x))\n",
    "questions_high_score['Title'] = questions_high_score['Title'].apply(lambda x: clean_text(x)) \n",
    "questions_high_score['Title'] = questions_high_score['Title'].apply(lambda x: clean_punct(x)) \n",
    "questions_high_score['Title'] = questions_high_score['Title'].apply(lambda x: lemitizeWords(x)) \n",
    "questions_high_score['Title'] = questions_high_score['Title'].apply(lambda x: stopWordsRemove(x)) "
   ]
  },
  {
   "cell_type": "markdown",
   "metadata": {},
   "source": [
    "## Data Preparation\n"
   ]
  },
  {
   "cell_type": "code",
   "execution_count": 160,
   "metadata": {},
   "outputs": [],
   "source": [
    "X1 = questions_high_score['Body']\n",
    "X2 = questions_high_score['Title']\n",
    "y = questions_high_score['Tags']"
   ]
  },
  {
   "cell_type": "code",
   "execution_count": 161,
   "metadata": {},
   "outputs": [],
   "source": [
    "multilabel_binarizer = MultiLabelBinarizer()\n",
    "y_bin = multilabel_binarizer.fit_transform(y)"
   ]
  },
  {
   "cell_type": "code",
   "execution_count": 162,
   "metadata": {},
   "outputs": [],
   "source": [
    "vectorizer_X1 = TfidfVectorizer(analyzer = 'word',\n",
    "                                       min_df=0.0,\n",
    "                                       max_df = 1.0,\n",
    "                                       strip_accents = None,\n",
    "                                       encoding = 'utf-8', \n",
    "                                       preprocessor=None,\n",
    "                                       token_pattern=r\"(?u)\\S\\S+\",\n",
    "                                       max_features=1000)\n",
    "\n",
    "vectorizer_X2 = TfidfVectorizer(analyzer = 'word',\n",
    "                                       min_df=0.0,\n",
    "                                       max_df = 1.0,\n",
    "                                       strip_accents = None,\n",
    "                                       encoding = 'utf-8', \n",
    "                                       preprocessor=None,\n",
    "                                       token_pattern=r\"(?u)\\S\\S+\",\n",
    "                                       max_features=1000)"
   ]
  },
  {
   "cell_type": "code",
   "execution_count": 163,
   "metadata": {},
   "outputs": [],
   "source": [
    "X1_tfidf = vectorizer_X1.fit_transform(X1)\n",
    "X2_tfidf = vectorizer_X2.fit_transform(X2)"
   ]
  },
  {
   "cell_type": "code",
   "execution_count": 164,
   "metadata": {},
   "outputs": [],
   "source": [
    "X_tfidf = hstack([X1_tfidf,X2_tfidf])"
   ]
  },
  {
   "cell_type": "code",
   "execution_count": 165,
   "metadata": {},
   "outputs": [],
   "source": [
    "X_train, X_test, y_train, y_test = train_test_split(X_tfidf, y_bin, test_size = 0.2, random_state = 0)"
   ]
  },
  {
   "cell_type": "code",
   "execution_count": 166,
   "metadata": {},
   "outputs": [],
   "source": [
    "def avg_jacard(y_true,y_pred):\n",
    "    '''\n",
    "    see https://en.wikipedia.org/wiki/Multi-label_classification#Statistics_and_evaluation_metrics\n",
    "    '''\n",
    "    jacard = np.minimum(y_true,y_pred).sum(axis=1) / np.maximum(y_true,y_pred).sum(axis=1)\n",
    "    \n",
    "    return jacard.mean()*100\n",
    "\n",
    "def print_score(y_pred, clf):\n",
    "    print(\"Clf: \", clf.__class__.__name__)\n",
    "    print(\"Jacard score: {}\".format(avg_jacard(y_test, y_pred)))\n",
    "    print(\"Hamming loss: {}\".format(hamming_loss(y_pred, y_test)*100))\n",
    "    print(\"---\")  "
   ]
  },
  {
   "cell_type": "code",
   "execution_count": 167,
   "metadata": {},
   "outputs": [
    {
     "name": "stdout",
     "output_type": "stream",
     "text": [
      "Clf:  DummyClassifier\n",
      "Jacard score: 2.5994136507433954\n",
      "Hamming loss: 3.00411587779009\n",
      "---\n",
      "Clf:  SGDClassifier\n",
      "Jacard score: 47.703155506305734\n",
      "Hamming loss: 0.9563083742282729\n",
      "---\n",
      "Clf:  LogisticRegression\n",
      "Jacard score: 48.3590575695214\n",
      "Hamming loss: 0.9707139464935887\n",
      "---\n",
      "Clf:  MultinomialNB\n",
      "Jacard score: 40.30181219234568\n",
      "Hamming loss: 1.1750039575747981\n",
      "---\n",
      "Clf:  LinearSVC\n",
      "Jacard score: 52.356208115666725\n",
      "Hamming loss: 0.9552794047807505\n",
      "---\n",
      "Clf:  Perceptron\n",
      "Jacard score: 46.88522530536143\n",
      "Hamming loss: 1.4487098306157986\n",
      "---\n",
      "Clf:  PassiveAggressiveClassifier\n",
      "Jacard score: 49.30158227609549\n",
      "Hamming loss: 1.2512268481874307\n",
      "---\n"
     ]
    }
   ],
   "source": [
    "dummy = DummyClassifier()\n",
    "sgd = SGDClassifier()\n",
    "lr = LogisticRegression()\n",
    "mn = MultinomialNB()\n",
    "svc = LinearSVC()\n",
    "perceptron = Perceptron()\n",
    "pac = PassiveAggressiveClassifier()\n",
    "\n",
    "for classifier in [dummy, sgd, lr, mn, svc, perceptron, pac]:\n",
    "    clf = OneVsRestClassifier(classifier)\n",
    "    clf.fit(X_train, y_train)\n",
    "    y_pred = clf.predict(X_test)\n",
    "    print_score(y_pred, classifier)"
   ]
  },
  {
   "cell_type": "markdown",
   "metadata": {},
   "source": [
    "## MLP Classifier"
   ]
  },
  {
   "cell_type": "code",
   "execution_count": 168,
   "metadata": {},
   "outputs": [
    {
     "name": "stdout",
     "output_type": "stream",
     "text": [
      "Clf:  MLPClassifier\n",
      "Jacard score: 48.47918881023994\n",
      "Hamming loss: 1.3471584612949183\n",
      "---\n"
     ]
    }
   ],
   "source": [
    "mlpc = MLPClassifier()\n",
    "mlpc.fit(X_train, y_train)\n",
    "\n",
    "y_pred = mlpc.predict(X_test)\n",
    "\n",
    "print_score(y_pred, mlpc)"
   ]
  },
  {
   "cell_type": "markdown",
   "metadata": {},
   "source": [
    "## Random Forest"
   ]
  },
  {
   "cell_type": "code",
   "execution_count": 169,
   "metadata": {},
   "outputs": [
    {
     "name": "stdout",
     "output_type": "stream",
     "text": [
      "Clf:  RandomForestClassifier\n",
      "Jacard score: 42.38826447153185\n",
      "Hamming loss: 1.06213392433117\n",
      "---\n"
     ]
    }
   ],
   "source": [
    "rfc = RandomForestClassifier()\n",
    "rfc.fit(X_train, y_train)\n",
    "\n",
    "y_pred = rfc.predict(X_test)\n",
    "\n",
    "print_score(y_pred, rfc)"
   ]
  },
  {
   "cell_type": "code",
   "execution_count": null,
   "metadata": {},
   "outputs": [],
   "source": []
  }
 ],
 "metadata": {
  "kernelspec": {
   "display_name": "Python 3",
   "language": "python",
   "name": "python3"
  },
  "language_info": {
   "codemirror_mode": {
    "name": "ipython",
    "version": 3
   },
   "file_extension": ".py",
   "mimetype": "text/x-python",
   "name": "python",
   "nbconvert_exporter": "python",
   "pygments_lexer": "ipython3",
   "version": "3.7.3"
  }
 },
 "nbformat": 4,
 "nbformat_minor": 2
}
