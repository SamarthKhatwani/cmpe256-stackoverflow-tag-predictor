{
 "cells": [
  {
   "cell_type": "markdown",
   "metadata": {},
   "source": [
    "### Steps to get similar/duplicate questions\n",
    "\n",
    "1. Preprocess data - clean question title and body.\n",
    "\n",
    "remove html, punctuations, stopwords, words less than 4 chars,\n",
    "but need to keep words like SQL, C++, C#... (get all tags list from tagsDF and exclude these from removing)\n",
    "\n",
    "2. Apply TF-IDF count vectorizer and create sparse matrix.\n",
    "\n",
    "3. Use NearestNeighbors and get most similar/duplicate 5 questions.\n",
    "\n",
    "Challenges - keeping words like SQL, C#, C++ ....\n",
    "\n",
    "For nearest neighbors, change metrics (mostly need to use cosine metric)\n",
    "\n",
    "How to relate title and body ??\n",
    "\n",
    "Can we use title , body and tag together to identify similar questions? Are tags reliable?"
   ]
  },
  {
   "cell_type": "code",
   "execution_count": 11,
   "metadata": {},
   "outputs": [
    {
     "name": "stderr",
     "output_type": "stream",
     "text": [
      "[nltk_data] Error loading punkt: <urlopen error [SSL:\n",
      "[nltk_data]     CERTIFICATE_VERIFY_FAILED] certificate verify failed:\n",
      "[nltk_data]     unable to get local issuer certificate (_ssl.c:1045)>\n",
      "[nltk_data] Error loading stopwords: <urlopen error [SSL:\n",
      "[nltk_data]     CERTIFICATE_VERIFY_FAILED] certificate verify failed:\n",
      "[nltk_data]     unable to get local issuer certificate (_ssl.c:1045)>\n",
      "[nltk_data] Error loading wordnet: <urlopen error [SSL:\n",
      "[nltk_data]     CERTIFICATE_VERIFY_FAILED] certificate verify failed:\n",
      "[nltk_data]     unable to get local issuer certificate (_ssl.c:1045)>\n"
     ]
    }
   ],
   "source": [
    "import warnings\n",
    "warnings.filterwarnings('ignore')\n",
    "import numpy as np\n",
    "import pandas as pd\n",
    "import re, string, unicodedata\n",
    "import nltk\n",
    "from nltk import word_tokenize, sent_tokenize\n",
    "from nltk.corpus import stopwords\n",
    "from nltk.stem import LancasterStemmer, WordNetLemmatizer\n",
    "from string import punctuation\n",
    "nltk.download('punkt')\n",
    "nltk.download('stopwords')\n",
    "nltk.download('wordnet')\n",
    "from sklearn.model_selection import train_test_split\n",
    "from bs4 import BeautifulSoup\n",
    "from nltk.tokenize import ToktokTokenizer"
   ]
  },
  {
   "cell_type": "code",
   "execution_count": 12,
   "metadata": {},
   "outputs": [],
   "source": [
    "questionsDF = pd.read_csv(\"Questions.csv\", encoding='ISO-8859-1')\n",
    "answersDF = pd.read_csv(\"Answers.csv\", encoding='ISO-8859-1')\n",
    "tagsDF = pd.read_csv(\"Tags.csv\", encoding='ISO-8859-1')"
   ]
  },
  {
   "cell_type": "code",
   "execution_count": 27,
   "metadata": {},
   "outputs": [
    {
     "data": {
      "text/plain": [
       "javascript                 124155\n",
       "java                       115212\n",
       "c#                         101186\n",
       "php                         98808\n",
       "android                     90659\n",
       "jquery                      78542\n",
       "python                      64601\n",
       "html                        58976\n",
       "c++                         47591\n",
       "ios                         47009\n",
       "mysql                       42464\n",
       "css                         42308\n",
       "sql                         35782\n",
       "asp.net                     29970\n",
       "objective-c                 26922\n",
       "ruby-on-rails               25789\n",
       ".net                        24059\n",
       "c                           23238\n",
       "iphone                      21539\n",
       "angularjs                   20345\n",
       "arrays                      19799\n",
       "sql-server                  18160\n",
       "json                        17669\n",
       "ruby                        17013\n",
       "r                           15701\n",
       "ajax                        15629\n",
       "regex                       15349\n",
       "xml                         14763\n",
       "node.js                     14525\n",
       "asp.net-mvc                 14284\n",
       "                            ...  \n",
       "scct                            1\n",
       "online-repository               1\n",
       "justcode                        1\n",
       "draw.io                         1\n",
       "service-operations              1\n",
       "iphone-video                    1\n",
       "polymorphic-functions           1\n",
       "as3xls                          1\n",
       "websphere-extreme-scale         1\n",
       "google-admin-audit-api          1\n",
       "gvm                             1\n",
       "netmodules                      1\n",
       "groovyc                         1\n",
       "vim-tabular                     1\n",
       "proxool                         1\n",
       "microsoft-appstore              1\n",
       "slashdot                        1\n",
       "compiler-generated              1\n",
       "binomial-cdf                    1\n",
       "better-assert                   1\n",
       "dialogbasedapp                  1\n",
       "moqcontrib                      1\n",
       "vpath                           1\n",
       "oracleexception                 1\n",
       "behaviorsubject                 1\n",
       "dominotogo                      1\n",
       "windows-server-2000             1\n",
       "team-project-collection         1\n",
       "kotlin-interop                  1\n",
       "autorest                        1\n",
       "Name: Tag, Length: 37034, dtype: int64"
      ]
     },
     "execution_count": 27,
     "metadata": {},
     "output_type": "execute_result"
    }
   ],
   "source": [
    "tagsDF[\"Tag\"].value_counts()"
   ]
  },
  {
   "cell_type": "code",
   "execution_count": 35,
   "metadata": {},
   "outputs": [],
   "source": [
    "available_tags = tagsDF.Tag.unique()"
   ]
  },
  {
   "cell_type": "code",
   "execution_count": 14,
   "metadata": {},
   "outputs": [],
   "source": [
    "html_removed_description = questionsDF['Body'].head(10000).apply(lambda x: BeautifulSoup(x,\"html.parser\").get_text()) "
   ]
  },
  {
   "cell_type": "code",
   "execution_count": 15,
   "metadata": {},
   "outputs": [],
   "source": [
    "###Preprocessing logic:\n",
    "def clean_text(text):\n",
    "    text = text.lower()\n",
    "    text = re.sub(r\"what's\", \"what is \", text)\n",
    "    text = re.sub(r\"\\'s\", \" \", text)\n",
    "    text = re.sub(r\"\\'ve\", \" have \", text)\n",
    "    text = re.sub(r\"can't\", \"can not \", text)\n",
    "    text = re.sub(r\"n't\", \" not \", text)\n",
    "    text = re.sub(r\"i'm\", \"i am \", text)\n",
    "    text = re.sub(r\"\\'re\", \" are \", text)\n",
    "    text = re.sub(r\"\\'d\", \" would \", text)\n",
    "    text = re.sub(r\"\\'ll\", \" will \", text)\n",
    "    text = re.sub(r\"\\'scuse\", \" excuse \", text)\n",
    "    text = re.sub(r\"\\'\\n\", \" \", text)\n",
    "    text = re.sub(r\"\\'\\t\", \" \", text)\n",
    "    text = re.sub(r\"\\'\\xa0\", \" \", text)\n",
    "    text = re.sub('\\s+', ' ', text)\n",
    "    text = text.strip(' ')\n",
    "    return text\n",
    "\n",
    "\n",
    "def strip_list_noempty(mylist):\n",
    "    newlist = (item.strip() if hasattr(item, 'strip') else item for item in mylist)\n",
    "    return [item for item in newlist if item != '']\n",
    "\n",
    "def clean_punct(text): \n",
    "    text = clean_text(text)\n",
    "    words=token.tokenize(text)\n",
    "    punctuation_filtered = []\n",
    "    regex = re.compile('[%s]' % re.escape(punct))\n",
    "    #remove_punctuation = str.maketrans(' ', ' ', punct)\n",
    "    for w in words:\n",
    "        if w in available_tags:\n",
    "            punctuation_filtered.append(w)\n",
    "        else:\n",
    "            punctuation_filtered.append(regex.sub('', w))\n",
    "  \n",
    "    filtered_list = strip_list_noempty(punctuation_filtered)\n",
    "        \n",
    "    return ' '.join(map(str, filtered_list))\n",
    "\n",
    "            \n",
    "token = ToktokTokenizer()\n",
    "punct = '!\"#$%&\\'()*+,./:;<=>?@[\\\\]^_`{|}~'\n",
    "test=html_removed_description.apply(lambda x: clean_punct(x))           \n"
   ]
  },
  {
   "cell_type": "code",
   "execution_count": 241,
   "metadata": {
    "scrolled": false
   },
   "outputs": [],
   "source": [
    "# tagsDF['Tag'] = tagsDF['Tag'].astype(str)\n",
    "# grouped_tags = tagsDF.groupby(\"Id\")['Tag'].apply(lambda tags: ' '.join(tags))\n",
    "# grouped_tags.reset_index()\n",
    "# grouped_tags_final = pd.DataFrame({'Id':grouped_tags.index, 'Tags':grouped_tags.values})\n",
    "# #questionsDF.drop(columns=['OwnerUserId', 'CreationDate', 'ClosedDate'], inplace=True)\n",
    "# df = questionsDF.merge(grouped_tags_final, on='Id')\n",
    "# new_df = df[df['Score']>5]\n",
    "# new_df.drop(columns=['Id', 'Score'], inplace=True)\n",
    "# new_df['Tags'] = new_df['Tags'].apply(lambda x: x.split())\n",
    "# # new_df = tagsDF\n"
   ]
  },
  {
   "cell_type": "code",
   "execution_count": 16,
   "metadata": {},
   "outputs": [],
   "source": [
    "x_train = test.str.join(' ')\n",
    "from sklearn.feature_extraction.text import TfidfVectorizer\n",
    "vectorizer = TfidfVectorizer(ngram_range=(1, 3))\n",
    "x_train = vectorizer.fit_transform(test)\n"
   ]
  },
  {
   "cell_type": "code",
   "execution_count": 17,
   "metadata": {},
   "outputs": [],
   "source": [
    "### Store vectorizer object in pickle\n",
    "import pickle\n",
    "filename = 'similar_questions_model_vectorizer'\n",
    "outfile = open(filename,'wb')\n",
    "pickle.dump(vectorizer,outfile)\n",
    "outfile.close()"
   ]
  },
  {
   "cell_type": "code",
   "execution_count": 19,
   "metadata": {},
   "outputs": [],
   "source": [
    "### Read back vectorizer object, to avoid repeatative computation\n",
    "filename = 'similar_questions_model_vectorizer'\n",
    "infile = open(filename,'rb')\n",
    "vect = pickle.load(infile)\n",
    "infile.close()          "
   ]
  },
  {
   "cell_type": "code",
   "execution_count": null,
   "metadata": {},
   "outputs": [],
   "source": [
    "### Get similarity between questions\n",
    "from sklearn.neighbors import NearestNeighbors\n",
    "model_knn = NearestNeighbors(n_neighbors=5,metric=\"cosine\").fit(x_train)\n",
    "distances, indices = model_knn.kneighbors(x_train)"
   ]
  },
  {
   "cell_type": "code",
   "execution_count": 18,
   "metadata": {},
   "outputs": [
    {
     "data": {
      "text/html": [
       "\n",
       "                <audio controls=\"controls\" autoplay=\"autoplay\">\n",
       "                    <source src=\"data:audio/x-wav;base64,UklGRjpFAABXQVZFZm10IBAAAAABAAEAIlYAAESsAAACABAAZGF0YfpEAAAAAAAAAAAAAAAAAAAAAAAAAAAAAAAAAAAAAAAAAAAAAAAAAAAAAAAAAAAAAAAAAAAAAAAAAAAAAAAAAAAAAAAAAAAAAAAAAAAAAAAAAAAAAAAAAAAAAAAAAAAAAAAAAAAAAAAAAAAAAAAAAAAAAAAAAAAAAAAAAAAAAAAAAAAAAAAAAAAAAAAAAAAAAAAAAAAAAAAAAAAAAAAAAAAAAAAAAAAAAAAAAAAAAAAAAAAAAAAAAAAAAAAAAAAAAAAAAAAAAAAAAAAAAAAAAAAAAAAAAAAAAAAAAAAAAAAAAAAAAAAAAAAAAAAAAAAAAAAAAAAAAAAAAAAAAAAAAAAAAAAAAAAAAAAAAAAAAAAAAAAAAAAAAAAAAAAAAAAAAAAAAAAAAAAAAAAAAAAAAAAAAAAAAAAAAAAAAAAAAAAAAAAAAAAAAAAAAAAAAAAAAAAAAAAAAAAAAAAAAAAAAAAAAAAAAAAAAAAAAAAAAAAAAAAAAAAAAAAAAAAAAAAAAAAAAAAAAAAAAAAAAAAAAAAAAAAAAAAAAAAAAAAAAAAAAAAAAAAAAAAAAAAAAAAAAAAAAAAAAAAAAAAAAAAAAAAAAAAAAAAAAAAAAAAAAAAAAAAAAAAAAAAAAAAAAAAAAAAAAAAAAAAAAAAAAAAAAAAAAAAAAAAAAAAAAAAAAAAAAAAAAAAAAAAAAAAAAAAAAAAAAAAAAAAAAAAAAAAAAAAAAAAAAAAAAAAAAAAAAAAAAAAAAAAAAAAAAAAAAAAAAAAAAAAAAAAAAAAAAAAAAAAAAAAAAAAAAAAAAAAAAAAAAAAAAAAAAAAAAAAAAAAAAAAAAAAAAAAAAAAAAAAAAAAAAAAAAAAAAAAAAAAAAAAAAAAAAAAAAAAAAAAAAAAAAAAAAAAAAAAAAAAAAAAAAAAAAAAAAAAAAAAAAAAAAAAAAAAAAAAAAAAAAAAAAAAAAAAAAAAAAAAAAAAAAAAAAAAAAAAAAAAAAAAAAAAAAAAAAAAAAAAAAAAAAAAAAAAAAAAAAAAAAAAAAAAAAAAAAAAAAAAAAAAAAAAAAAAAAAAAAAAAAAAAAAAAAAAAAAAAAAAAAAAAAAAAAAAAAAAAAAAAAAAAAAAAAAAAAAAAAAAAAAAAAAAAAAAAAAAAAAAAAAAAAAAAAAAAAAAAAAAAAAAAAAAAAAAAAAAAAAAAAAAAAAAAAAAAAAAAAAAAAAAAAAAAAAAAAAAAAAAAAAAAAAAAAAAAAAAAAAAAAAAAAAAAAAAAAAAAAAAAAAAAAAAAAAAAAAAAAAAAAAAAAAAAAAAAAAAAAAAAAAAAAAAAAAAAAAAAAAAAAAAAAAAAAAAAAAAAAAAAAAAAAAAAAAAAAAAAAAAAAAAAAAAAAAAAAAAAAAAAAAAAAAAAAAAAAAAAAAAAAAAAAAAAAAAAAAAAAAAAAAAAAAAAAAAAAAAAAAAAAAAAAAAAAAAAAAAAAAAAAAAAAAAAAAAAAAAAAAAAAAAAAAAAAAAAAAAAAAAAAAAAAAAAAAAAAAAAAAAAAAAAAAAAAAAAAAAAAAAAAAAAAAAAAAAAAAAAAAAAAAAAAAAAAAAAAAAAAAAAAAAAAAAAAAAAAAAAAAAAAAAAAAAAAAAAAAAAAAAAAAAAAAAAAAAAAAAAAAAAAAAAAAAAAAAAAAAAAAAAAAAAAAAAAAAAAAAAAAAAAAAAAAAAAAAAAAAAAAAAAAAAAAAAAAAAAAAAAAAAAAAAAAAAAAAAAAAAAAAAAAAAAAAAAAAAAAAAAAAAAAAAAAAAAAAAAAAAAAAAAAAAAAAAAAAAAAAAAAAAAAAAAAAAAAAAAAAAAAAAAAAAAAAAAAAAAAAAAAAAAAAAAAAAAAAAAAAAAAAAAAAAAAAAAAAAAAAAAAAAAAAAAAAAAAAAAAAAAAAAAAAAAAAAAAAAAAAAAAAAAAAAAAAAAAAAAAAAAAAAAAAAAAAAAAAAAAAAAAAAAAAAAAAAAAAAAAAAAAAAAAAAAAAAAAAAAAAAAAAAAAAAAAAAAAAAAAAAAAAAAAAAAAAAAAAAAAAAAAAAAAAAAAAAAAAAAAAAAAAAAAAAAAAAAAAAAAAAAAAAAAAAAAAAAAAAAAAAAAAAAAAAAAAAAAAAAAAAAAAAAAAAAAAAAAAAAAAAAAAAAAAAAAAAAAAAAAAAAAAAAAAAAAAAAAAAAAAAAAAAAAAAAAAAAAAAAAAAAAAAAAAAAAAAAAAAAAAAAAAAAAAAAAAAAAAAAAAAAAAAAAAAAAAAAAAAAAAAAAAAAAAAAAAAAAAAAAAAAAAAAAAAAAAAAAAAAAAAAAAAAAAAAAAAAAAAAAAAAAAAAAAAAAAAAAAAAAAAAAAAAAAAAAAAAAAAAAAAAAAAAAAAAAAAAAAAAAAAAAAAAAAAAAAAAAAAAAAAAAAAAAAAAAAAAAAAAAAAAAAAAAAAAAAAAAAAAAAAAAAAAAAAAAAAAAAAAAAAAAAAAAAAAAAAAAAAAAAAAAAAAAAAAAAAAAAAAAAAAAAAAAAAAAAAAAAAAAAAAAAAAAAAAAAAAAAAAAAAAAAAAAAAAAAAAAAAAAAAAAAAAAAAAAAAAAAAAAAAAAAAAAAAAAAAAAAAAAAAAAAAAAAAAAAAAAAAAAAAAAAAAAAAAAAAAAAAAAAAAAAAAAAAAAAAAAAAAAAAAAAAAAAAAAAAAAAAAAAAAAAAAAAAAAAAAAAAAAAAAAAAAAAAAAAAAAAAAAAAAAAAAAAAABAAEAAQABgAIAAoABgAGAAoABgAGAAYACgAMAAgACAAIAAgACAAGAAIABgAEAAgACAAGAAYABgAKAAYACAAEAAgABgAGAAQAAAAAAAIAPj/AAAIABgAEAAQABAAEAD4/wAAAAAAAPD/+P8IAPj/AAAAAAAA+P/4//j/8P/w//D/8P/w//D/+P/w//D/6P/w/+j/4P/o//D/8P/o//D/6P/4//D/8P/4//D/8P/o//D/8P/g//D/+P/w//D/8P/w//D/8P/g/+j/6P/w/+j/+P8IAAAA+P8IAPD/AADo//j/8P/w//D/+P/w//j/8P/w//j/8P/4//D/8P/o//D/6P/w//D/6P/w/+j/8P/o/+j/2P/o/9D/4P/Y/+j/2P/Y/+D/4P/g/+D/2P/Q/9j/2P/o//D/8P/Y/+j/6P/g/+D/6P/w/+D/8P/o/wAA+P8AAAAA+P/w//j/+P/w/wAA+P8QAAAAAAAQAAgAAAAAAAAA8P/4//D/CADw/wAAAAAIAAAAAAAAAAgACAAIAPD/+P8AAAgA+P8IAPD/CAAIAPj/8P8IAPj/+P/4/wAAAAAIAAgA8P8AAAAA+P8AAPD/AAD4//D/+P/4//j/AAAIAAAA+P/4//j/AAAAAAgA+P/4//j/8P/o/+j/6P/w//j/2P/o//D/4P/w//D/8P/w//D/+P/w//D/6P8AAOD/6P/o/+j/6P/o/9j/0P/Y/+D/8P/o//D/8P/w//D/6P/w/wAA+P/w/+j/8P/w//j/+P/w//j/+P/4//D/CAAAABAAAAAQAAgACAAIABAAEAAQABgAEAAQABAAIAAYABgAEAAIABAAEAAQABAAEAAIAAAAGAAQABgACAD4/wgACAAYABAAIAAYAAgAAADw//j/AAAIABgAAAD4//j/4P/w//j/GAAIAPj/8P8AAPD/8P/w/+D/4P/w/+D/6P/o//D/4P/o/9j/8P/w/+j/6P/o/9D/4P/o/+D/8P/w//j/6P/g/9j/AAAIAAAACAAIAAgA+P/w/wgACAAQABAAEAAYABAAEAAAAPj/CAAQAAgA8P8AABAAEAAQAAgAAAAQABgACAAYAAgACAAQAAAAAAAAAAAACAAAAAAA8P/g/9j/6P/Y/+j/+P/w//D/CAAAAAgA+P/4/xgAGAAQABAAEAAAACAAIAAQABAAIAAgAAgAEAAQABgAKAAIABAAGAD4/xAAAAAIABAAAAD4/wAAAAAAAPj/8P/w/+D/+P/g/9D/2P/Y/9j/4P/w/+D/CADg//j/+P/w//D/6P/o//j/6P/w//j/AADw/+j/+P/o//D/6P/o//D/0P/g//D/6P/o/+j/6P/o//j/6P/4/wAA8P/o/+D/+P/4//j/CAD4/xAAAAAIABAAGAAIABAAEAAIABAAEAAAABgAGAAAABAAGAAQAAgAGAD4/xAAEAA4ACgAEAA4ADAAKAA4ADAAOAAwACgAKAAoACgAKAA4ADAASABQAEAASAAwADgAQAAwADAAOAA4ACgAKAAwACAAKAAwADgAEAAoAEgAQAA4ACAAKAAYAAgAGAAIAAgACAAoABAAAAAQAPj/AADw//j/EAAIABgAEAAQABAAAAAIAAgAIAAQAPD/+P/4/+j/EADY/+D/8P/w/9D/yP/o/+j/8P/Y/+D/yP/Y/9j/yP/Q/9j/4P/I/6j/0P/I/9D/qP+w/8j/wP/Y/9j/6P+o/9D/sP/A/8D/qP/Q/7j/sP+w/8D/4P/I/9j/4P/A/8j/2P/w/wAA6P/g/9j/yP/A/8j/6P8AAOj/+P/o/+j/4P/4/9j/8P/w/+D/6P/Y//D/4P/o/+D/+P/4//D/6P/Y/+j/AADY/9j/8P/4//D/2P/g/+D/AAD4/wAAEAD4/wAA+P8AAPD/AAAAABgAIADw//j/CAAYABgACADQ/9j/0P/Y/xgAMAAgAAAA0P/o//j/EAAoACAAEAAQABAAAADw/xAAEAAQABgACAAgACAAIAAYABAAEAAIABgAEAAgACgAEAAAAAAAEAAoABAAAAAQABAAEAD4//j/CAAIABAAIAAIABAACAAQABAAGAAIAAgAGAAQABgAAAAIABAAAADo//j/CAAIAPj/8P/o//D/+P/g/9j/8P/w/wAA6P/g/+j/6P/4//j/+P8AAAAA+P/o/+j/6P8AAAgAAAAYAAAAAAAAAOj/8P/w//D/6P/w//D/8P/w/wAACAAAAPD/8P/w//D/8P8AAAgA+P8IAPj/AAAQABAAIAA4ACgAGAAYABAACAAIAAgACAAAAAgAGAAQABgAGAAIAAgAIAAQAAgAEAAIAAAAGAAQACgAGADo/wAA8P8QABAAIAA4ADAAGAAIABgAGAAgACgAOABIACgAIAAwACgAKAAYADAAMAAoADAAEAAYACAAKAAwADAAOABAACAAIAAoADAAOABAACgAKAAgAPj/AAAwADgAQAAgAAgA+P/o//D/+P8IAAgAEADw/+j/8P/4/wgAAAAAAAAA+P8AAPj/AAD4/wAACAAAAAAACAD4/wAA4P/w//j/CAAYAAgAEADw//j/IAAYAPD/+P8IABAAKAAYAAAA8P8IABgAKAAoABgAEAAAAOj/6P/w/+D/wP/Q/+D/aP/w/jj/yP8QAMgAsAAgABAACAAoAEgAWABgAAAA6P8IAGgAUACAAEgA4P+Y/9j/CAAoACAA8P/Q/9j/GABIAFgA2P9w/0j/uP8YACgAMAAQAPj/oP/I/wAAwP9w/zj/iP8AAHAAMACg/7D+6P5A/9j/sP+o/wgAqAHAAIj/sP0w/bD9gP8QAfABIAFQAHgAiP94/+D+aP+o/xgASP8g/7AAQAJwAEgAQADo/gD/QAA4/0AA8ABQAFABsP9QABgBIP/Y/mD+gP5gAtgESANo/kD8gPso/aj/CAOoAuABiP+4/2j/oAAA/lj+YAAoATD/qP2A/zgAiAAAABgAQAGY/gD/gABoAND/uAAQAWAAEP/Y/tj9qP3Q/0AAcAKQAyAC2P84/rD6GPxoAOgCyAMgARgB8P4A/pD/8ACAASgA0P2Y/bj9cP6oAWgC4AG4ADj/iP5A/5AA0P/QAKACuALg/mD7SP3o/QAAGAJYAiADAAD4/zD+mP+Y/OD/uACYAAAA4P+A/3gDSADIAVj/eP7Q/VD/MAEwAjgAiACQAHj8oPyw/ygBmAHg/xABqAAIAqj/+P5A/qD+2P0oABgBsABo/9j/CAJwAYABUACw/pj9KP9Y/1j/0P4YAPAByANI/5D98P1IAJABsAEAAdj+iP5Y/qj/IAFoAfD/CAH4AAD/OP7Q/7j/IP+A/GD9IABwA6gCAAQ4Alj+yP2I++j8CAEgAQgBeALoAlj/OP/o/dj/uP8wAVj/GADo/0j/iACIAlAB+ACoAaj/UP6I/HD9+P8QAYgBiAOwAjgBcP7Y/SD+cABw//AAMAFQAUAAUP9g/kD8CP6oAUgDmACw/iAAWADA/igBQAEwAagB8AEA//D8MP6QAIABoP+w/iD/iP5Q/+AAuALgA/gCCAE4/xj+sP3Y/8ACYAVAAyACWAJoAFj+SP04/hgBMAMwATAB6P9Q/7j+GP9gAGgAkP8I/3j9GP4o/oD/CAEoAqgAEP4Y/Nj6gPvY/SgCwAMwA9j/iPwo+uD60P44AgACUP5I/VD/YPwI/Lj7qPyg/bD8WP2g/Yj+0P9g/aD9oP74/3D9MPmw+WAA6AMwA9j/OPy4+wj6YPwQ/VgDOAEoAHAAAADw/DgBkAFIBdgDmPxY/BD4ePog/4ACyACoAFD+8A/A9+DzaAmYDmAtaCNIJWAJOPwIFpgpKCkAMbA/uCnQHzgiKBMQFnAiuCjwKrAk+C1wFXgNqB/YEvgY2CUwDBgcYB9IDFAaIA9wB3j4EPSQBvATIAB4FcDkiPjA6tDt2O4w7IDbeNJwuojgYNHg3yDPYMRIxJDS4M+4xyDJCLJQr6DC+M7Izli+oKaIsFC1YNHAxwjD6Lt4wcDEkNGwvkCwwLiIwWDhUOOI1xDZUNNw1RDvSPLABLgDQAuoHZgiICOQIcAlQDdgRoBNWE3gQ7BKKEnQTzhXsE14RwBAWDloMkAroCNYGEgZABNwCOj6IPIQ5Tjf+NfY26Df2NN42NjciNhA3EjcWOUI8UDxSAEIBCgPeBPgHIgk8CcwMlA/iDy4PxhCCEAgPdA5CDegMnAq6CNYHUAR4BC4Bcj58PlA67jlSN5Y3CDe+Nig2pjXUNtg4tjlYO1A8hDxKPwwAQgOOBIQHSggwCaIJZAvuCvALFAvkC5oLTAmkCeIHdgWeAzgCRACqPvI95DyaOvQ5pjfYN3I2jDbaN6Q4QDmcOgg6LDsgPZY/IAE6AdgCzARyBMgGAAfwB0IIqAh6ByoG7gVUBEID9AG4Afo/tj6aPRo7eDqWOTQ4NDi0OBI3iDh8OAA5lDiAOf46Kjv6PWA+XAAoP9IBBgE0Ag4CWAMmAzIDmgMSAuYBmACsP2o+CD2GPB46lDpUOVA41jemNpw2tjYUNrQ3qjd2OPo4vjq2PBw9Nj5aP6wBJgHiA2gEpgTQBawF1gXQBdAGFgUyBKQD2AL6AhABogB6P24/Dj4APUI88jxqO6Y8Bj1UPUg9RD24PrY/SABcATwCWALGA/IFagV6BV4FcgT4BUwFbgUeBZ4EpAQoAw4CjgKKAYYAuj+qPwo/ED7aPdg+Jj2ePV4+fj6oPmo+qj9EP8wAHgEMAjQA+gBQAgQCsAIiAmICWgIoASoA7gFwAAQ/fD7kPr493D2WPRA86DvUO948LDwkPJI8iDz4PhY+bD5mPpY+7D9EAEwAeAE8AMABHAEWAYABbAD8AFQAcj++P7g/gj7WPgA+dD3qPig9bDz+PKo86j2MPiQ9mD4QPsw+xj74P0I//D/UABwA+gCkAIQArACiAGIAegAsAC4/xj/mP+4/pD9OP/o/xD/CP+gAYgDqAQ4BMAFsAZICJgIYAogDNgMmAz4DoAPYA8gDiAMsAt4CmAIeAVIAwAB8P8Q/yD+0PlQ9qjzuPHQ8mj00PQ48wjysPG48kj0iPWQ9oD4APqA/ED+kACwArACEAMYBIAEOAVIB4gIYAe4BbAE6ANoAaAAcP/4/xAAoP8I/kD8oPwY/ZD9QP6Q/WD+AACIAHACSARYBpgG8AXoBMgFsAUwBoAG0AYYBogFAAVIBPAC6AG4/1j/wP6g/iD+EP6w/WD+2P2A/RD9gP2A/nD/sP+AALD+MP8I/3j/WP9oACD/6P6g/nj+kP3Y/BD8uPv4+KD5+Pi498D2mPc497D3APmI+Zj4MPoI/GD+GABgAYgBmAJoAuADSAPgBNAFaAfIB9gI2AhACbgIEAkgCAgI0Ab4BbAFUAZIBVgEmAMQBFgDMAPYAjgEoARABhgGCAb4BTAH0AY4B9gG2AcICBgJmAjQB6AFqAXIBVAECALgAKD/+P5g/SD9oPsQ+9j5qPkI+mD6KPr4+Rj6GPww/fD8AP1g/gD+uP44/2AAsAHgACj/YP6I/Bj8OPwo/Jj6SPpo+cj4IPdo9hj2uPU49Oj0aPVw9uD2iPhI+Wj5cPpA/Qj+4P7w/vgAOAIYAwAFUAXIBDgEUANoA2gDsAMgAyAD2ALoAvgAsAD4ACgAYP+o/zD/2P6A/nj+QP7Q/SD+YP7I/Wj+aP5g/kD/4P9YAEgA4ABwAeAA4AD4AYgBEAEgAlACCALAAegBwAIAAwgEyAToBJgFqAWABrgGSAeYB8AHQAloCVgIsAjQCAgI+Ab4BSAFeASIAygDMAE4AHgA0P8I/rD8wPwI/JD6MPpY+kD6EPkA+Qj62Plw+WD7sPwQ/Uj+GAB4AbACIALAAsgC0AFYAjADEATQAqAAeAAoAZgA8P9g/jj9AP1A/ED8wPtY+1D7gPuo+yD8GP0w/hD+aP4A/xgAMP8w/1j/sP/QAKgBQAKIAcgAeAEgATABKABA/3j+SP2A/Hj7OPug+nD6sPrA+UD5MPmQ+VD66PoI+zD7wPxg/WD84Px4/sD/WAAQAGgAQAEwAQgBWAEoATD/8P2Y/aj96P0w/Tj88Pog+fD34PcI+ID3mPZo9vj1APbg9jj48PiI+VD7wP3Q/kD/SAA4ArgE4AaYCDgIyAcYCKgIaAqoC4AL0Ar4CrgJCAkgB7gG6AUQBaAEKAUABSAEoAJAAqgBuAKQA1ADaAI4AnAD2AMQBLgEIAVYBUAFKAboBqgHwAcgCAgJcAmACNAHIAdwBtgEAAVABTgEeALAAngCEAHI/+j/qP5I/tj+gP+o/hD+kP4Y/+D/WADQ/2AAyACwAVADCAQ4BDAEAAT4A2gEKATIAngCwAEAAUAAWP+g/Wj7SPoo+mD5wPfg9pj2SPao9tD30Pdo97j36PeI+BD52Pmw+rD8yP14/ij/MACoAEgB0AA4AfAAyABAAbAACP8o/gD+iP2A/Pj8IPyY+8j6yPrI+tj6YPqA+pD62PuY/OD8GP3Y/Zj+uP9IAGAB+AEgA5AEKAVYBfAFUAZgBegE6AQ4BUgFEARQAygDaAKwAVgBqABQAID/aP8A/8j+uP7o/vj9+Pzw/Rj+WP0Y/ZD9QP0A/bj9eP0o/UD8MPzw+0j8mPyQ/HD8OPzQ+zD7MPsg+1D7gPvI+9j7ePsQ/Hj92P0Y/lD+QP7A/XD+4P94AND/WAAYAWgBoAHQAXABWABgAEABeAGAAZABcAAY/1j/YABYAOD/mP9wAHAAOACYAOAAQAGoAXgBSAHgAXAC0ALIAygEyAOAAxgE2ARABSAFGAUwBcgFkAVABRAEAARwA4gCgAKYAkgDIAN4AngB4ACQAJgAWAEIAeAA6ABoADgAcP8AAMj/GP9w/2j/CP84/qj9eP14/ej8aPw4/BD8MPyY/Kj8UPyg/Ij9EP5w/ij/cP+w/9D/EAC4AHAB4AFoApAC4ALwAkgDkAPAA0gDEAMgA2ACYAHoAAABsADY/6j/8P8o/xj+YP5o/ij+IP6Y/lj+gP4Y/wAAaABQALgAOAFYAVgByAEwAvAC4AJAAoABMAFYAeAA4AA4AMj/0P5A/ij+uP0o/YD8yPto+1j7GPyg+2j72PqQ++j8kP1A/vj+gP+A/+D/8AAYAZAAIAEYAsACAAPQA6gDgAMoA8ACyAIYAmACyAL4AeAAWACAACAAMABAAHgAcADA/8j/SP+w/9j/WAC4AFgAQP+w/kD+EP7Q/Tj+WP6o/ej8aPyg+8j7wPuA+/D62Prg+uj6QPt4+/D6QPt4/OD8kP3o/XD+EP/Y/ygBiAGgAYACAAMoAzAEkARIBMgEEAWwBLADqAKIAlACoAKQApABcAC4/5AA2AAAAFgAiAB4ANAAgAEYApAC4AKwAsgCIAO4AzgE2ASIBSgFYAX4BegFYAUIBQAFsATQA5ACiAI4AuABkAFYAdAAEAAAAAAAYP/g/mj/kP+A/3D/yP+g/4D/6P9AAAgA8P/o/+j/+P9A/0j+4P2Q/jj+KP1w/Ej86PtY++j6OPpg+TD5kPlQ+Zj4MPjo+Oj4EPlA+XD58PmY+nj6cPrI+qD7mPxI/ZD9qP3I/UD+yP6A/5D/GP8A/wD/AP8w/jj+iP44/8j/EAAgAIgAaADIAGAA0ABYARgCqAJIA7gD8ANoBNgEsATQBPgEYAXIBbgFOAWQBNADUANoAgACSAHAAJgAsABw/5j+uP7Q/oj+QP4g/ij+QP7I/nj/WP+I/9j/QAD4AEABiAHYAXACIAOIA/gDcATgA7ADWAMwAzADQAO4AhACGAGYAIAA8P9g//j+AP/w/rD+aP7A/ZD9SP4o/yj/IP8g//D+0P4I/8D/YAD4ADgBcAGYAbABKALIAkAD+AJoAqgBiAGIAfgAuAAIAQABUAEAAYgAKAB4/3D/mP8IAAAAcAAYAPD/oP/I/wgA6P/I/wAAIAAwACgAUABAAJD/MP/w/5D/8P7A/nj++P3I/dD9wP0o/VD9sP3I/Zj9aP0Q/cD8cPyo/OD8AP3I/KD8ePww/Cj8ePyI/Oj7SPs4+4j7sPsY+5D6CPtI+6D7wPtw+yD70PsQ/VD9sP1Y/tD+uP7g/jD/kP+AAIgBeAI4A1ADWATIBBgFYAWoBfgFcAbIBoAH2AfIB/gH6AcoCEgI8AdoB/gGwAZQBoAG0AYwBggFiARIBLADyAKgAvABgAE4AfgAiADA/+D+SP7w/dD9sP2A/cD8kPxo/Ij8iPxw/Oj8OP1A/YD9AP4w/ij+aP7Q/qj/cAAIAXABiAE4AQgBCAGQAWABMAFYAVgBSAHQACAAWP/g/lD/QP8A/0j+oP3w/JD82PwI/VD8gPs4+xD7wPog+6j7+PsQ/AD8yPuI+wj7aPqA+hj7uPsI/BD84PsQ/Fj8EP3I/Tj+qP4o//j/sABYAagBCAI4ApAC6AKwA6gE2ATQBIAE0AQABXAFUAXgBIgE+AN4AxAD6AJwAsgBQAEoAdAAQADo/8j/KAAAAJD/iP/Y//D/SABYAJgAqAC4AOAAMAEoASABcAEIAZgAUAA4AAgAqP+w/hj+oP1g/dD8CPyI+zj78Pqo+ij6ePnQ+Hj4uPgQ+Xj5uPkI+pD6IPvA+2j82Pxg/RD+qP5o/xgASACYAJABWALAAvgCEANwA5ADsAPIA8ADyAMwBEgE+APwA+gDiAMYA5gD8AMoBNgDgAPgArgC8AL4AkADAAMIAwgD0AKwApgCOAL4AQgCGALIAZgBUAEwARgBAAGwAKgA0ABYAOj/sP+w/7j/YP9g/xD/WP9Q/4D/cP94/2j/SP9A/zD/EP9o/9j/KABgAGAAgACQAAABYAGAAXABuAHQAeABGAIwAlgCQAIQAuAByAFwAQgBuAAYAMj/cP/w/hD+iP2A/Yj9mP1g/fD8wPzY/DD9eP2w/bj9CP54/sj+6P5A/4D/EADQABABUAGIAagBwAGgAYgBaAEoAcAASADg/7D/cP/Q/hD+yP1Q/Qj9gPxo/Fj8GPyI+5D72PsI/OD7YPyY/Uj+kP4Y/8D/4ADYAZgCIAPIA3gESAW4BZgFUAUoBbgEkATYA1ADgAJoASgA6P7Q/fj8IPww+zj6+Pjo90D3KPcA9+j2GPeI9yj4oPhw+aj6mPuQ/Pj9cP+gAGgBeALIA6gEgAUABjgGKAZYBqgGyAawBvAFMAWIBFAEkAO4AjACuAHIACgAqP9A//D+qP5g/gD+AP6A/oj+oP4g/5j/6P9AAAgBWAEQAfgAMAGQAbABaAHIAIgAcAAAAED/eP7w/UD9uPxg/BD8ePvI+mj6OPp4+uj6OPuQ+xD80Pyg/Rj+6P6g/5AAqAGAAogDUAToBDgFiAXwBSAGuAbQBqgGWAYgBvAFYAXABEgE4ANQA8ACEALQAVgB+AB4AAgA0P/Y/7j/qP94/6j/2P/g/+D/+P/4//D/8P8gAPD/qP/o/+D/oP9g/4D/cP/4/oD+kP7g/oD++P2g/cj92P0o/jD+EP7g/fD9eP6w/uj+8P74/nD/oP/I/+j/8P8YACAAQACAACAA8P/A/4D/SP9I/xj/wP6g/qD+mP5I/ij+YP5Y/mj+gP6Y/sj+8P6g/yAAWABYADAAcADIAPAACAEwAYABYAEgARABAAHAAIAAiADIAJAAeABgACAA6P/4/zAASAAwAFgAMAAoAHAA0ABIAeABGAJQApgCGAOAA9ADQATABAAFMAVABfAEgASIBPgE2ARYBCAEoAPgAkgC4AFgAcgAYAAIACD/QP7Q/ZD9UP0w/TD9KP3I/JD8wPwQ/Uj9WP1g/aj9oP2o/bD9+P1Y/mD+UP5Y/jD+CP4Y/jD+IP4I/vD94P3A/bD9sP2Y/YD9uP3w/eD94P3o/dD90P2Q/Xj9eP2I/Zj9kP1o/XD9eP1w/Xj9wP0A/gD+8P0I/kD+cP6o/sj+8P4g/6j/WADgAFABkAEAAlACyAJIA5gDwAMABDAEWARwBKAEuASQBFAEGAT4A6gDEAO4AmgCyAFgAeAAoAAYAND/kP8g/5D+MP5A/nj+6P1o/Uj9cP24/cj96P2w/cj94P0Y/lD+aP6A/sD+EP9I/zj/+P7I/tj+4P7g/rD+WP5A/kj+SP5o/lD+eP6Q/nj+kP7I/gj/OP8w/xD/aP+I/5j/eP+Y/7D/2P/g/wAA2P+g/2j/mP+I/1j/cP9w/1D/MP9A/1j/kP8IAMgAIAEoAUABsAFwAjgDmAPgAxgEgAQQBZAFwAWwBbAFsAXQBbgFeAUoBagEQATQA5gD+AJQAqgBMAHoAHAAiABQAND/OP9Q/0j/UP9Q/3j/eP/Q/zgASABoAIAAiACYAKAAgABQAFgAaABoAGAACAB4/wj/cP74/aj9gP1g/Sj9oPxo/GD8GPzw+9D7IPxg/GD8iPyo/Nj8QP2Q/fD9KP6Q/uD+aP+Y/7j/0P/Q//j/OAA4AND/kP+g/9j/0P+4/2D/AP/w/hD/UP+A/8D/6P84AIgAkACgALAA8ABQAXgBsAHwAeABGAIoAiACGALoAQAC+AHwAfABqAEwAegAeAAIANj/sP+A/zj/EP/I/pD+cP5g/kj+sP7Y/vj+MP9w/+D/CADo//D/IACoAPgAOAFIAWgBeAGYAagB0AHoAcgBwAHYAdABuAFoARgBIAEAAeAAsACQAGgAMAAQAAgAIADg/1j/GP+4/oD+kP6Y/rj+kP5A/gD+yP2Q/Uj9GP34/Nj8yPz4/Pj84Pzg/Bj9SP2Y/dD9CP5A/nD+6P5I/4D/oP/Y/zgAmADwAEABaAFgAWgBoAEQAkACMALwAcABcAF4AWABQAEQAegAqABQAEAAIAAoAPj/+P8gAEAAYABoADAAQABYAHgAqACoAOAA+AAQAfgA4ADoAOAA0ADQAKgAgABYACgA8P+g/0j/CP/I/oD+SP4Y/rj9iP1I/fD80Pyg/Ij8oPx4/Ej8MPxg/Jj8kPyw/Pj8SP2Q/bj9AP4o/lj+sP4I/4j/qP+4//j/WACoANAAAAFAAWABkAGwAeABCAIIAmgCgAKQApACkAKgAsACCAMgAyADKAP4AuAC6ALwAvACiAJQAkgCQAIIAugBoAGAAVgBCAGwADAA8P/g/9j/qP9I/yD/IP/o/tj+uP7o/vj+KP8g/yj/AP/w/gj/MP+A/8j/yP/Q//D/8P/g/9j/2P/4//j/2P/g//j/AADw/9D/oP9Y//j+8P4I/yD/QP+I/6D/iP9w/2j/mP+4/7D/0P8QAIAAuADIAMgAEAEIARABMAF4AagBoAHwASgCKAIgAkgCWAJQAkgCUAIoAlACMAL4AcgBYAFoAWABUAHgAJgAcABQACgA0P9w//j+sP6Q/mD+MP4A/vD92P3I/aD9eP2A/ZD9qP3Y/Qj+GP44/oD+wP7o/hD/aP/A//j/OABoAIAAiAC4APAA6ADgACABMAHwAOgAyACwAHAAMAAQAOj/qP+Y/3j/QP8Q//D+qP6Q/pj+mP54/pj+8P4Q/zj/cP+4/wgAMABwAMAAEAE4AYgBqAHAAcAB0AHIAdgB4AHgAdgBqAFwAVgBOAEQAdAAiAB4AEAACADI/7D/mP+g/3j/WP8Y/1D/WP9Y/2D/WP94/1j/SP9w/5D/4P8IABgAGADw/xAAIAAQACgASABoAGgAkACoAJAAkACQAKgAmACwAMgAqACYAGgAYABgAGAAIAAIAPD/yP+Q/2j/OP8A/8j+qP5A/vj9wP2Q/Zj9kP2w/ZD9oP2A/Xj9gP2Q/cj9CP4g/lD+gP7I/hD/SP+Y/+D/EABAAGgAoADYAAAB8AAIASABQAEQARgB6AAAARAB6ACoAIAAYABwAHAAcACQAGAAYABoAGgAUABYAGgAaACIAIgAqACoAMgA0ACwAJAAgACoAPAA6ADYAOgA6ADQAMgAqACgAIAAeABYAFAAWABYACgAGAAgAAgA6P/Q/9D/uP+o/4D/YP9g/2j/WP9I/zD/IP8I/xD/AP8I/wj/CP/w/tj+4P7g/tj+6P4I/0D/cP+w/7j/kP+I/8D/8P8wADgAIAAIAAgAEAAQABgAAAAQAAAAEAA4ADgAAADY/9D/qP+w/4D/YP9A/1j/SP84//j++P7Y/tD+CP8o/wj/0P7o/hj/SP9Y/3D/cP9o/5D/0P8AACgAQABQAIAAyAAAASgBMAFQAbAB+AEwAiACKAIYAiACQAJQAlgCcAJgAjgCIAIIAuAB2AGoAaABgAFQARgB6ACwADgA+P/g/9D/qP9Y/zD/GP8Q/wD/8P7o/gD/CP8I//j+CP/4/jD/WP+A/5j/kP9w/7j/0P/w/xAAGAAYACgAIAAQABAA8P/I/6D/mP+A/4D/YP9A/zj/GP/4/uj+0P4I/9D+wP7Y/uD+6P4Y/1j/cP+A/7D/2P/w/xgAaACwAOAA8AAAARABMAGAAYABaAFIASABCAHQALAAaAAoACAAAADo/6D/iP84//j+6P7o/rj+eP5w/oj+cP6I/nD+oP7A/vD+SP+Q/7D/2P/o/xgAKABgAIgAoAC4ANgA+AAoARgB6ADwAOgA+ADwALAAkABYAFAAQAAoAOj/2P+4/7j/wP/A/7D/qP+Y/5j/qP+Y/5D/mP+Y/5j/0P8IABAA6P/Q/9D/sP+Q/3j/gP+Q/4j/eP9o/zj/IP8Y/xj/MP8w/xj/CP8A/yj/OP9g/2j/kP+w/9j/8P/4/zgAYABwAHgAmACwAJgAmAC4AOAAEAH4ADABIAEIAeAA4ADIALgAoACIAGAAQAAoABgA8P/g/+D/wP+Q/6j/oP+A/3j/UP9Q/1D/UP+A/4D/mP/A/6D/uP+w/7D/oP+w/+j/GAAIAPj/EABIAHAAcABoAIAAiACAAJAAkACIAGAAeACQAFgAMAAoADAAKAA4AEgAUAA4ABgACADo//D/4P/w//D/+P8YABAA+P8QADgASABYAGgAgACYAJAAkADAANgA+ADgAOgA+AD4AAABCAEAAdgA0ADYALgAqACgAJAAiACAAHAAaAAgAAgA8P/g/+D/0P/A/7j/qP+Y/3j/eP94/1j/YP9Y/3j/iP+Q/5D/mP+o/7j/wP/Q/7j/6P8IAPj/EAAAABAAEAAIAPj/EABAAFgAcACAAHgAkACIAHAAcABwAGgAaAB4AFgAMAAAAND/sP+I/3D/OP8I//j+wP6Y/mj+QP74/bj9sP2g/Zj9oP2w/dD96P3I/dD98P0g/mj+uP4Q/zD/gP+o/9D/6P8gAGgAuAAAATgBMAFQAWgBiAGQAZABiAF4AXABmAGQAXgBYAFYARgBIAEQAfgA+ADgAPgAAAHgANAAyADQAMgAoACgALAAyACYAHAAUABQAEgAIAAgAAgAGAAYAAgA4P+w/5j/eP9Q/zj/GP8I//D+4P7g/qj+iP6I/mj+YP5g/oD+oP6o/qD+sP64/rj+6P4A/zD/SP9w/5j/uP+w/7j/2P8IADgAWAB4AKAAqACoALgAyADQANgAuACwAMAA8AAQAfgA4ADQAKgAeABoAFgAUAA4AEAAMAAgAPD/4P/Q/9D/0P/Q/9D/wP/Q/8j/2P/Y/+D/4P8AAAAAGAAgACgASABwAGAAYABQADgASABQAEgAUABIACAAEADw/9j/0P/Y/6j/sP+g/4j/eP9w/1j/OP84/0j/aP9o/2j/eP9o/2D/YP9o/3j/eP+Y/6D/kP+I/4D/eP94/3j/WP9g/2D/eP+Q/5D/sP+o/6D/wP/o//D/CABAAIAAqADgAPgAOAFgAWgBoAG4AcABEAIQAjACIAIIAuAB0AHQAcgBmAGAAWABMAH4ANAAoABgADAAKAAAAPD/0P/Q/7j/0P+w/7j/oP+Q/6j/yP+o/7D/0P+4/7j/sP/I/6j/qP+o/7j/qP+Y/4j/aP9Q/0j/MP9A/zD/OP9Y/1D/WP9A/0D/YP9w/6D/uP/o/wgAQABoAIgAqADoAAABEAE4AVABWAFIATgBKAEAAegA0ADQALgAiABYADAAIAD4/9j/qP+I/2D/YP+A/3D/SP9I/0D/YP9Y/1j/WP9I/3D/eP+I/6D/sP+g/4D/aP9w/3D/aP9Y/0j/UP8w/yj/GP8Y/xj/+P4Y/0D/MP8w/2D/iP+o/8j/CABIAHAAkACgANAAEAEwAUABUAFoAXABYAEoASgBEAH4ANAAqABwAEAAGADY/8j/kP9o/0D/IP8Y/xD/CP/4/vD+CP8o/zj/YP+Y/7D/wP/I/9D/6P8QADAAWABwAJAAcABgAGAAUABQAFAAIAAQAPj/8P/Q/7j/sP+Q/5D/iP+Y/4D/eP+Y/4D/oP/A/9D/AAAAAPj/AAAQACAAEAA4AEgASABAAFgAYABQAFAAMABAABgA6P/o/9D/yP+g/7D/sP+Y/3D/cP9Y/1D/cP9Y/1j/YP9w/3D/eP9Q/0D/MP8Y/xD/IP8w/1D/MP8w/1D/SP84/1D/eP+Y/6D/oP+Y/6j/qP/g/+j/8P/o/wgAEAAYABAAMAA4ADgAOAAwACgAAAAAABgA2P/g/9D/8P/Q/7D/uP+w/9D/wP/o/9j/8P8QAEAAQABYAHgAqADQAAABGAEoAUgBUAFQAUABYAFoAVABQAEoASAB+ADYALAAoACIAHAASABQADgAEAAAABAA+P/w/wAAGAAoACAAQABYAIgAmADAAOAA+AAQASgBIAEoATABOAEgARABGAHoANAAsACQAHAAQAAgAAAAAADA/4j/gP9o/0j/GP8g/yD/CP8I//D+8P7Y/sj+0P7I/rj+wP6o/qD+sP64/tD+yP64/rD+4P7Y/tj+6P7w/vj+EP84/1j/cP+A/4j/sP/Y/xAAMABIAGgAsADoAPgAEAEQAUABQAFYAWgBcAFIATgBUAFIATgBEAH4ANAAsACgAKAAeABQAFAAOAAQABgA8P/Y/9j/8P/g/8D/oP+Q/5D/uP+Y/4D/YP9w/2D/WP9A/0D/IP/4/vD+AP8Y//j+yP64/rj+wP6w/qD+sP6w/qD+qP7I/sj+2P74/ij/MP9Q/2D/cP94/7D/wP/Y/7j/wP/I/9j/+P8AAOD/2P/g/+D/6P8AAPD/0P/o//D/+P8IABAACAAYAEAAQAA4AFAAaACIAJAAqACoAMAA2ADgAOgAEAEAAQgBCAEYARABGAHwAPgAEAHwAOAAuACwAIAAkACAAFgAWAAoACAAIAD4/wAA6P/Q/9D/yP/o//D/2P/Y/7j/2P8AAAgA+P8IABAAOABIAGAAUABIAGAAeABoAFgAUABgADgAUAAwABgACADo/+D/2P/Y/8D/iP9o/1D/WP9Q/0D/KP8Q/yj/GP8g/yD/AP8I/xD/MP84/1D/YP94/4D/qP+4/8j/4P/Y/wgAEAAgACgAMABQAFgAUABYAFAASABQAHgAcABYAFgAUABIADAAQABAAFgAQABIAGAAaABgAHAAcABgAHgAkACgAMAA0ADQAPgA4ADoANgA8ADgANAAyADIAMgAsACoAJAAgABgAFAASABIADgASABIAFAAOAAQAAgACAAIACgAMAAYACAAEAAwACgAMAA4ADgAOABAACgAEAAgAPj/8P/Q/wgAcP9g/2j/cP+Y/1D/MP8I/yD/IP/4/qj+4P74/vD++P7w/vj+AP8g/xj/QP9Q/2D/aP+A/4j/eP94/4j/wP/A/7j/0P/A/9j/uP+w/4D/eP+I/6D/kP+Y/2j/cP94/3D/cP+A/4D/eP+Q/5D/qP+w/8D/2P/g/wgAAAAoADgASABgAHAAkACgALgA0ADIAMAAwADIAMAA0ADQALgAoACgAHgAcABYADgAOAA4ABgA+P/o/8D/uP/A/6j/oP+Q/7D/uP+w/6D/qP/I/+D/CAAQAAgAGAAoADgAUABQAGAAYABgAFgAcABQAEgAUABgADAAKAAAAAAA6P/o/+D/2P+o/5D/kP94/4D/WP9Y/1D/WP9w/3j/kP+Y/5j/mP+o/8j/+P8QACgAQABYAGAAWABYAEgAUABoAIAAcABYAFAAUAA4AEgAUABIAEAAUABQAEgAOAAoAEAAQABgAHgAiAB4AHAAcACAAIAAkACIAHgAeABwAGAAgABwAFgAOABAADAAOAAgACAAKAAoACgAEAAYAAAA8P/4/+D/0P/g/9D/wP+o/6D/mP+Y/5D/kP+Q/4j/gP+Q/5j/kP+Y/4D/mP+Y/6j/wP/I//j/AAAAAPD/CAAYABgAIAAoADgAOABIAGAAaABwAHAAaACAAIgAeABwAHAAcABwAHAAeACAAIAAeACQAJgAoACoALgAsACYAJgAkACYAIAAgABwAGAAWABAACgA+P8AANj/sP+Y/2D/QP8Q//D+4P6w/rD+kP6I/oD+kP6Q/oj+gP6o/tD+AP8Y/1D/WP+Y/6D/yP8IACgAaAB4AJAAwADAANgA0ADYAOAA0ADQAMAAyADIAKgAoACIAGgAQAAwADgAQAAoADgAMAAoABgAKAA4AFgAaABoAIAAoADIAMgA8ADgAOAA4AAIAegA6ADoAOgAwACwAIAAaABAABgAEAAAAMD/oP+Q/3j/YP9Q/zD/MP8Y/wj/IP8Q/yD/MP9I/0D/WP9Y/3j/qP+o/8j/yP/w//j/CAAIABgAKAAoACgAIAAgABgAKAAgABAAGAAQAAgAEAAQAPD/8P/o/9D/yP/A/8j/qP+Y/3j/gP+Y/3D/eP9o/2j/YP9I/2D/OP8w/0D/OP8w/zj/IP8Y/xj/EP8Q/xj/CP8I/xj/MP8g/yj/IP8w/0j/QP9Y/2D/cP+A/4j/mP+4/7j/0P/g/wAAEAAQABAAIAAgAEAAQAA4AFAAMAA4ACgAOAA4ADgAMAA4ADAAKAAoADAAQAA4ACgASAA4ADAAKAAwAEgAOABAAEAAOABAAEAAUABAAFAAOAAwACAAEAAIAAgA+P/o/9j/0P/A/7D/sP+Q/6D/mP+I/5D/iP+Q/5D/iP+Y/5D/kP+o/7D/sP/Y/9D/4P/g//D/+P/4/wgACAD4/wgA+P/w/wAA+P/o/+j/yP/I/8j/sP+w/6j/sP+w/6j/oP+g/7D/yP+4/9D/6P/g//D/AAAIABgAQABYAGAAaACQAJgAqACwAJAAoACQAKAAkACoAJgAiABwAGgAYABoAHAAUABQAEAASABQAFgASABYAFAAYABwAIgAiACIAJAAoACoALAAqAC4ANAA0ADQAMgAuACgAJgAkABwAFAASABAADAACADw/9j/yP+w/5D/eP9w/2D/WP9Q/2j/UP9Y/1D/cP+A/3j/kP+o/7j/0P/o/xAAIAAgACgAOABAAHgAiACQAJAAoACgAKgAmACgALgAsADAALgAuAC4ALgAuADAAMgAuADAALAAsAC4ALgA0ACwAKgAoACYAJAAoACQAIgAcABoAEAAKAAoABAAIAAQABAACAAAAOD/2P/Q/9j/2P/Q/8j/sP/A/7j/wP+4/7j/wP/I/9j/yP/o/+D/8P/Y//D/8P/Y/9j/6P/w/wAA8P/g/+D/6P/Y//D/6P/g/+j/8P/w//D/8P/w//D/AAAAAOj/2P/w/+j/8P/o//D/6P/Q/+D/2P+4/8D/uP+w/4D/mP+I/4D/cP9w/3D/YP+A/3j/eP+I/6D/mP+w/6D/qP/Q/9D/2P/Y/9j/4P/Y/9j/2P/Y/8j/uP+w/5j/oP94/3j/aP9o/0j/SP9A/0D/MP9A/zD/KP84/0j/UP9Y/2j/gP94/5j/oP+w/9D/8P/w/xAAOABIAFAAUABoAFgAcACAAJAAgAB4AIAAcABoAFAASABAAEAAIAAAAAAA8P/g/9j/4P/Q/8D/sP+w/7j/sP+4/8D/uP/I/9j/0P/g/+j/8P8AABAAEAAQACgAQABAACgAMAAoACgAMAAwACgAIAAIABAA+P/w//D/+P/g/9j/yP+g/7D/qP+Y/4j/oP9o/4D/iP+g/6D/mP+o/6j/oP+w/7j/0P/Y/+j/4P/w/+j/+P8AAAAAEAAoABgAGAAYAAgACAAIABgAKAAoADAAOAA4AEgASABQAFAAYABYAGgAgACQAJAAkACQAIgAkAB4AHgAeACAAHAAWABQAFgAKAAgAAgA+P/o/9D/uP+I/4j/eP9Y/0D/WP84/0j/SP9Y/1D/WP9o/3D/eP+I/6D/sP/I/+D/4P/w/wgACAAYABgAMAA4AEgAQABAAFAAWABYAFAAYABYAEgASABYAEAAUABgAGAAWABQAGgAcABoAGgAaACAAHgAgACAAIgAiACIAJAAiACAAHAAYABgAFgAOAA4ACAAEADw/wAA+P/o/+D/yP/I/7j/sP+g/5D/oP+o/5D/oP+g/4j/iP+A/5j/sP/A/8j/yP/I/+j/2P/w/wAA8P8AAAgAKAAgACAAOAAwADgAQABAAEAAQABYAFAAUABQAFAAYABYAFgAWAAwAEAAOAAwADgAKAAoADAAKAAoABAACAAIAPD/8P/o/9j/2P+w/7D/sP+g/5D/iP+A/3j/cP9w/3D/aP9g/2j/eP94/5j/kP+o/7j/4P/w/wAAGABIAFAAcAB4AJAAkACYALAAoACoAJgAmACAAHAAaABYAFAAMAAwABAAAADw/+j/8P/Y/9D/uP+4/7j/wP+w/9D/0P/o/+j/AAAAABgAOAA4ACgASABIAEgAUABYAEgAQAAgABAAIAAAAAgAAADY/7D/sP+Q/5D/iP94/5D/cP9w/3D/cP94/3j/iP+Q/5j/sP/A/9D/wP/Q/9D/8P/o/wAA8P/w/wAACAAAAAAACAAIAAgAAAAAAAAACAAQAAgAEAAQABgAGAAQACAAMAAgADAAOABIAFAASABQAFAASABIAEAAQABAACgAIAAgABgAEAAIAAAACAAIAAgAAAAQABAACAAYACAAMAAoACgAQABIAFAAUABwAHgAcAB4AIAAgABwAHAAaAB4AGAASAAwACAAGAAAAOD/wP+w/6D/gP9w/0j/OP84/yD/GP8Y/xj/EP8I/yD/GP8Y/zD/MP9A/0j/WP9o/3D/gP+Y/7D/wP/I/9j/6P/o/+j/8P/w//D/EAAQABgAEAAgADAAOABIAEAAOABAAEgAOABQAFAASABAAFAAOABIADgAMAAgABgAMAAgAAAAGAAIAAgACAAQAAgACAAIABgAKAA4AFAAWABQAHAAeACQAKgAsACoAKgAsACoAJAAqACIAHgAeABYAEgAMAAgAAgAAADY/8j/oP+Y/5j/kP+I/3j/eP9w/2D/aP9o/3j/eP+A/5j/sP/A/8D/2P/o//D/CAAIAAgAEAAQABAAIAAgABAAEAAQAPj/8P/Y/+j/0P/Q/9D/uP+4/7D/sP+o/7j/qP/Q/8D/yP/A/9D/8P/o/wAAEAAQACgAEAAoABAAKAA4ADAAMAAgACAAAAAAAPD/+P/w/9j/wP/A/7j/oP+g/6D/mP+o/7j/qP+Y/7D/wP/I//D/+P8IACAAKAA4AEAASABgAFgAYABwAHAAcABoAFAAOAAoACAAEAAIAPD/6P/I/+D/uP+w/5j/mP+A/5D/mP+Q/6D/kP+w/8j/0P/w/9j/8P8AAAAACAAYACAAQAA4AEAASAAwADAAIAAoADAAMAAoACAAEAAQABAAEAAIAAAAEAAIAPj/AAD4/wAAEAAAACAAKAAwACAAKAAwADgAMAA4ADgAQABQAFgAUABgAIAAWABYAGAAUABQAFAAQAA4ADgAIAAoABAAEAAwADgAMAAgADgASABIAEgAUABIAFAAUABQAFAAUABIADgAMAA4AEAAMAAYACAAGAAgABAAAAAAAAAAAADw//D/+P/o/+D/2P/o//D/6P/w//j/+P/w/wAAEAAQABgAIAAYACAAIAAYABgAEAD4/wgA6P/Y/9D/0P+4/5j/oP+I/3D/cP9g/1j/WP9g/2j/YP9Y/2D/cP94/4j/mP+g/6D/uP/A/9D/4P/w//D/EAAYADAAOAA4AFAAaABYAGgAaABoAHgAeABwAHAAaABoAFgAWABgAHgAUABYAFAASAAwAEgASABAADgAKAAoACgAEAAQABAA+P/o/+j/4P/g/9j/yP/A/7D/sP+o/6j/qP+g/5j/kP+Q/4j/mP+Q/5j/mP+w/7D/qP+4/8D/6P/o//D/6P/w//D/+P/w/wAA+P/4/wAA8P/o/8j/6P/Q/8j/0P+4/7D/uP/A/8D/yP/I/9D/0P/o/+D/AAAYACAAMABAAFAAcABoAHAAcAB4AIAAiACAAJAAgACAAHgAcABYAEAAMAAYAAgA+P/w/9D/yP+w/6j/sP+g/5j/mP+Q/5j/mP+Y/6D/sP/A/8D/2P/Y/8D/+P/4/wgAAAAIAAgAGAAgABAAKAAQAAgAEAAYABgAEAAIABAAEAAIABAACAAAAAAA+P8AAOj/+P/w/wAA+P/o//D/+P/4/wAAAADw/wAA8P/o//D/6P/o/9j/8P/o//D/0P/Q/9j/0P/w/+j/8P/4/wgAEAAQABgAKAA4ADgASABQAEgAaABoAHAAcABoAHgAcABoAFAAWABQAEgAIAAoABgACADw/+j/yP/A/7j/uP+w/5j/iP+Q/6D/oP+w/8D/uP/A/8j/0P/g/8D/2P/Q/8D/0P/g/9D/2P/A/9D/uP/Q/8j/yP/Q/9D/yP/Q/7j/uP/A/9j/0P/Y/+D/2P/w/wAAEAAQACAAMAAwAFAAWABQAGAAaABwAHgAeACAAHAAiACQAIgAcABoAGAAUABQAEgAQABAAEAAMAAYABgACAAAAPD/6P/Y/+D/4P/I/9D/uP+g/7D/oP+g/5j/mP+g/6j/oP+g/7D/wP+w/7D/qP+w/8D/yP/Y/9D/0P/Q/9D/2P/Y/+D/6P/w/wAA8P/w//j/AAAIABAAGAAoACAAGAAYABAAEAAoABgACAAQACAACAAAAPD/6P/w/+j/6P/o/8j/uP/A/7j/oP+g/6D/mP+Q/6D/mP+Y/5D/kP+Q/5j/oP+o/8D/wP/g/+j/2P/w//D/AABMSVNUFAAAAElORk9JU0ZUCAAAAEZpc3Npb24A\" type=\"audio/x-wav\" />\n",
       "                    Your browser does not support the audio element.\n",
       "                </audio>\n",
       "              "
      ],
      "text/plain": [
       "<IPython.lib.display.Audio object>"
      ]
     },
     "execution_count": 18,
     "metadata": {},
     "output_type": "execute_result"
    }
   ],
   "source": [
    "# from IPython.display import Audio\n",
    "# sound_file = \"bottle_pop_2.wav\"\n",
    "# Audio(filename=sound_file, autoplay=True)"
   ]
  },
  {
   "cell_type": "code",
   "execution_count": 192,
   "metadata": {},
   "outputs": [],
   "source": [
    "# question = '<p>I am trying to get my application an installer via WiX 3.0. The exact code is:</p>\\n\\n<p></p>\\n\\n<pre><code>&lt;File Id=\"ServiceComponentMain\" Name=\"$(var.myProgramService.TargetFileName)\" Source=\"$(var.myProgramService.TargetPath)\" DiskId=\"1\" Vital=\"yes\"/&gt;\\n\\n&lt;!-- service will need to be installed under Local Service --&gt;\\n&lt;ServiceInstall\\n\\t\\t\\t\\t\\t\\tId=\"MyProgramServiceInstaller\"\\n\\t\\t\\t\\t\\t\\tType=\"ownProcess\"\\n\\t\\t\\t\\t\\t\\tVital=\"yes\"\\n\\t\\t\\t\\t\\t\\tName=\"MyProgramAddon\"\\n\\t\\t\\t\\t\\t\\tDisplayName=\"[removed]\"\\n\\t\\t\\t\\t\\t\\tDescription=\"[removed]\"\\n\\t\\t\\t\\t\\t\\tStart=\"auto\"\\n\\t\\t\\t\\t\\t\\tAccount=\"LocalService\"\\n\\t\\t\\t\\t\\t\\tErrorControl=\"ignore\"\\n\\t\\t\\t\\t\\t\\tInteractive=\"no\"/&gt;\\n&lt;ServiceControl Id=\"StartDDService\" Name=\"MyProgramServiceInstaller\" Start=\"install\" Wait=\"no\" /&gt;\\n&lt;ServiceControl Id=\"StopDDService\" Name=\"MyProgramServiceInstaller\" Stop=\"both\" Wait=\"yes\" Remove=\"uninstall\" /&gt;\\n</code></pre>\\n\\n<p></p>\\n\\n<p>Thing is, for some reason LocalService fails on the \"Installing services\" step, and if I change it to \"LocalSystem\" then the installer times out while trying to start the service.</p>\\n\\n<p>The service starts fine manually and at system startup, and for all intents and purposes works great. I\\'ve heard there are issues getting services to work right under LocalService, but Google isnt really helping as everyone\\'s responses have been \"got it to work kthx\".</p>\\n\\n<p>Just looking to get this service set up and started during installation, that\\'s all. Any help? Thanks!</p>\\n'\n",
    "# question_cleaned = BeautifulSoup(question,\"html.parser\").get_text()\n",
    "# question_cleaned = clean_punct(question_cleaned)"
   ]
  },
  {
   "cell_type": "code",
   "execution_count": 20,
   "metadata": {},
   "outputs": [],
   "source": [
    "def pred_similar(question):\n",
    "    question_cleaned = BeautifulSoup(question,\"html.parser\").get_text()\n",
    "    question_cleaned = clean_punct(question_cleaned)\n",
    "\n",
    "    testVector = vect.transform(pd.Series(question_cleaned))\n",
    "    from sklearn.neighbors import NearestNeighbors\n",
    "    from sklearn.metrics.pairwise import cosine_similarity\n",
    "    # #model_knn = NearestNeighbors(n_neighbors=5,metric=\"cosine\").fit(question_cleaned)\n",
    "    # distances, indices = model_knn.kneighbors(testVector)\n",
    "    #testVector\n",
    "    sim = cosine_similarity(testVector,x_train)\n",
    "    \n",
    "    temp = []\n",
    "    # now create dictionary adding indices to it\n",
    "    inds = np.arange(0,10000)\n",
    "    for row in sim: \n",
    "        temp.append(list(zip(inds,row)))\n",
    "\n",
    "    sortedSims = []\n",
    "    for row in temp:\n",
    "        row.sort(key = lambda kv:kv[1], reverse=True)\n",
    "        sortedSims.append(row)\n",
    "        \n",
    "    \n",
    "    five_similar = []\n",
    "    for i in range(0,5):\n",
    "        five_similar.append(test[sortedSims[0][i][0]])\n",
    "    #similar_question1 = test[sortedSims[0][0][0]]\n",
    "    \n",
    "    #return similar_question1\n",
    "    \n",
    "    return five_similar\n",
    "\n",
    "        \n",
    "    \n",
    "\n",
    "        "
   ]
  },
  {
   "cell_type": "code",
   "execution_count": 33,
   "metadata": {},
   "outputs": [
    {
     "name": "stderr",
     "output_type": "stream",
     "text": [
      " * Running on http://127.0.0.1:5000/ (Press CTRL+C to quit)\n",
      "127.0.0.1 - - [02/Dec/2019 20:48:17] \"GET / HTTP/1.1\" 200 -\n",
      "127.0.0.1 - - [02/Dec/2019 20:48:23] \"POST / HTTP/1.1\" 200 -\n"
     ]
    }
   ],
   "source": [
    "from flask import Flask\n",
    "from flask import request\n",
    "from flask import render_template\n",
    "app = Flask(__name__, template_folder = 'templates')\n",
    "\n",
    "@app.route('/', methods=['GET', 'POST'])\n",
    "def index():\n",
    "    if request.method == 'GET':\n",
    "        return render_template('index.html')\n",
    "    else:\n",
    "        #tagg = request.form['tag']   \n",
    "        question = request.form.get('tagg')\n",
    "        #similar_quest = \"Asas\"\n",
    "        similar_quest = pred_similar(question)\n",
    "        #similar_questions = get_similar()\n",
    "        return render_template('index.html', similarquestion_1=similar_quest[0], similarquestion_2=similar_quest[1], similarquestion_3=similar_quest[2], similarquestion_4=similar_quest[3], similarquestion_5=similar_quest[4])\n",
    "   \n",
    "if __name__ == \"__main__\":\n",
    "    app.run()"
   ]
  }
 ],
 "metadata": {
  "kernelspec": {
   "display_name": "Python 3",
   "language": "python",
   "name": "python3"
  },
  "language_info": {
   "codemirror_mode": {
    "name": "ipython",
    "version": 3
   },
   "file_extension": ".py",
   "mimetype": "text/x-python",
   "name": "python",
   "nbconvert_exporter": "python",
   "pygments_lexer": "ipython3",
   "version": "3.7.0"
  }
 },
 "nbformat": 4,
 "nbformat_minor": 2
}
